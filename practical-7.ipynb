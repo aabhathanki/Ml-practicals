{
 "cells": [
  {
   "cell_type": "code",
   "execution_count": 1,
   "id": "b9a3e482",
   "metadata": {
    "execution": {
     "iopub.execute_input": "2023-11-06T02:55:12.774323Z",
     "iopub.status.busy": "2023-11-06T02:55:12.773895Z",
     "iopub.status.idle": "2023-11-06T02:55:13.201543Z",
     "shell.execute_reply": "2023-11-06T02:55:13.200590Z"
    },
    "papermill": {
     "duration": 0.436217,
     "end_time": "2023-11-06T02:55:13.204208",
     "exception": false,
     "start_time": "2023-11-06T02:55:12.767991",
     "status": "completed"
    },
    "tags": []
   },
   "outputs": [],
   "source": [
    "#Thanki Aabha Praful\n",
    "#216270307001\n",
    "import pandas as pd"
   ]
  },
  {
   "cell_type": "markdown",
   "id": "2ad7d0ba",
   "metadata": {
    "_cell_guid": "b1076dfc-b9ad-4769-8c92-a6c4dae69d19",
    "_uuid": "8f2839f25d086af736a60e9eeb907d3b93b6e0e5",
    "papermill": {
     "duration": 0.003434,
     "end_time": "2023-11-06T02:55:13.213683",
     "exception": false,
     "start_time": "2023-11-06T02:55:13.210249",
     "status": "completed"
    },
    "tags": []
   },
   "source": [
    "# To create a dataframe from a dictionary and display it:"
   ]
  },
  {
   "cell_type": "code",
   "execution_count": 2,
   "id": "ec353317",
   "metadata": {
    "execution": {
     "iopub.execute_input": "2023-11-06T02:55:13.223304Z",
     "iopub.status.busy": "2023-11-06T02:55:13.222416Z",
     "iopub.status.idle": "2023-11-06T02:55:13.240862Z",
     "shell.execute_reply": "2023-11-06T02:55:13.239795Z"
    },
    "papermill": {
     "duration": 0.026097,
     "end_time": "2023-11-06T02:55:13.243492",
     "exception": false,
     "start_time": "2023-11-06T02:55:13.217395",
     "status": "completed"
    },
    "tags": []
   },
   "outputs": [
    {
     "name": "stdout",
     "output_type": "stream",
     "text": [
      "    Name  enroll\n",
      "0  Aabha       1\n",
      "1  Heena       9\n",
      "2  Disha      24\n"
     ]
    }
   ],
   "source": [
    "clg = {\n",
    " 'Name' : ['Aabha', 'Heena', 'Disha'],\n",
    " 'enroll' : [1,9,24]\n",
    "}\n",
    "# creating a Dataframe object \n",
    "df = pd.DataFrame(clg)\n",
    "print(df)"
   ]
  },
  {
   "cell_type": "markdown",
   "id": "66e01e42",
   "metadata": {
    "papermill": {
     "duration": 0.00367,
     "end_time": "2023-11-06T02:55:13.251090",
     "exception": false,
     "start_time": "2023-11-06T02:55:13.247420",
     "status": "completed"
    },
    "tags": []
   },
   "source": [
    "# To sort the DataFrame first by 'name' in ascending order:"
   ]
  },
  {
   "cell_type": "code",
   "execution_count": 3,
   "id": "7ecc65c5",
   "metadata": {
    "execution": {
     "iopub.execute_input": "2023-11-06T02:55:13.261475Z",
     "iopub.status.busy": "2023-11-06T02:55:13.260352Z",
     "iopub.status.idle": "2023-11-06T02:55:13.276438Z",
     "shell.execute_reply": "2023-11-06T02:55:13.275312Z"
    },
    "papermill": {
     "duration": 0.023977,
     "end_time": "2023-11-06T02:55:13.279108",
     "exception": false,
     "start_time": "2023-11-06T02:55:13.255131",
     "status": "completed"
    },
    "tags": []
   },
   "outputs": [
    {
     "name": "stdout",
     "output_type": "stream",
     "text": [
      "    Name  enroll\n",
      "0  Aabha       1\n",
      "2  Disha      24\n",
      "1  Heena       9\n"
     ]
    }
   ],
   "source": [
    "sort=df.sort_values(by='Name',ascending=True)\n",
    "print(sort)"
   ]
  },
  {
   "cell_type": "markdown",
   "id": "2cf58ce5",
   "metadata": {
    "papermill": {
     "duration": 0.003692,
     "end_time": "2023-11-06T02:55:13.286800",
     "exception": false,
     "start_time": "2023-11-06T02:55:13.283108",
     "status": "completed"
    },
    "tags": []
   },
   "source": [
    "# To delete the one specific column from the DataFrame:"
   ]
  },
  {
   "cell_type": "code",
   "execution_count": 4,
   "id": "863e0341",
   "metadata": {
    "execution": {
     "iopub.execute_input": "2023-11-06T02:55:13.297029Z",
     "iopub.status.busy": "2023-11-06T02:55:13.295970Z",
     "iopub.status.idle": "2023-11-06T02:55:13.309273Z",
     "shell.execute_reply": "2023-11-06T02:55:13.308115Z"
    },
    "papermill": {
     "duration": 0.021419,
     "end_time": "2023-11-06T02:55:13.312146",
     "exception": false,
     "start_time": "2023-11-06T02:55:13.290727",
     "status": "completed"
    },
    "tags": []
   },
   "outputs": [
    {
     "name": "stdout",
     "output_type": "stream",
     "text": [
      "    Name\n",
      "0  Aabha\n",
      "1  Heena\n",
      "2  Disha\n"
     ]
    }
   ],
   "source": [
    "print(df.drop(['enroll'], axis=1))"
   ]
  },
  {
   "cell_type": "markdown",
   "id": "931e43b0",
   "metadata": {
    "papermill": {
     "duration": 0.003924,
     "end_time": "2023-11-06T02:55:13.320173",
     "exception": false,
     "start_time": "2023-11-06T02:55:13.316249",
     "status": "completed"
    },
    "tags": []
   },
   "source": [
    "# To write a DataFrame to CSV file using tab separator:"
   ]
  },
  {
   "cell_type": "code",
   "execution_count": 5,
   "id": "3d2a6823",
   "metadata": {
    "execution": {
     "iopub.execute_input": "2023-11-06T02:55:13.330140Z",
     "iopub.status.busy": "2023-11-06T02:55:13.329733Z",
     "iopub.status.idle": "2023-11-06T02:55:13.340545Z",
     "shell.execute_reply": "2023-11-06T02:55:13.339690Z"
    },
    "papermill": {
     "duration": 0.018902,
     "end_time": "2023-11-06T02:55:13.343128",
     "exception": false,
     "start_time": "2023-11-06T02:55:13.324226",
     "status": "completed"
    },
    "tags": []
   },
   "outputs": [],
   "source": [
    "file_path = '/kaggle/working/dat.csv'\n",
    "\n",
    "# Write the DataFrame to a CSV file with a tab separator\n",
    "df.to_csv(file_path, sep='\\t')\n"
   ]
  },
  {
   "cell_type": "code",
   "execution_count": null,
   "id": "8efbd593",
   "metadata": {
    "papermill": {
     "duration": 0.004025,
     "end_time": "2023-11-06T02:55:13.351405",
     "exception": false,
     "start_time": "2023-11-06T02:55:13.347380",
     "status": "completed"
    },
    "tags": []
   },
   "outputs": [],
   "source": []
  }
 ],
 "metadata": {
  "kernelspec": {
   "display_name": "Python 3",
   "language": "python",
   "name": "python3"
  },
  "language_info": {
   "codemirror_mode": {
    "name": "ipython",
    "version": 3
   },
   "file_extension": ".py",
   "mimetype": "text/x-python",
   "name": "python",
   "nbconvert_exporter": "python",
   "pygments_lexer": "ipython3",
   "version": "3.10.12"
  },
  "papermill": {
   "default_parameters": {},
   "duration": 4.809817,
   "end_time": "2023-11-06T02:55:13.876975",
   "environment_variables": {},
   "exception": null,
   "input_path": "__notebook__.ipynb",
   "output_path": "__notebook__.ipynb",
   "parameters": {},
   "start_time": "2023-11-06T02:55:09.067158",
   "version": "2.4.0"
  }
 },
 "nbformat": 4,
 "nbformat_minor": 5
}
