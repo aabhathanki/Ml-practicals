{
 "cells": [
  {
   "cell_type": "code",
   "execution_count": 1,
   "id": "3c59b484",
   "metadata": {
    "execution": {
     "iopub.execute_input": "2023-11-04T15:36:13.388229Z",
     "iopub.status.busy": "2023-11-04T15:36:13.387801Z",
     "iopub.status.idle": "2023-11-04T15:36:14.977199Z",
     "shell.execute_reply": "2023-11-04T15:36:14.976137Z"
    },
    "papermill": {
     "duration": 1.603932,
     "end_time": "2023-11-04T15:36:14.979949",
     "exception": false,
     "start_time": "2023-11-04T15:36:13.376017",
     "status": "completed"
    },
    "tags": []
   },
   "outputs": [],
   "source": [
    "import pandas as pd\n",
    "from sklearn.preprocessing import StandardScaler\n",
    "from sklearn.model_selection import train_test_split\n",
    "from sklearn.metrics import accuracy_score\n",
    "from IPython.display import display\n",
    "import warnings"
   ]
  },
  {
   "cell_type": "markdown",
   "id": "ab6a5ff4",
   "metadata": {
    "papermill": {
     "duration": 0.00849,
     "end_time": "2023-11-04T15:36:14.997555",
     "exception": false,
     "start_time": "2023-11-04T15:36:14.989065",
     "status": "completed"
    },
    "tags": []
   },
   "source": [
    "Data Collection & Preprocessing"
   ]
  },
  {
   "cell_type": "code",
   "execution_count": 2,
   "id": "d00ae060",
   "metadata": {
    "execution": {
     "iopub.execute_input": "2023-11-04T15:36:15.017405Z",
     "iopub.status.busy": "2023-11-04T15:36:15.016606Z",
     "iopub.status.idle": "2023-11-04T15:36:15.037151Z",
     "shell.execute_reply": "2023-11-04T15:36:15.036240Z"
    },
    "papermill": {
     "duration": 0.032984,
     "end_time": "2023-11-04T15:36:15.039413",
     "exception": false,
     "start_time": "2023-11-04T15:36:15.006429",
     "status": "completed"
    },
    "tags": []
   },
   "outputs": [],
   "source": [
    "# loading dataset\n",
    "data = pd.read_csv('/kaggle/input/diabetes-dataset/diabetes.csv')"
   ]
  },
  {
   "cell_type": "code",
   "execution_count": 3,
   "id": "ec2a1a2d",
   "metadata": {
    "execution": {
     "iopub.execute_input": "2023-11-04T15:36:15.059442Z",
     "iopub.status.busy": "2023-11-04T15:36:15.058801Z",
     "iopub.status.idle": "2023-11-04T15:36:15.082932Z",
     "shell.execute_reply": "2023-11-04T15:36:15.081884Z"
    },
    "papermill": {
     "duration": 0.036856,
     "end_time": "2023-11-04T15:36:15.085150",
     "exception": false,
     "start_time": "2023-11-04T15:36:15.048294",
     "status": "completed"
    },
    "tags": []
   },
   "outputs": [
    {
     "data": {
      "text/html": [
       "<div>\n",
       "<style scoped>\n",
       "    .dataframe tbody tr th:only-of-type {\n",
       "        vertical-align: middle;\n",
       "    }\n",
       "\n",
       "    .dataframe tbody tr th {\n",
       "        vertical-align: top;\n",
       "    }\n",
       "\n",
       "    .dataframe thead th {\n",
       "        text-align: right;\n",
       "    }\n",
       "</style>\n",
       "<table border=\"1\" class=\"dataframe\">\n",
       "  <thead>\n",
       "    <tr style=\"text-align: right;\">\n",
       "      <th></th>\n",
       "      <th>Pregnancies</th>\n",
       "      <th>Glucose</th>\n",
       "      <th>BloodPressure</th>\n",
       "      <th>SkinThickness</th>\n",
       "      <th>Insulin</th>\n",
       "      <th>BMI</th>\n",
       "      <th>DiabetesPedigreeFunction</th>\n",
       "      <th>Age</th>\n",
       "      <th>Outcome</th>\n",
       "    </tr>\n",
       "  </thead>\n",
       "  <tbody>\n",
       "    <tr>\n",
       "      <th>0</th>\n",
       "      <td>6</td>\n",
       "      <td>148</td>\n",
       "      <td>72</td>\n",
       "      <td>35</td>\n",
       "      <td>0</td>\n",
       "      <td>33.6</td>\n",
       "      <td>0.627</td>\n",
       "      <td>50</td>\n",
       "      <td>1</td>\n",
       "    </tr>\n",
       "    <tr>\n",
       "      <th>1</th>\n",
       "      <td>1</td>\n",
       "      <td>85</td>\n",
       "      <td>66</td>\n",
       "      <td>29</td>\n",
       "      <td>0</td>\n",
       "      <td>26.6</td>\n",
       "      <td>0.351</td>\n",
       "      <td>31</td>\n",
       "      <td>0</td>\n",
       "    </tr>\n",
       "    <tr>\n",
       "      <th>2</th>\n",
       "      <td>8</td>\n",
       "      <td>183</td>\n",
       "      <td>64</td>\n",
       "      <td>0</td>\n",
       "      <td>0</td>\n",
       "      <td>23.3</td>\n",
       "      <td>0.672</td>\n",
       "      <td>32</td>\n",
       "      <td>1</td>\n",
       "    </tr>\n",
       "    <tr>\n",
       "      <th>3</th>\n",
       "      <td>1</td>\n",
       "      <td>89</td>\n",
       "      <td>66</td>\n",
       "      <td>23</td>\n",
       "      <td>94</td>\n",
       "      <td>28.1</td>\n",
       "      <td>0.167</td>\n",
       "      <td>21</td>\n",
       "      <td>0</td>\n",
       "    </tr>\n",
       "    <tr>\n",
       "      <th>4</th>\n",
       "      <td>0</td>\n",
       "      <td>137</td>\n",
       "      <td>40</td>\n",
       "      <td>35</td>\n",
       "      <td>168</td>\n",
       "      <td>43.1</td>\n",
       "      <td>2.288</td>\n",
       "      <td>33</td>\n",
       "      <td>1</td>\n",
       "    </tr>\n",
       "  </tbody>\n",
       "</table>\n",
       "</div>"
      ],
      "text/plain": [
       "   Pregnancies  Glucose  BloodPressure  SkinThickness  Insulin   BMI  \\\n",
       "0            6      148             72             35        0  33.6   \n",
       "1            1       85             66             29        0  26.6   \n",
       "2            8      183             64              0        0  23.3   \n",
       "3            1       89             66             23       94  28.1   \n",
       "4            0      137             40             35      168  43.1   \n",
       "\n",
       "   DiabetesPedigreeFunction  Age  Outcome  \n",
       "0                     0.627   50        1  \n",
       "1                     0.351   31        0  \n",
       "2                     0.672   32        1  \n",
       "3                     0.167   21        0  \n",
       "4                     2.288   33        1  "
      ]
     },
     "execution_count": 3,
     "metadata": {},
     "output_type": "execute_result"
    }
   ],
   "source": [
    "data.head()"
   ]
  },
  {
   "cell_type": "code",
   "execution_count": 4,
   "id": "306e7161",
   "metadata": {
    "execution": {
     "iopub.execute_input": "2023-11-04T15:36:15.105211Z",
     "iopub.status.busy": "2023-11-04T15:36:15.104592Z",
     "iopub.status.idle": "2023-11-04T15:36:15.110501Z",
     "shell.execute_reply": "2023-11-04T15:36:15.109733Z"
    },
    "papermill": {
     "duration": 0.018163,
     "end_time": "2023-11-04T15:36:15.112419",
     "exception": false,
     "start_time": "2023-11-04T15:36:15.094256",
     "status": "completed"
    },
    "tags": []
   },
   "outputs": [
    {
     "data": {
      "text/plain": [
       "(768, 9)"
      ]
     },
     "execution_count": 4,
     "metadata": {},
     "output_type": "execute_result"
    }
   ],
   "source": [
    "# number of rows and column\n",
    "data.shape"
   ]
  },
  {
   "cell_type": "code",
   "execution_count": 5,
   "id": "67b31cf1",
   "metadata": {
    "execution": {
     "iopub.execute_input": "2023-11-04T15:36:15.132435Z",
     "iopub.status.busy": "2023-11-04T15:36:15.131830Z",
     "iopub.status.idle": "2023-11-04T15:36:15.169210Z",
     "shell.execute_reply": "2023-11-04T15:36:15.168091Z"
    },
    "papermill": {
     "duration": 0.050005,
     "end_time": "2023-11-04T15:36:15.171431",
     "exception": false,
     "start_time": "2023-11-04T15:36:15.121426",
     "status": "completed"
    },
    "tags": []
   },
   "outputs": [
    {
     "data": {
      "text/html": [
       "<div>\n",
       "<style scoped>\n",
       "    .dataframe tbody tr th:only-of-type {\n",
       "        vertical-align: middle;\n",
       "    }\n",
       "\n",
       "    .dataframe tbody tr th {\n",
       "        vertical-align: top;\n",
       "    }\n",
       "\n",
       "    .dataframe thead th {\n",
       "        text-align: right;\n",
       "    }\n",
       "</style>\n",
       "<table border=\"1\" class=\"dataframe\">\n",
       "  <thead>\n",
       "    <tr style=\"text-align: right;\">\n",
       "      <th></th>\n",
       "      <th>count</th>\n",
       "      <th>mean</th>\n",
       "      <th>std</th>\n",
       "      <th>min</th>\n",
       "      <th>25%</th>\n",
       "      <th>50%</th>\n",
       "      <th>75%</th>\n",
       "      <th>max</th>\n",
       "    </tr>\n",
       "  </thead>\n",
       "  <tbody>\n",
       "    <tr>\n",
       "      <th>Pregnancies</th>\n",
       "      <td>768.0</td>\n",
       "      <td>3.845052</td>\n",
       "      <td>3.369578</td>\n",
       "      <td>0.000</td>\n",
       "      <td>1.00000</td>\n",
       "      <td>3.0000</td>\n",
       "      <td>6.00000</td>\n",
       "      <td>17.00</td>\n",
       "    </tr>\n",
       "    <tr>\n",
       "      <th>Glucose</th>\n",
       "      <td>768.0</td>\n",
       "      <td>120.894531</td>\n",
       "      <td>31.972618</td>\n",
       "      <td>0.000</td>\n",
       "      <td>99.00000</td>\n",
       "      <td>117.0000</td>\n",
       "      <td>140.25000</td>\n",
       "      <td>199.00</td>\n",
       "    </tr>\n",
       "    <tr>\n",
       "      <th>BloodPressure</th>\n",
       "      <td>768.0</td>\n",
       "      <td>69.105469</td>\n",
       "      <td>19.355807</td>\n",
       "      <td>0.000</td>\n",
       "      <td>62.00000</td>\n",
       "      <td>72.0000</td>\n",
       "      <td>80.00000</td>\n",
       "      <td>122.00</td>\n",
       "    </tr>\n",
       "    <tr>\n",
       "      <th>SkinThickness</th>\n",
       "      <td>768.0</td>\n",
       "      <td>20.536458</td>\n",
       "      <td>15.952218</td>\n",
       "      <td>0.000</td>\n",
       "      <td>0.00000</td>\n",
       "      <td>23.0000</td>\n",
       "      <td>32.00000</td>\n",
       "      <td>99.00</td>\n",
       "    </tr>\n",
       "    <tr>\n",
       "      <th>Insulin</th>\n",
       "      <td>768.0</td>\n",
       "      <td>79.799479</td>\n",
       "      <td>115.244002</td>\n",
       "      <td>0.000</td>\n",
       "      <td>0.00000</td>\n",
       "      <td>30.5000</td>\n",
       "      <td>127.25000</td>\n",
       "      <td>846.00</td>\n",
       "    </tr>\n",
       "    <tr>\n",
       "      <th>BMI</th>\n",
       "      <td>768.0</td>\n",
       "      <td>31.992578</td>\n",
       "      <td>7.884160</td>\n",
       "      <td>0.000</td>\n",
       "      <td>27.30000</td>\n",
       "      <td>32.0000</td>\n",
       "      <td>36.60000</td>\n",
       "      <td>67.10</td>\n",
       "    </tr>\n",
       "    <tr>\n",
       "      <th>DiabetesPedigreeFunction</th>\n",
       "      <td>768.0</td>\n",
       "      <td>0.471876</td>\n",
       "      <td>0.331329</td>\n",
       "      <td>0.078</td>\n",
       "      <td>0.24375</td>\n",
       "      <td>0.3725</td>\n",
       "      <td>0.62625</td>\n",
       "      <td>2.42</td>\n",
       "    </tr>\n",
       "    <tr>\n",
       "      <th>Age</th>\n",
       "      <td>768.0</td>\n",
       "      <td>33.240885</td>\n",
       "      <td>11.760232</td>\n",
       "      <td>21.000</td>\n",
       "      <td>24.00000</td>\n",
       "      <td>29.0000</td>\n",
       "      <td>41.00000</td>\n",
       "      <td>81.00</td>\n",
       "    </tr>\n",
       "    <tr>\n",
       "      <th>Outcome</th>\n",
       "      <td>768.0</td>\n",
       "      <td>0.348958</td>\n",
       "      <td>0.476951</td>\n",
       "      <td>0.000</td>\n",
       "      <td>0.00000</td>\n",
       "      <td>0.0000</td>\n",
       "      <td>1.00000</td>\n",
       "      <td>1.00</td>\n",
       "    </tr>\n",
       "  </tbody>\n",
       "</table>\n",
       "</div>"
      ],
      "text/plain": [
       "                          count        mean         std     min       25%  \\\n",
       "Pregnancies               768.0    3.845052    3.369578   0.000   1.00000   \n",
       "Glucose                   768.0  120.894531   31.972618   0.000  99.00000   \n",
       "BloodPressure             768.0   69.105469   19.355807   0.000  62.00000   \n",
       "SkinThickness             768.0   20.536458   15.952218   0.000   0.00000   \n",
       "Insulin                   768.0   79.799479  115.244002   0.000   0.00000   \n",
       "BMI                       768.0   31.992578    7.884160   0.000  27.30000   \n",
       "DiabetesPedigreeFunction  768.0    0.471876    0.331329   0.078   0.24375   \n",
       "Age                       768.0   33.240885   11.760232  21.000  24.00000   \n",
       "Outcome                   768.0    0.348958    0.476951   0.000   0.00000   \n",
       "\n",
       "                               50%        75%     max  \n",
       "Pregnancies                 3.0000    6.00000   17.00  \n",
       "Glucose                   117.0000  140.25000  199.00  \n",
       "BloodPressure              72.0000   80.00000  122.00  \n",
       "SkinThickness              23.0000   32.00000   99.00  \n",
       "Insulin                    30.5000  127.25000  846.00  \n",
       "BMI                        32.0000   36.60000   67.10  \n",
       "DiabetesPedigreeFunction    0.3725    0.62625    2.42  \n",
       "Age                        29.0000   41.00000   81.00  \n",
       "Outcome                     0.0000    1.00000    1.00  "
      ]
     },
     "execution_count": 5,
     "metadata": {},
     "output_type": "execute_result"
    }
   ],
   "source": [
    "# getting the statistical measures of the dataset\n",
    "data.describe().T"
   ]
  },
  {
   "cell_type": "markdown",
   "id": "5341d0b2",
   "metadata": {
    "papermill": {
     "duration": 0.009674,
     "end_time": "2023-11-04T15:36:15.190528",
     "exception": false,
     "start_time": "2023-11-04T15:36:15.180854",
     "status": "completed"
    },
    "tags": []
   },
   "source": [
    "Splitting the data"
   ]
  },
  {
   "cell_type": "code",
   "execution_count": 6,
   "id": "9e14b0e1",
   "metadata": {
    "execution": {
     "iopub.execute_input": "2023-11-04T15:36:15.210649Z",
     "iopub.status.busy": "2023-11-04T15:36:15.210300Z",
     "iopub.status.idle": "2023-11-04T15:36:15.222138Z",
     "shell.execute_reply": "2023-11-04T15:36:15.221351Z"
    },
    "papermill": {
     "duration": 0.024422,
     "end_time": "2023-11-04T15:36:15.224192",
     "exception": false,
     "start_time": "2023-11-04T15:36:15.199770",
     "status": "completed"
    },
    "tags": []
   },
   "outputs": [],
   "source": [
    "features = data.drop(columns = 'Outcome', axis = 1)\n",
    "target = data['Outcome']"
   ]
  },
  {
   "cell_type": "code",
   "execution_count": 7,
   "id": "6af35a5e",
   "metadata": {
    "execution": {
     "iopub.execute_input": "2023-11-04T15:36:15.244937Z",
     "iopub.status.busy": "2023-11-04T15:36:15.244336Z",
     "iopub.status.idle": "2023-11-04T15:36:15.259765Z",
     "shell.execute_reply": "2023-11-04T15:36:15.258760Z"
    },
    "papermill": {
     "duration": 0.02837,
     "end_time": "2023-11-04T15:36:15.261992",
     "exception": false,
     "start_time": "2023-11-04T15:36:15.233622",
     "status": "completed"
    },
    "tags": []
   },
   "outputs": [
    {
     "data": {
      "text/html": [
       "<div>\n",
       "<style scoped>\n",
       "    .dataframe tbody tr th:only-of-type {\n",
       "        vertical-align: middle;\n",
       "    }\n",
       "\n",
       "    .dataframe tbody tr th {\n",
       "        vertical-align: top;\n",
       "    }\n",
       "\n",
       "    .dataframe thead th {\n",
       "        text-align: right;\n",
       "    }\n",
       "</style>\n",
       "<table border=\"1\" class=\"dataframe\">\n",
       "  <thead>\n",
       "    <tr style=\"text-align: right;\">\n",
       "      <th></th>\n",
       "      <th>Pregnancies</th>\n",
       "      <th>Glucose</th>\n",
       "      <th>BloodPressure</th>\n",
       "      <th>SkinThickness</th>\n",
       "      <th>Insulin</th>\n",
       "      <th>BMI</th>\n",
       "      <th>DiabetesPedigreeFunction</th>\n",
       "      <th>Age</th>\n",
       "    </tr>\n",
       "  </thead>\n",
       "  <tbody>\n",
       "    <tr>\n",
       "      <th>0</th>\n",
       "      <td>6</td>\n",
       "      <td>148</td>\n",
       "      <td>72</td>\n",
       "      <td>35</td>\n",
       "      <td>0</td>\n",
       "      <td>33.6</td>\n",
       "      <td>0.627</td>\n",
       "      <td>50</td>\n",
       "    </tr>\n",
       "    <tr>\n",
       "      <th>1</th>\n",
       "      <td>1</td>\n",
       "      <td>85</td>\n",
       "      <td>66</td>\n",
       "      <td>29</td>\n",
       "      <td>0</td>\n",
       "      <td>26.6</td>\n",
       "      <td>0.351</td>\n",
       "      <td>31</td>\n",
       "    </tr>\n",
       "    <tr>\n",
       "      <th>2</th>\n",
       "      <td>8</td>\n",
       "      <td>183</td>\n",
       "      <td>64</td>\n",
       "      <td>0</td>\n",
       "      <td>0</td>\n",
       "      <td>23.3</td>\n",
       "      <td>0.672</td>\n",
       "      <td>32</td>\n",
       "    </tr>\n",
       "    <tr>\n",
       "      <th>3</th>\n",
       "      <td>1</td>\n",
       "      <td>89</td>\n",
       "      <td>66</td>\n",
       "      <td>23</td>\n",
       "      <td>94</td>\n",
       "      <td>28.1</td>\n",
       "      <td>0.167</td>\n",
       "      <td>21</td>\n",
       "    </tr>\n",
       "    <tr>\n",
       "      <th>4</th>\n",
       "      <td>0</td>\n",
       "      <td>137</td>\n",
       "      <td>40</td>\n",
       "      <td>35</td>\n",
       "      <td>168</td>\n",
       "      <td>43.1</td>\n",
       "      <td>2.288</td>\n",
       "      <td>33</td>\n",
       "    </tr>\n",
       "    <tr>\n",
       "      <th>...</th>\n",
       "      <td>...</td>\n",
       "      <td>...</td>\n",
       "      <td>...</td>\n",
       "      <td>...</td>\n",
       "      <td>...</td>\n",
       "      <td>...</td>\n",
       "      <td>...</td>\n",
       "      <td>...</td>\n",
       "    </tr>\n",
       "    <tr>\n",
       "      <th>763</th>\n",
       "      <td>10</td>\n",
       "      <td>101</td>\n",
       "      <td>76</td>\n",
       "      <td>48</td>\n",
       "      <td>180</td>\n",
       "      <td>32.9</td>\n",
       "      <td>0.171</td>\n",
       "      <td>63</td>\n",
       "    </tr>\n",
       "    <tr>\n",
       "      <th>764</th>\n",
       "      <td>2</td>\n",
       "      <td>122</td>\n",
       "      <td>70</td>\n",
       "      <td>27</td>\n",
       "      <td>0</td>\n",
       "      <td>36.8</td>\n",
       "      <td>0.340</td>\n",
       "      <td>27</td>\n",
       "    </tr>\n",
       "    <tr>\n",
       "      <th>765</th>\n",
       "      <td>5</td>\n",
       "      <td>121</td>\n",
       "      <td>72</td>\n",
       "      <td>23</td>\n",
       "      <td>112</td>\n",
       "      <td>26.2</td>\n",
       "      <td>0.245</td>\n",
       "      <td>30</td>\n",
       "    </tr>\n",
       "    <tr>\n",
       "      <th>766</th>\n",
       "      <td>1</td>\n",
       "      <td>126</td>\n",
       "      <td>60</td>\n",
       "      <td>0</td>\n",
       "      <td>0</td>\n",
       "      <td>30.1</td>\n",
       "      <td>0.349</td>\n",
       "      <td>47</td>\n",
       "    </tr>\n",
       "    <tr>\n",
       "      <th>767</th>\n",
       "      <td>1</td>\n",
       "      <td>93</td>\n",
       "      <td>70</td>\n",
       "      <td>31</td>\n",
       "      <td>0</td>\n",
       "      <td>30.4</td>\n",
       "      <td>0.315</td>\n",
       "      <td>23</td>\n",
       "    </tr>\n",
       "  </tbody>\n",
       "</table>\n",
       "<p>768 rows × 8 columns</p>\n",
       "</div>"
      ],
      "text/plain": [
       "     Pregnancies  Glucose  BloodPressure  SkinThickness  Insulin   BMI  \\\n",
       "0              6      148             72             35        0  33.6   \n",
       "1              1       85             66             29        0  26.6   \n",
       "2              8      183             64              0        0  23.3   \n",
       "3              1       89             66             23       94  28.1   \n",
       "4              0      137             40             35      168  43.1   \n",
       "..           ...      ...            ...            ...      ...   ...   \n",
       "763           10      101             76             48      180  32.9   \n",
       "764            2      122             70             27        0  36.8   \n",
       "765            5      121             72             23      112  26.2   \n",
       "766            1      126             60              0        0  30.1   \n",
       "767            1       93             70             31        0  30.4   \n",
       "\n",
       "     DiabetesPedigreeFunction  Age  \n",
       "0                       0.627   50  \n",
       "1                       0.351   31  \n",
       "2                       0.672   32  \n",
       "3                       0.167   21  \n",
       "4                       2.288   33  \n",
       "..                        ...  ...  \n",
       "763                     0.171   63  \n",
       "764                     0.340   27  \n",
       "765                     0.245   30  \n",
       "766                     0.349   47  \n",
       "767                     0.315   23  \n",
       "\n",
       "[768 rows x 8 columns]"
      ]
     },
     "execution_count": 7,
     "metadata": {},
     "output_type": "execute_result"
    }
   ],
   "source": [
    "features"
   ]
  },
  {
   "cell_type": "code",
   "execution_count": 8,
   "id": "26b10986",
   "metadata": {
    "execution": {
     "iopub.execute_input": "2023-11-04T15:36:15.283484Z",
     "iopub.status.busy": "2023-11-04T15:36:15.282752Z",
     "iopub.status.idle": "2023-11-04T15:36:15.289620Z",
     "shell.execute_reply": "2023-11-04T15:36:15.288451Z"
    },
    "papermill": {
     "duration": 0.019945,
     "end_time": "2023-11-04T15:36:15.291626",
     "exception": false,
     "start_time": "2023-11-04T15:36:15.271681",
     "status": "completed"
    },
    "tags": []
   },
   "outputs": [
    {
     "name": "stdout",
     "output_type": "stream",
     "text": [
      "0      1\n",
      "1      0\n",
      "2      1\n",
      "3      0\n",
      "4      1\n",
      "      ..\n",
      "763    0\n",
      "764    0\n",
      "765    0\n",
      "766    1\n",
      "767    0\n",
      "Name: Outcome, Length: 768, dtype: int64\n"
     ]
    }
   ],
   "source": [
    "print(target)"
   ]
  },
  {
   "cell_type": "markdown",
   "id": "e6db56de",
   "metadata": {
    "papermill": {
     "duration": 0.009625,
     "end_time": "2023-11-04T15:36:15.311401",
     "exception": false,
     "start_time": "2023-11-04T15:36:15.301776",
     "status": "completed"
    },
    "tags": []
   },
   "source": [
    " Data Standardization"
   ]
  },
  {
   "cell_type": "code",
   "execution_count": 9,
   "id": "6f8d52df",
   "metadata": {
    "execution": {
     "iopub.execute_input": "2023-11-04T15:36:15.333247Z",
     "iopub.status.busy": "2023-11-04T15:36:15.332568Z",
     "iopub.status.idle": "2023-11-04T15:36:15.336698Z",
     "shell.execute_reply": "2023-11-04T15:36:15.335802Z"
    },
    "papermill": {
     "duration": 0.017657,
     "end_time": "2023-11-04T15:36:15.338927",
     "exception": false,
     "start_time": "2023-11-04T15:36:15.321270",
     "status": "completed"
    },
    "tags": []
   },
   "outputs": [],
   "source": [
    "scaler = StandardScaler()"
   ]
  },
  {
   "cell_type": "code",
   "execution_count": 10,
   "id": "29ee3019",
   "metadata": {
    "execution": {
     "iopub.execute_input": "2023-11-04T15:36:15.360197Z",
     "iopub.status.busy": "2023-11-04T15:36:15.359854Z",
     "iopub.status.idle": "2023-11-04T15:36:15.373962Z",
     "shell.execute_reply": "2023-11-04T15:36:15.372990Z"
    },
    "papermill": {
     "duration": 0.027315,
     "end_time": "2023-11-04T15:36:15.376063",
     "exception": false,
     "start_time": "2023-11-04T15:36:15.348748",
     "status": "completed"
    },
    "tags": []
   },
   "outputs": [
    {
     "data": {
      "text/html": [
       "<style>#sk-container-id-1 {color: black;background-color: white;}#sk-container-id-1 pre{padding: 0;}#sk-container-id-1 div.sk-toggleable {background-color: white;}#sk-container-id-1 label.sk-toggleable__label {cursor: pointer;display: block;width: 100%;margin-bottom: 0;padding: 0.3em;box-sizing: border-box;text-align: center;}#sk-container-id-1 label.sk-toggleable__label-arrow:before {content: \"▸\";float: left;margin-right: 0.25em;color: #696969;}#sk-container-id-1 label.sk-toggleable__label-arrow:hover:before {color: black;}#sk-container-id-1 div.sk-estimator:hover label.sk-toggleable__label-arrow:before {color: black;}#sk-container-id-1 div.sk-toggleable__content {max-height: 0;max-width: 0;overflow: hidden;text-align: left;background-color: #f0f8ff;}#sk-container-id-1 div.sk-toggleable__content pre {margin: 0.2em;color: black;border-radius: 0.25em;background-color: #f0f8ff;}#sk-container-id-1 input.sk-toggleable__control:checked~div.sk-toggleable__content {max-height: 200px;max-width: 100%;overflow: auto;}#sk-container-id-1 input.sk-toggleable__control:checked~label.sk-toggleable__label-arrow:before {content: \"▾\";}#sk-container-id-1 div.sk-estimator input.sk-toggleable__control:checked~label.sk-toggleable__label {background-color: #d4ebff;}#sk-container-id-1 div.sk-label input.sk-toggleable__control:checked~label.sk-toggleable__label {background-color: #d4ebff;}#sk-container-id-1 input.sk-hidden--visually {border: 0;clip: rect(1px 1px 1px 1px);clip: rect(1px, 1px, 1px, 1px);height: 1px;margin: -1px;overflow: hidden;padding: 0;position: absolute;width: 1px;}#sk-container-id-1 div.sk-estimator {font-family: monospace;background-color: #f0f8ff;border: 1px dotted black;border-radius: 0.25em;box-sizing: border-box;margin-bottom: 0.5em;}#sk-container-id-1 div.sk-estimator:hover {background-color: #d4ebff;}#sk-container-id-1 div.sk-parallel-item::after {content: \"\";width: 100%;border-bottom: 1px solid gray;flex-grow: 1;}#sk-container-id-1 div.sk-label:hover label.sk-toggleable__label {background-color: #d4ebff;}#sk-container-id-1 div.sk-serial::before {content: \"\";position: absolute;border-left: 1px solid gray;box-sizing: border-box;top: 0;bottom: 0;left: 50%;z-index: 0;}#sk-container-id-1 div.sk-serial {display: flex;flex-direction: column;align-items: center;background-color: white;padding-right: 0.2em;padding-left: 0.2em;position: relative;}#sk-container-id-1 div.sk-item {position: relative;z-index: 1;}#sk-container-id-1 div.sk-parallel {display: flex;align-items: stretch;justify-content: center;background-color: white;position: relative;}#sk-container-id-1 div.sk-item::before, #sk-container-id-1 div.sk-parallel-item::before {content: \"\";position: absolute;border-left: 1px solid gray;box-sizing: border-box;top: 0;bottom: 0;left: 50%;z-index: -1;}#sk-container-id-1 div.sk-parallel-item {display: flex;flex-direction: column;z-index: 1;position: relative;background-color: white;}#sk-container-id-1 div.sk-parallel-item:first-child::after {align-self: flex-end;width: 50%;}#sk-container-id-1 div.sk-parallel-item:last-child::after {align-self: flex-start;width: 50%;}#sk-container-id-1 div.sk-parallel-item:only-child::after {width: 0;}#sk-container-id-1 div.sk-dashed-wrapped {border: 1px dashed gray;margin: 0 0.4em 0.5em 0.4em;box-sizing: border-box;padding-bottom: 0.4em;background-color: white;}#sk-container-id-1 div.sk-label label {font-family: monospace;font-weight: bold;display: inline-block;line-height: 1.2em;}#sk-container-id-1 div.sk-label-container {text-align: center;}#sk-container-id-1 div.sk-container {/* jupyter's `normalize.less` sets `[hidden] { display: none; }` but bootstrap.min.css set `[hidden] { display: none !important; }` so we also need the `!important` here to be able to override the default hidden behavior on the sphinx rendered scikit-learn.org. See: https://github.com/scikit-learn/scikit-learn/issues/21755 */display: inline-block !important;position: relative;}#sk-container-id-1 div.sk-text-repr-fallback {display: none;}</style><div id=\"sk-container-id-1\" class=\"sk-top-container\"><div class=\"sk-text-repr-fallback\"><pre>StandardScaler()</pre><b>In a Jupyter environment, please rerun this cell to show the HTML representation or trust the notebook. <br />On GitHub, the HTML representation is unable to render, please try loading this page with nbviewer.org.</b></div><div class=\"sk-container\" hidden><div class=\"sk-item\"><div class=\"sk-estimator sk-toggleable\"><input class=\"sk-toggleable__control sk-hidden--visually\" id=\"sk-estimator-id-1\" type=\"checkbox\" checked><label for=\"sk-estimator-id-1\" class=\"sk-toggleable__label sk-toggleable__label-arrow\">StandardScaler</label><div class=\"sk-toggleable__content\"><pre>StandardScaler()</pre></div></div></div></div></div>"
      ],
      "text/plain": [
       "StandardScaler()"
      ]
     },
     "execution_count": 10,
     "metadata": {},
     "output_type": "execute_result"
    }
   ],
   "source": [
    "scaler.fit(features)"
   ]
  },
  {
   "cell_type": "code",
   "execution_count": 11,
   "id": "8b6f9593",
   "metadata": {
    "execution": {
     "iopub.execute_input": "2023-11-04T15:36:15.398167Z",
     "iopub.status.busy": "2023-11-04T15:36:15.397479Z",
     "iopub.status.idle": "2023-11-04T15:36:15.404332Z",
     "shell.execute_reply": "2023-11-04T15:36:15.403317Z"
    },
    "papermill": {
     "duration": 0.020232,
     "end_time": "2023-11-04T15:36:15.406396",
     "exception": false,
     "start_time": "2023-11-04T15:36:15.386164",
     "status": "completed"
    },
    "tags": []
   },
   "outputs": [],
   "source": [
    "standardized_data = scaler.transform(features)"
   ]
  },
  {
   "cell_type": "code",
   "execution_count": 12,
   "id": "664a4c67",
   "metadata": {
    "execution": {
     "iopub.execute_input": "2023-11-04T15:36:15.428223Z",
     "iopub.status.busy": "2023-11-04T15:36:15.427881Z",
     "iopub.status.idle": "2023-11-04T15:36:15.431997Z",
     "shell.execute_reply": "2023-11-04T15:36:15.430996Z"
    },
    "papermill": {
     "duration": 0.017545,
     "end_time": "2023-11-04T15:36:15.434044",
     "exception": false,
     "start_time": "2023-11-04T15:36:15.416499",
     "status": "completed"
    },
    "tags": []
   },
   "outputs": [],
   "source": [
    "features = standardized_data\n",
    "target = data['Outcome']"
   ]
  },
  {
   "cell_type": "code",
   "execution_count": 13,
   "id": "1cdf1e6f",
   "metadata": {
    "execution": {
     "iopub.execute_input": "2023-11-04T15:36:15.455497Z",
     "iopub.status.busy": "2023-11-04T15:36:15.455151Z",
     "iopub.status.idle": "2023-11-04T15:36:15.462561Z",
     "shell.execute_reply": "2023-11-04T15:36:15.461550Z"
    },
    "papermill": {
     "duration": 0.020619,
     "end_time": "2023-11-04T15:36:15.464556",
     "exception": false,
     "start_time": "2023-11-04T15:36:15.443937",
     "status": "completed"
    },
    "tags": []
   },
   "outputs": [
    {
     "data": {
      "text/plain": [
       "(array([[ 0.63994726,  0.84832379,  0.14964075, ...,  0.20401277,\n",
       "          0.46849198,  1.4259954 ],\n",
       "        [-0.84488505, -1.12339636, -0.16054575, ..., -0.68442195,\n",
       "         -0.36506078, -0.19067191],\n",
       "        [ 1.23388019,  1.94372388, -0.26394125, ..., -1.10325546,\n",
       "          0.60439732, -0.10558415],\n",
       "        ...,\n",
       "        [ 0.3429808 ,  0.00330087,  0.14964075, ..., -0.73518964,\n",
       "         -0.68519336, -0.27575966],\n",
       "        [-0.84488505,  0.1597866 , -0.47073225, ..., -0.24020459,\n",
       "         -0.37110101,  1.17073215],\n",
       "        [-0.84488505, -0.8730192 ,  0.04624525, ..., -0.20212881,\n",
       "         -0.47378505, -0.87137393]]),\n",
       " 0      1\n",
       " 1      0\n",
       " 2      1\n",
       " 3      0\n",
       " 4      1\n",
       "       ..\n",
       " 763    0\n",
       " 764    0\n",
       " 765    0\n",
       " 766    1\n",
       " 767    0\n",
       " Name: Outcome, Length: 768, dtype: int64)"
      ]
     },
     "execution_count": 13,
     "metadata": {},
     "output_type": "execute_result"
    }
   ],
   "source": [
    "features, target"
   ]
  },
  {
   "cell_type": "markdown",
   "id": "466055b0",
   "metadata": {
    "papermill": {
     "duration": 0.010153,
     "end_time": "2023-11-04T15:36:15.484855",
     "exception": false,
     "start_time": "2023-11-04T15:36:15.474702",
     "status": "completed"
    },
    "tags": []
   },
   "source": [
    "Train Test Split"
   ]
  },
  {
   "cell_type": "code",
   "execution_count": 14,
   "id": "f09ce389",
   "metadata": {
    "execution": {
     "iopub.execute_input": "2023-11-04T15:36:15.506774Z",
     "iopub.status.busy": "2023-11-04T15:36:15.506420Z",
     "iopub.status.idle": "2023-11-04T15:36:15.513015Z",
     "shell.execute_reply": "2023-11-04T15:36:15.511859Z"
    },
    "papermill": {
     "duration": 0.020208,
     "end_time": "2023-11-04T15:36:15.515201",
     "exception": false,
     "start_time": "2023-11-04T15:36:15.494993",
     "status": "completed"
    },
    "tags": []
   },
   "outputs": [
    {
     "name": "stdout",
     "output_type": "stream",
     "text": [
      "(768, 8) (614, 8) (154, 8)\n"
     ]
    }
   ],
   "source": [
    "X_train, X_test, Y_train, Y_test = train_test_split(features, target, test_size=0.2, random_state = 2)\n",
    "print(features.shape, X_train.shape, X_test.shape)"
   ]
  },
  {
   "cell_type": "markdown",
   "id": "3c1aad3d",
   "metadata": {
    "papermill": {
     "duration": 0.010383,
     "end_time": "2023-11-04T15:36:15.535714",
     "exception": false,
     "start_time": "2023-11-04T15:36:15.525331",
     "status": "completed"
    },
    "tags": []
   },
   "source": [
    "Training the Model"
   ]
  },
  {
   "cell_type": "code",
   "execution_count": 15,
   "id": "9f1e584d",
   "metadata": {
    "execution": {
     "iopub.execute_input": "2023-11-04T15:36:15.615460Z",
     "iopub.status.busy": "2023-11-04T15:36:15.615106Z",
     "iopub.status.idle": "2023-11-04T15:36:15.619454Z",
     "shell.execute_reply": "2023-11-04T15:36:15.618424Z"
    },
    "papermill": {
     "duration": 0.075686,
     "end_time": "2023-11-04T15:36:15.621449",
     "exception": false,
     "start_time": "2023-11-04T15:36:15.545763",
     "status": "completed"
    },
    "tags": []
   },
   "outputs": [],
   "source": [
    "# Suppress the warning\n",
    "warnings.filterwarnings(\"ignore\", category=UserWarning, module='sklearn')"
   ]
  },
  {
   "cell_type": "markdown",
   "id": "144b3213",
   "metadata": {
    "papermill": {
     "duration": 0.009998,
     "end_time": "2023-11-04T15:36:15.641862",
     "exception": false,
     "start_time": "2023-11-04T15:36:15.631864",
     "status": "completed"
    },
    "tags": []
   },
   "source": [
    "# LogisticRegression"
   ]
  },
  {
   "cell_type": "code",
   "execution_count": 16,
   "id": "50809d80",
   "metadata": {
    "execution": {
     "iopub.execute_input": "2023-11-04T15:36:15.663895Z",
     "iopub.status.busy": "2023-11-04T15:36:15.663280Z",
     "iopub.status.idle": "2023-11-04T15:36:15.835857Z",
     "shell.execute_reply": "2023-11-04T15:36:15.834940Z"
    },
    "papermill": {
     "duration": 0.186542,
     "end_time": "2023-11-04T15:36:15.838497",
     "exception": false,
     "start_time": "2023-11-04T15:36:15.651955",
     "status": "completed"
    },
    "tags": []
   },
   "outputs": [],
   "source": [
    "from sklearn.linear_model import LogisticRegression"
   ]
  },
  {
   "cell_type": "code",
   "execution_count": 17,
   "id": "b823aeae",
   "metadata": {
    "execution": {
     "iopub.execute_input": "2023-11-04T15:36:15.861433Z",
     "iopub.status.busy": "2023-11-04T15:36:15.861064Z",
     "iopub.status.idle": "2023-11-04T15:36:15.879369Z",
     "shell.execute_reply": "2023-11-04T15:36:15.878272Z"
    },
    "papermill": {
     "duration": 0.03224,
     "end_time": "2023-11-04T15:36:15.881464",
     "exception": false,
     "start_time": "2023-11-04T15:36:15.849224",
     "status": "completed"
    },
    "tags": []
   },
   "outputs": [
    {
     "name": "stdout",
     "output_type": "stream",
     "text": [
      "Accuracy score on test data =  0.7662337662337663\n"
     ]
    }
   ],
   "source": [
    "classifier =  LogisticRegression()\n",
    "classifier.fit(X_train, Y_train)\n",
    "\n",
    "# accuracy on training data\n",
    "X_test_prediction = classifier.predict(X_test)\n",
    "test_data_accuracy = accuracy_score(Y_test, X_test_prediction)\n",
    "print('Accuracy score on test data = ', test_data_accuracy)"
   ]
  },
  {
   "cell_type": "markdown",
   "id": "921946ee",
   "metadata": {
    "execution": {
     "iopub.execute_input": "2023-11-03T14:03:57.671861Z",
     "iopub.status.busy": "2023-11-03T14:03:57.670318Z",
     "iopub.status.idle": "2023-11-03T14:03:57.715342Z",
     "shell.execute_reply": "2023-11-03T14:03:57.714213Z",
     "shell.execute_reply.started": "2023-11-03T14:03:57.671801Z"
    },
    "papermill": {
     "duration": 0.010098,
     "end_time": "2023-11-04T15:36:15.901998",
     "exception": false,
     "start_time": "2023-11-04T15:36:15.891900",
     "status": "completed"
    },
    "tags": []
   },
   "source": [
    "import tkinter as tk\n",
    "from tkinter import Entry, Button, Label\n",
    "\n",
    "# Define a function to predict diabetes\n",
    "def predict_diabetes():\n",
    "    pregnancies = float(pregnancies_input.get())\n",
    "    glucose = float(glucose_input.get())\n",
    "    blood_pressure = float(blood_pressure_input.get())\n",
    "    skin_thickness = float(skin_thickness_input.get())\n",
    "    insulin = float(insulin_input.get())\n",
    "    bmi = float(bmi_input.get())\n",
    "    pedigree = float(pedigree_input.get())\n",
    "    age = float(age_input.get())\n",
    "\n",
    "    user_data = [[pregnancies, glucose, blood_pressure, skin_thickness, insulin, bmi, pedigree, age]]\n",
    "    outcome = classifier.predict(user_data)\n",
    "\n",
    "    if outcome[0] == 1:\n",
    "        prediction_output.config(text=\"The person is diabetic.\")\n",
    "    else:\n",
    "        prediction_output.config(text=\"The person is not diabetic.\")\n",
    "\n",
    "# Create a new tkinter window\n",
    "window = tk.Tk()\n",
    "window.title(\"Diabetes Prediction\")\n",
    "\n",
    "# Create input fields\n",
    "pregnancies_label = Label(window, text=\"Pregnancies:\")\n",
    "pregnancies_label.pack()\n",
    "pregnancies_input = Entry(window)\n",
    "pregnancies_input.pack()\n",
    "\n",
    "glucose_label = Label(window, text=\"Glucose:\")\n",
    "glucose_label.pack()\n",
    "glucose_input = Entry(window)\n",
    "glucose_input.pack()\n",
    "\n",
    "# Repeat this process for other input fields (blood pressure, skin thickness, insulin, BMI, pedigree, age)\n",
    "\n",
    "# Create a button to trigger the prediction\n",
    "predict_button = Button(window, text=\"Predict\", command=predict_diabetes)\n",
    "predict_button.pack()\n",
    "\n",
    "# Create an output label\n",
    "prediction_output = Label(window, text=\"\")\n",
    "prediction_output.pack()\n",
    "\n",
    "# Start the GUI main loop\n",
    "window.mainloop()\n"
   ]
  },
  {
   "cell_type": "markdown",
   "id": "758b75b6",
   "metadata": {
    "execution": {
     "iopub.execute_input": "2023-10-28T14:02:08.014417Z",
     "iopub.status.busy": "2023-10-28T14:02:08.013698Z",
     "iopub.status.idle": "2023-10-28T14:02:08.021789Z",
     "shell.execute_reply": "2023-10-28T14:02:08.020790Z",
     "shell.execute_reply.started": "2023-10-28T14:02:08.014341Z"
    },
    "papermill": {
     "duration": 0.010105,
     "end_time": "2023-11-04T15:36:15.922528",
     "exception": false,
     "start_time": "2023-11-04T15:36:15.912423",
     "status": "completed"
    },
    "tags": []
   },
   "source": [
    "# Define a function to predict diabetes with a descriptive sentence\n",
    "def predict_diabetes(pregnancies, glucose, blood_pressure, skin_thickness, insulin, bmi, pedigree, age):\n",
    "    user_data = pd.DataFrame({\n",
    "       'Pregnancies': [pregnancies],\n",
    "        'Glucose': [glucose],\n",
    "       'BloodPressure': [blood_pressure],\n",
    "        'SkinThickness': [skin_thickness],\n",
    "        'Insulin': [insulin],\n",
    "        'BMI': [bmi],\n",
    "        'DiabetesPedigreeFunction': [pedigree],\n",
    "        'Age': [age]\n",
    "    })\n",
    "\n",
    "    outcome = classifier.predict(user_data)\n",
    "    if outcome[0] == 1:\n",
    "        return \"The person is diabetic.\"\n",
    "    else:\n",
    "        return \"The person is not diabetic.\"\n",
    "\n",
    "\n"
   ]
  },
  {
   "cell_type": "markdown",
   "id": "1506141f",
   "metadata": {
    "execution": {
     "iopub.execute_input": "2023-10-28T14:02:08.025784Z",
     "iopub.status.busy": "2023-10-28T14:02:08.025404Z",
     "iopub.status.idle": "2023-10-28T14:02:08.081965Z",
     "shell.execute_reply": "2023-10-28T14:02:08.080184Z",
     "shell.execute_reply.started": "2023-10-28T14:02:08.025755Z"
    },
    "papermill": {
     "duration": 0.010136,
     "end_time": "2023-11-04T15:36:15.943028",
     "exception": false,
     "start_time": "2023-11-04T15:36:15.932892",
     "status": "completed"
    },
    "tags": []
   },
   "source": [
    "display(pregnancies_input, glucose_input, blood_pressure_input, skin_thickness_input, insulin_input, bmi_input, pedigree_input, age_input)\n",
    "display(predict_button, prediction_output)"
   ]
  },
  {
   "cell_type": "markdown",
   "id": "1e4e3173",
   "metadata": {
    "papermill": {
     "duration": 0.010178,
     "end_time": "2023-11-04T15:36:15.963978",
     "exception": false,
     "start_time": "2023-11-04T15:36:15.953800",
     "status": "completed"
    },
    "tags": []
   },
   "source": [
    "# Support Vector Machine Classifier"
   ]
  },
  {
   "cell_type": "code",
   "execution_count": 18,
   "id": "e73d576d",
   "metadata": {
    "execution": {
     "iopub.execute_input": "2023-11-04T15:36:15.986420Z",
     "iopub.status.busy": "2023-11-04T15:36:15.986045Z",
     "iopub.status.idle": "2023-11-04T15:36:15.990315Z",
     "shell.execute_reply": "2023-11-04T15:36:15.989349Z"
    },
    "papermill": {
     "duration": 0.017958,
     "end_time": "2023-11-04T15:36:15.992316",
     "exception": false,
     "start_time": "2023-11-04T15:36:15.974358",
     "status": "completed"
    },
    "tags": []
   },
   "outputs": [],
   "source": [
    "from sklearn import svm"
   ]
  },
  {
   "cell_type": "code",
   "execution_count": 19,
   "id": "53b90001",
   "metadata": {
    "execution": {
     "iopub.execute_input": "2023-11-04T15:36:16.014974Z",
     "iopub.status.busy": "2023-11-04T15:36:16.014538Z",
     "iopub.status.idle": "2023-11-04T15:36:16.038199Z",
     "shell.execute_reply": "2023-11-04T15:36:16.037330Z"
    },
    "papermill": {
     "duration": 0.037759,
     "end_time": "2023-11-04T15:36:16.040422",
     "exception": false,
     "start_time": "2023-11-04T15:36:16.002663",
     "status": "completed"
    },
    "tags": []
   },
   "outputs": [
    {
     "name": "stdout",
     "output_type": "stream",
     "text": [
      "0.7662337662337663\n"
     ]
    }
   ],
   "source": [
    "model = svm.SVC(kernel = 'linear')\n",
    "model.fit(X_train, Y_train)\n",
    "\n",
    "# Evaluation\n",
    "predicted_Y = model.predict(X_test)\n",
    "test_accuracy = accuracy_score(Y_test, predicted_Y)\n",
    "print(test_accuracy)"
   ]
  },
  {
   "cell_type": "markdown",
   "id": "87e92ba5",
   "metadata": {
    "papermill": {
     "duration": 0.010422,
     "end_time": "2023-11-04T15:36:16.061412",
     "exception": false,
     "start_time": "2023-11-04T15:36:16.050990",
     "status": "completed"
    },
    "tags": []
   },
   "source": [
    "# DecisionTree"
   ]
  },
  {
   "cell_type": "code",
   "execution_count": 20,
   "id": "0c6c72c6",
   "metadata": {
    "execution": {
     "iopub.execute_input": "2023-11-04T15:36:16.083959Z",
     "iopub.status.busy": "2023-11-04T15:36:16.083594Z",
     "iopub.status.idle": "2023-11-04T15:36:16.243776Z",
     "shell.execute_reply": "2023-11-04T15:36:16.242912Z"
    },
    "papermill": {
     "duration": 0.174518,
     "end_time": "2023-11-04T15:36:16.246253",
     "exception": false,
     "start_time": "2023-11-04T15:36:16.071735",
     "status": "completed"
    },
    "tags": []
   },
   "outputs": [],
   "source": [
    "# Import necessary libraries\n",
    "from sklearn.tree import DecisionTreeClassifier"
   ]
  },
  {
   "cell_type": "code",
   "execution_count": 21,
   "id": "17b82c7b",
   "metadata": {
    "execution": {
     "iopub.execute_input": "2023-11-04T15:36:16.269555Z",
     "iopub.status.busy": "2023-11-04T15:36:16.269188Z",
     "iopub.status.idle": "2023-11-04T15:36:16.281652Z",
     "shell.execute_reply": "2023-11-04T15:36:16.280469Z"
    },
    "papermill": {
     "duration": 0.026632,
     "end_time": "2023-11-04T15:36:16.283806",
     "exception": false,
     "start_time": "2023-11-04T15:36:16.257174",
     "status": "completed"
    },
    "tags": []
   },
   "outputs": [
    {
     "name": "stdout",
     "output_type": "stream",
     "text": [
      "Decision Tree Accuracy: 0.7077922077922078\n"
     ]
    }
   ],
   "source": [
    "# Create an instance of the Decision Tree classifier\n",
    "decision = DecisionTreeClassifier()\n",
    "\n",
    "# Train the Decision Tree classifier on the training data\n",
    "decision.fit(X_train, Y_train)\n",
    "# Evaluate the Decision Tree classifier on the test data\n",
    "decision_prediction = decision.predict(X_test)\n",
    "\n",
    "# Calculate accuracy for the Decision Tree classifier\n",
    "decision_accuracy = accuracy_score(Y_test, decision_prediction)\n",
    "\n",
    "# Display accuracy for the Decision Tree classifier\n",
    "print(\"Decision Tree Accuracy:\", decision_accuracy)\n"
   ]
  },
  {
   "cell_type": "markdown",
   "id": "cdb554ca",
   "metadata": {
    "papermill": {
     "duration": 0.010487,
     "end_time": "2023-11-04T15:36:16.304991",
     "exception": false,
     "start_time": "2023-11-04T15:36:16.294504",
     "status": "completed"
    },
    "tags": []
   },
   "source": [
    "#  K nearest neighbors"
   ]
  },
  {
   "cell_type": "code",
   "execution_count": 22,
   "id": "dc55093f",
   "metadata": {
    "execution": {
     "iopub.execute_input": "2023-11-04T15:36:16.328271Z",
     "iopub.status.busy": "2023-11-04T15:36:16.327901Z",
     "iopub.status.idle": "2023-11-04T15:36:16.332379Z",
     "shell.execute_reply": "2023-11-04T15:36:16.331393Z"
    },
    "papermill": {
     "duration": 0.01873,
     "end_time": "2023-11-04T15:36:16.334409",
     "exception": false,
     "start_time": "2023-11-04T15:36:16.315679",
     "status": "completed"
    },
    "tags": []
   },
   "outputs": [],
   "source": [
    "# Import necessary libraries\n",
    "from sklearn.neighbors import KNeighborsClassifier"
   ]
  },
  {
   "cell_type": "code",
   "execution_count": 23,
   "id": "afc7e712",
   "metadata": {
    "execution": {
     "iopub.execute_input": "2023-11-04T15:36:16.357606Z",
     "iopub.status.busy": "2023-11-04T15:36:16.357223Z",
     "iopub.status.idle": "2023-11-04T15:36:16.377436Z",
     "shell.execute_reply": "2023-11-04T15:36:16.376349Z"
    },
    "papermill": {
     "duration": 0.035082,
     "end_time": "2023-11-04T15:36:16.380083",
     "exception": false,
     "start_time": "2023-11-04T15:36:16.345001",
     "status": "completed"
    },
    "tags": []
   },
   "outputs": [
    {
     "name": "stdout",
     "output_type": "stream",
     "text": [
      "KNN Accuracy: 0.7597402597402597\n"
     ]
    }
   ],
   "source": [
    "# Create an instance of the KNN classifier with a specific number of neighbors (e.g., 3)\n",
    "knn_classifier = KNeighborsClassifier(n_neighbors=3)\n",
    "\n",
    "# Train the KNN classifier on the training data\n",
    "knn_classifier.fit(X_train, Y_train)\n",
    "\n",
    "# Evaluate the KNN classifier on the test data\n",
    "knn_test_data_prediction = knn_classifier.predict(X_test)\n",
    "\n",
    "# Calculate accuracy for the KNN classifier\n",
    "knn_accuracy = accuracy_score(Y_test, knn_test_data_prediction)\n",
    "\n",
    "# Display accuracy for the KNN classifier\n",
    "print(\"KNN Accuracy:\", knn_accuracy)"
   ]
  },
  {
   "cell_type": "markdown",
   "id": "4401a01c",
   "metadata": {
    "papermill": {
     "duration": 0.010788,
     "end_time": "2023-11-04T15:36:16.401646",
     "exception": false,
     "start_time": "2023-11-04T15:36:16.390858",
     "status": "completed"
    },
    "tags": []
   },
   "source": [
    "# Naive bayes"
   ]
  },
  {
   "cell_type": "code",
   "execution_count": 24,
   "id": "d3f33310",
   "metadata": {
    "execution": {
     "iopub.execute_input": "2023-11-04T15:36:16.425018Z",
     "iopub.status.busy": "2023-11-04T15:36:16.424627Z",
     "iopub.status.idle": "2023-11-04T15:36:16.438031Z",
     "shell.execute_reply": "2023-11-04T15:36:16.437088Z"
    },
    "papermill": {
     "duration": 0.02773,
     "end_time": "2023-11-04T15:36:16.440456",
     "exception": false,
     "start_time": "2023-11-04T15:36:16.412726",
     "status": "completed"
    },
    "tags": []
   },
   "outputs": [],
   "source": [
    "# Import necessary libraries\n",
    "from sklearn.naive_bayes import GaussianNB"
   ]
  },
  {
   "cell_type": "code",
   "execution_count": 25,
   "id": "089f4acb",
   "metadata": {
    "execution": {
     "iopub.execute_input": "2023-11-04T15:36:16.463904Z",
     "iopub.status.busy": "2023-11-04T15:36:16.463510Z",
     "iopub.status.idle": "2023-11-04T15:36:16.472733Z",
     "shell.execute_reply": "2023-11-04T15:36:16.471770Z"
    },
    "papermill": {
     "duration": 0.023612,
     "end_time": "2023-11-04T15:36:16.474863",
     "exception": false,
     "start_time": "2023-11-04T15:36:16.451251",
     "status": "completed"
    },
    "tags": []
   },
   "outputs": [
    {
     "name": "stdout",
     "output_type": "stream",
     "text": [
      "Naive Bayes Accuracy: 0.7597402597402597\n"
     ]
    }
   ],
   "source": [
    "# Create an instance of the Gaussian Naive Bayes classifier\n",
    "naive_bayes_classifier = GaussianNB()\n",
    "\n",
    "# Train the Naive Bayes classifier on the training data\n",
    "naive_bayes_classifier.fit(X_train, Y_train)\n",
    "\n",
    "# Evaluate the Naive Bayes classifier on the test data\n",
    "naive_bayes_test_data_prediction = naive_bayes_classifier.predict(X_test)\n",
    "\n",
    "# Calculate accuracy for the Naive Bayes classifier\n",
    "naive_bayes_accuracy = accuracy_score(Y_test, naive_bayes_test_data_prediction)\n",
    "\n",
    "# Display accuracy for the Naive Bayes classifier\n",
    "print(\"Naive Bayes Accuracy:\", naive_bayes_accuracy)\n"
   ]
  },
  {
   "cell_type": "markdown",
   "id": "01798c6e",
   "metadata": {
    "papermill": {
     "duration": 0.010979,
     "end_time": "2023-11-04T15:36:16.496628",
     "exception": false,
     "start_time": "2023-11-04T15:36:16.485649",
     "status": "completed"
    },
    "tags": []
   },
   "source": [
    "# RandomForest"
   ]
  },
  {
   "cell_type": "code",
   "execution_count": 26,
   "id": "08bdc8c1",
   "metadata": {
    "execution": {
     "iopub.execute_input": "2023-11-04T15:36:16.520425Z",
     "iopub.status.busy": "2023-11-04T15:36:16.520063Z",
     "iopub.status.idle": "2023-11-04T15:36:16.639189Z",
     "shell.execute_reply": "2023-11-04T15:36:16.638170Z"
    },
    "papermill": {
     "duration": 0.134434,
     "end_time": "2023-11-04T15:36:16.641781",
     "exception": false,
     "start_time": "2023-11-04T15:36:16.507347",
     "status": "completed"
    },
    "tags": []
   },
   "outputs": [],
   "source": [
    "# Import necessary libraries\n",
    "from sklearn.ensemble import RandomForestClassifier"
   ]
  },
  {
   "cell_type": "code",
   "execution_count": 27,
   "id": "aaaa73b5",
   "metadata": {
    "execution": {
     "iopub.execute_input": "2023-11-04T15:36:16.665228Z",
     "iopub.status.busy": "2023-11-04T15:36:16.664407Z",
     "iopub.status.idle": "2023-11-04T15:36:16.889982Z",
     "shell.execute_reply": "2023-11-04T15:36:16.888892Z"
    },
    "papermill": {
     "duration": 0.239502,
     "end_time": "2023-11-04T15:36:16.892179",
     "exception": false,
     "start_time": "2023-11-04T15:36:16.652677",
     "status": "completed"
    },
    "tags": []
   },
   "outputs": [
    {
     "name": "stdout",
     "output_type": "stream",
     "text": [
      "Random Forest Accuracy: 0.7402597402597403\n"
     ]
    }
   ],
   "source": [
    "# Create an instance of the Random Forest classifier\n",
    "random_forest_classifier = RandomForestClassifier()\n",
    "\n",
    "# Train the Random Forest classifier on the training data\n",
    "random_forest_classifier.fit(X_train, Y_train)\n",
    "\n",
    "# Evaluate the Random Forest classifier on the test data\n",
    "random_forest_test_data_prediction = random_forest_classifier.predict(X_test)\n",
    "\n",
    "# Calculate accuracy for the Random Forest classifier\n",
    "random_forest_accuracy = accuracy_score(Y_test, random_forest_test_data_prediction)\n",
    "\n",
    "# Display accuracy for the Random Forest classifier\n",
    "print(\"Random Forest Accuracy:\", random_forest_accuracy)\n"
   ]
  },
  {
   "cell_type": "markdown",
   "id": "1280dbbe",
   "metadata": {
    "papermill": {
     "duration": 0.010569,
     "end_time": "2023-11-04T15:36:16.913738",
     "exception": false,
     "start_time": "2023-11-04T15:36:16.903169",
     "status": "completed"
    },
    "tags": []
   },
   "source": [
    "# Neural network"
   ]
  },
  {
   "cell_type": "code",
   "execution_count": 28,
   "id": "fc383678",
   "metadata": {
    "execution": {
     "iopub.execute_input": "2023-11-04T15:36:16.937668Z",
     "iopub.status.busy": "2023-11-04T15:36:16.937276Z",
     "iopub.status.idle": "2023-11-04T15:36:27.353787Z",
     "shell.execute_reply": "2023-11-04T15:36:27.352773Z"
    },
    "papermill": {
     "duration": 10.430604,
     "end_time": "2023-11-04T15:36:27.355822",
     "exception": false,
     "start_time": "2023-11-04T15:36:16.925218",
     "status": "completed"
    },
    "tags": []
   },
   "outputs": [
    {
     "name": "stdout",
     "output_type": "stream",
     "text": [
      "Epoch 1/10\n",
      "20/20 [==============================] - 1s 2ms/step - loss: 0.6906 - accuracy: 0.5163\n",
      "Epoch 2/10\n",
      "20/20 [==============================] - 0s 2ms/step - loss: 0.6156 - accuracy: 0.7020\n",
      "Epoch 3/10\n",
      "20/20 [==============================] - 0s 1ms/step - loss: 0.5676 - accuracy: 0.7378\n",
      "Epoch 4/10\n",
      "20/20 [==============================] - 0s 1ms/step - loss: 0.5332 - accuracy: 0.7541\n",
      "Epoch 5/10\n",
      "20/20 [==============================] - 0s 1ms/step - loss: 0.5108 - accuracy: 0.7638\n",
      "Epoch 6/10\n",
      "20/20 [==============================] - 0s 1ms/step - loss: 0.4943 - accuracy: 0.7704\n",
      "Epoch 7/10\n",
      "20/20 [==============================] - 0s 1ms/step - loss: 0.4832 - accuracy: 0.7785\n",
      "Epoch 8/10\n",
      "20/20 [==============================] - 0s 1ms/step - loss: 0.4741 - accuracy: 0.7801\n",
      "Epoch 9/10\n",
      "20/20 [==============================] - 0s 2ms/step - loss: 0.4678 - accuracy: 0.7866\n",
      "Epoch 10/10\n",
      "20/20 [==============================] - 0s 1ms/step - loss: 0.4648 - accuracy: 0.7834\n",
      "5/5 [==============================] - 0s 2ms/step - loss: 0.4667 - accuracy: 0.7662\n",
      "Neural Network Test Accuracy: 0.7662337422370911\n"
     ]
    }
   ],
   "source": [
    "# Import necessary libraries\n",
    "import tensorflow as tf\n",
    "from tensorflow import keras\n",
    "from tensorflow.keras import layers\n",
    "\n",
    "# Create a neural network model\n",
    "model = keras.Sequential([\n",
    "    layers.Input(shape=(X_train.shape[1],)),  # Input layer\n",
    "    layers.Dense(64, activation='relu'),      # Hidden layer with 64 units and ReLU activation\n",
    "    layers.Dense(1, activation='sigmoid')     # Output layer with 1 unit and sigmoid activation (binary classification)\n",
    "])\n",
    "\n",
    "# Compile the model\n",
    "model.compile(optimizer='adam', loss='binary_crossentropy', metrics=['accuracy'])\n",
    "\n",
    "# Train the neural network on the training data\n",
    "model.fit(X_train, Y_train, epochs=10, batch_size=32)\n",
    "\n",
    "# Evaluate the neural network on the test data\n",
    "test_loss, test_accuracy = model.evaluate(X_test, Y_test)\n",
    "\n",
    "# Display the test accuracy\n",
    "print(\"Neural Network Test Accuracy:\", test_accuracy)\n"
   ]
  },
  {
   "cell_type": "markdown",
   "id": "7dfdfd19",
   "metadata": {
    "papermill": {
     "duration": 0.01239,
     "end_time": "2023-11-04T15:36:27.381072",
     "exception": false,
     "start_time": "2023-11-04T15:36:27.368682",
     "status": "completed"
    },
    "tags": []
   },
   "source": [
    "# Accuracy score on for logistic regression =  0.7662337662337663\n",
    "# Accuracy score on for Support Vector Machine Classifier  = 0.7662337662337663\n",
    "# Accuracy score on for Decision Tree = 0.7402597402597403\n",
    "# Accuracy score on for K nearest neighbors: 0.7597402597402597\n",
    "# Accuracy score on for Naive Bayes : 0.7597402597402597\n",
    "# Accuracy score on for Random Forest: 0.7792207792207793\n",
    "# Accuracy score on for Neural Network: 0.7922077775001526"
   ]
  },
  {
   "cell_type": "markdown",
   "id": "82185f36",
   "metadata": {
    "papermill": {
     "duration": 0.012262,
     "end_time": "2023-11-04T15:36:27.405888",
     "exception": false,
     "start_time": "2023-11-04T15:36:27.393626",
     "status": "completed"
    },
    "tags": []
   },
   "source": [
    "### "
   ]
  }
 ],
 "metadata": {
  "kernelspec": {
   "display_name": "Python 3",
   "language": "python",
   "name": "python3"
  },
  "language_info": {
   "codemirror_mode": {
    "name": "ipython",
    "version": 3
   },
   "file_extension": ".py",
   "mimetype": "text/x-python",
   "name": "python",
   "nbconvert_exporter": "python",
   "pygments_lexer": "ipython3",
   "version": "3.10.12"
  },
  "papermill": {
   "default_parameters": {},
   "duration": 18.747375,
   "end_time": "2023-11-04T15:36:28.942235",
   "environment_variables": {},
   "exception": null,
   "input_path": "__notebook__.ipynb",
   "output_path": "__notebook__.ipynb",
   "parameters": {},
   "start_time": "2023-11-04T15:36:10.194860",
   "version": "2.4.0"
  }
 },
 "nbformat": 4,
 "nbformat_minor": 5
}
