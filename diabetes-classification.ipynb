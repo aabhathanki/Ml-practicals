{
 "cells": [
  {
   "cell_type": "code",
   "execution_count": 1,
   "id": "c253eabe",
   "metadata": {
    "execution": {
     "iopub.execute_input": "2023-11-06T03:19:18.553353Z",
     "iopub.status.busy": "2023-11-06T03:19:18.552246Z",
     "iopub.status.idle": "2023-11-06T03:19:20.606153Z",
     "shell.execute_reply": "2023-11-06T03:19:20.604814Z"
    },
    "papermill": {
     "duration": 2.06729,
     "end_time": "2023-11-06T03:19:20.608880",
     "exception": false,
     "start_time": "2023-11-06T03:19:18.541590",
     "status": "completed"
    },
    "tags": []
   },
   "outputs": [],
   "source": [
    "# Import necessary libraries\n",
    "\n",
    "import pandas as pd\n",
    "from sklearn.preprocessing import StandardScaler\n",
    "from sklearn.model_selection import train_test_split\n",
    "from sklearn.metrics import accuracy_score\n",
    "import seaborn as sns\n",
    "import matplotlib.pyplot as plt"
   ]
  },
  {
   "cell_type": "markdown",
   "id": "1c734168",
   "metadata": {
    "papermill": {
     "duration": 0.007914,
     "end_time": "2023-11-06T03:19:20.625226",
     "exception": false,
     "start_time": "2023-11-06T03:19:20.617312",
     "status": "completed"
    },
    "tags": []
   },
   "source": [
    "# Data Collection & Preprocessing"
   ]
  },
  {
   "cell_type": "code",
   "execution_count": 2,
   "id": "c5b118f9",
   "metadata": {
    "execution": {
     "iopub.execute_input": "2023-11-06T03:19:20.643566Z",
     "iopub.status.busy": "2023-11-06T03:19:20.642768Z",
     "iopub.status.idle": "2023-11-06T03:19:20.726352Z",
     "shell.execute_reply": "2023-11-06T03:19:20.725188Z"
    },
    "papermill": {
     "duration": 0.095792,
     "end_time": "2023-11-06T03:19:20.729215",
     "exception": false,
     "start_time": "2023-11-06T03:19:20.633423",
     "status": "completed"
    },
    "tags": []
   },
   "outputs": [],
   "source": [
    "# loading dataset\n",
    "data = pd.read_csv('/kaggle/input/diabetes-dataset/diabetes.csv')"
   ]
  },
  {
   "cell_type": "code",
   "execution_count": 3,
   "id": "b583bbbf",
   "metadata": {
    "execution": {
     "iopub.execute_input": "2023-11-06T03:19:20.747718Z",
     "iopub.status.busy": "2023-11-06T03:19:20.746765Z",
     "iopub.status.idle": "2023-11-06T03:19:20.770631Z",
     "shell.execute_reply": "2023-11-06T03:19:20.769506Z"
    },
    "papermill": {
     "duration": 0.035628,
     "end_time": "2023-11-06T03:19:20.773069",
     "exception": false,
     "start_time": "2023-11-06T03:19:20.737441",
     "status": "completed"
    },
    "tags": []
   },
   "outputs": [
    {
     "data": {
      "text/html": [
       "<div>\n",
       "<style scoped>\n",
       "    .dataframe tbody tr th:only-of-type {\n",
       "        vertical-align: middle;\n",
       "    }\n",
       "\n",
       "    .dataframe tbody tr th {\n",
       "        vertical-align: top;\n",
       "    }\n",
       "\n",
       "    .dataframe thead th {\n",
       "        text-align: right;\n",
       "    }\n",
       "</style>\n",
       "<table border=\"1\" class=\"dataframe\">\n",
       "  <thead>\n",
       "    <tr style=\"text-align: right;\">\n",
       "      <th></th>\n",
       "      <th>Pregnancies</th>\n",
       "      <th>Glucose</th>\n",
       "      <th>BloodPressure</th>\n",
       "      <th>SkinThickness</th>\n",
       "      <th>Insulin</th>\n",
       "      <th>BMI</th>\n",
       "      <th>DiabetesPedigreeFunction</th>\n",
       "      <th>Age</th>\n",
       "      <th>Outcome</th>\n",
       "    </tr>\n",
       "  </thead>\n",
       "  <tbody>\n",
       "    <tr>\n",
       "      <th>0</th>\n",
       "      <td>6</td>\n",
       "      <td>148</td>\n",
       "      <td>72</td>\n",
       "      <td>35</td>\n",
       "      <td>0</td>\n",
       "      <td>33.6</td>\n",
       "      <td>0.627</td>\n",
       "      <td>50</td>\n",
       "      <td>1</td>\n",
       "    </tr>\n",
       "    <tr>\n",
       "      <th>1</th>\n",
       "      <td>1</td>\n",
       "      <td>85</td>\n",
       "      <td>66</td>\n",
       "      <td>29</td>\n",
       "      <td>0</td>\n",
       "      <td>26.6</td>\n",
       "      <td>0.351</td>\n",
       "      <td>31</td>\n",
       "      <td>0</td>\n",
       "    </tr>\n",
       "    <tr>\n",
       "      <th>2</th>\n",
       "      <td>8</td>\n",
       "      <td>183</td>\n",
       "      <td>64</td>\n",
       "      <td>0</td>\n",
       "      <td>0</td>\n",
       "      <td>23.3</td>\n",
       "      <td>0.672</td>\n",
       "      <td>32</td>\n",
       "      <td>1</td>\n",
       "    </tr>\n",
       "    <tr>\n",
       "      <th>3</th>\n",
       "      <td>1</td>\n",
       "      <td>89</td>\n",
       "      <td>66</td>\n",
       "      <td>23</td>\n",
       "      <td>94</td>\n",
       "      <td>28.1</td>\n",
       "      <td>0.167</td>\n",
       "      <td>21</td>\n",
       "      <td>0</td>\n",
       "    </tr>\n",
       "    <tr>\n",
       "      <th>4</th>\n",
       "      <td>0</td>\n",
       "      <td>137</td>\n",
       "      <td>40</td>\n",
       "      <td>35</td>\n",
       "      <td>168</td>\n",
       "      <td>43.1</td>\n",
       "      <td>2.288</td>\n",
       "      <td>33</td>\n",
       "      <td>1</td>\n",
       "    </tr>\n",
       "  </tbody>\n",
       "</table>\n",
       "</div>"
      ],
      "text/plain": [
       "   Pregnancies  Glucose  BloodPressure  SkinThickness  Insulin   BMI  \\\n",
       "0            6      148             72             35        0  33.6   \n",
       "1            1       85             66             29        0  26.6   \n",
       "2            8      183             64              0        0  23.3   \n",
       "3            1       89             66             23       94  28.1   \n",
       "4            0      137             40             35      168  43.1   \n",
       "\n",
       "   DiabetesPedigreeFunction  Age  Outcome  \n",
       "0                     0.627   50        1  \n",
       "1                     0.351   31        0  \n",
       "2                     0.672   32        1  \n",
       "3                     0.167   21        0  \n",
       "4                     2.288   33        1  "
      ]
     },
     "execution_count": 3,
     "metadata": {},
     "output_type": "execute_result"
    }
   ],
   "source": [
    "data.head()"
   ]
  },
  {
   "cell_type": "code",
   "execution_count": 4,
   "id": "43b7feb9",
   "metadata": {
    "execution": {
     "iopub.execute_input": "2023-11-06T03:19:20.791755Z",
     "iopub.status.busy": "2023-11-06T03:19:20.791345Z",
     "iopub.status.idle": "2023-11-06T03:19:20.798662Z",
     "shell.execute_reply": "2023-11-06T03:19:20.797442Z"
    },
    "papermill": {
     "duration": 0.019099,
     "end_time": "2023-11-06T03:19:20.800863",
     "exception": false,
     "start_time": "2023-11-06T03:19:20.781764",
     "status": "completed"
    },
    "tags": []
   },
   "outputs": [
    {
     "data": {
      "text/plain": [
       "(768, 9)"
      ]
     },
     "execution_count": 4,
     "metadata": {},
     "output_type": "execute_result"
    }
   ],
   "source": [
    "# number of rows and column\n",
    "data.shape"
   ]
  },
  {
   "cell_type": "code",
   "execution_count": 5,
   "id": "10cda185",
   "metadata": {
    "execution": {
     "iopub.execute_input": "2023-11-06T03:19:20.819630Z",
     "iopub.status.busy": "2023-11-06T03:19:20.819234Z",
     "iopub.status.idle": "2023-11-06T03:19:20.859940Z",
     "shell.execute_reply": "2023-11-06T03:19:20.858769Z"
    },
    "papermill": {
     "duration": 0.052753,
     "end_time": "2023-11-06T03:19:20.862215",
     "exception": false,
     "start_time": "2023-11-06T03:19:20.809462",
     "status": "completed"
    },
    "tags": []
   },
   "outputs": [
    {
     "data": {
      "text/html": [
       "<div>\n",
       "<style scoped>\n",
       "    .dataframe tbody tr th:only-of-type {\n",
       "        vertical-align: middle;\n",
       "    }\n",
       "\n",
       "    .dataframe tbody tr th {\n",
       "        vertical-align: top;\n",
       "    }\n",
       "\n",
       "    .dataframe thead th {\n",
       "        text-align: right;\n",
       "    }\n",
       "</style>\n",
       "<table border=\"1\" class=\"dataframe\">\n",
       "  <thead>\n",
       "    <tr style=\"text-align: right;\">\n",
       "      <th></th>\n",
       "      <th>count</th>\n",
       "      <th>mean</th>\n",
       "      <th>std</th>\n",
       "      <th>min</th>\n",
       "      <th>25%</th>\n",
       "      <th>50%</th>\n",
       "      <th>75%</th>\n",
       "      <th>max</th>\n",
       "    </tr>\n",
       "  </thead>\n",
       "  <tbody>\n",
       "    <tr>\n",
       "      <th>Pregnancies</th>\n",
       "      <td>768.0</td>\n",
       "      <td>3.845052</td>\n",
       "      <td>3.369578</td>\n",
       "      <td>0.000</td>\n",
       "      <td>1.00000</td>\n",
       "      <td>3.0000</td>\n",
       "      <td>6.00000</td>\n",
       "      <td>17.00</td>\n",
       "    </tr>\n",
       "    <tr>\n",
       "      <th>Glucose</th>\n",
       "      <td>768.0</td>\n",
       "      <td>120.894531</td>\n",
       "      <td>31.972618</td>\n",
       "      <td>0.000</td>\n",
       "      <td>99.00000</td>\n",
       "      <td>117.0000</td>\n",
       "      <td>140.25000</td>\n",
       "      <td>199.00</td>\n",
       "    </tr>\n",
       "    <tr>\n",
       "      <th>BloodPressure</th>\n",
       "      <td>768.0</td>\n",
       "      <td>69.105469</td>\n",
       "      <td>19.355807</td>\n",
       "      <td>0.000</td>\n",
       "      <td>62.00000</td>\n",
       "      <td>72.0000</td>\n",
       "      <td>80.00000</td>\n",
       "      <td>122.00</td>\n",
       "    </tr>\n",
       "    <tr>\n",
       "      <th>SkinThickness</th>\n",
       "      <td>768.0</td>\n",
       "      <td>20.536458</td>\n",
       "      <td>15.952218</td>\n",
       "      <td>0.000</td>\n",
       "      <td>0.00000</td>\n",
       "      <td>23.0000</td>\n",
       "      <td>32.00000</td>\n",
       "      <td>99.00</td>\n",
       "    </tr>\n",
       "    <tr>\n",
       "      <th>Insulin</th>\n",
       "      <td>768.0</td>\n",
       "      <td>79.799479</td>\n",
       "      <td>115.244002</td>\n",
       "      <td>0.000</td>\n",
       "      <td>0.00000</td>\n",
       "      <td>30.5000</td>\n",
       "      <td>127.25000</td>\n",
       "      <td>846.00</td>\n",
       "    </tr>\n",
       "    <tr>\n",
       "      <th>BMI</th>\n",
       "      <td>768.0</td>\n",
       "      <td>31.992578</td>\n",
       "      <td>7.884160</td>\n",
       "      <td>0.000</td>\n",
       "      <td>27.30000</td>\n",
       "      <td>32.0000</td>\n",
       "      <td>36.60000</td>\n",
       "      <td>67.10</td>\n",
       "    </tr>\n",
       "    <tr>\n",
       "      <th>DiabetesPedigreeFunction</th>\n",
       "      <td>768.0</td>\n",
       "      <td>0.471876</td>\n",
       "      <td>0.331329</td>\n",
       "      <td>0.078</td>\n",
       "      <td>0.24375</td>\n",
       "      <td>0.3725</td>\n",
       "      <td>0.62625</td>\n",
       "      <td>2.42</td>\n",
       "    </tr>\n",
       "    <tr>\n",
       "      <th>Age</th>\n",
       "      <td>768.0</td>\n",
       "      <td>33.240885</td>\n",
       "      <td>11.760232</td>\n",
       "      <td>21.000</td>\n",
       "      <td>24.00000</td>\n",
       "      <td>29.0000</td>\n",
       "      <td>41.00000</td>\n",
       "      <td>81.00</td>\n",
       "    </tr>\n",
       "    <tr>\n",
       "      <th>Outcome</th>\n",
       "      <td>768.0</td>\n",
       "      <td>0.348958</td>\n",
       "      <td>0.476951</td>\n",
       "      <td>0.000</td>\n",
       "      <td>0.00000</td>\n",
       "      <td>0.0000</td>\n",
       "      <td>1.00000</td>\n",
       "      <td>1.00</td>\n",
       "    </tr>\n",
       "  </tbody>\n",
       "</table>\n",
       "</div>"
      ],
      "text/plain": [
       "                          count        mean         std     min       25%  \\\n",
       "Pregnancies               768.0    3.845052    3.369578   0.000   1.00000   \n",
       "Glucose                   768.0  120.894531   31.972618   0.000  99.00000   \n",
       "BloodPressure             768.0   69.105469   19.355807   0.000  62.00000   \n",
       "SkinThickness             768.0   20.536458   15.952218   0.000   0.00000   \n",
       "Insulin                   768.0   79.799479  115.244002   0.000   0.00000   \n",
       "BMI                       768.0   31.992578    7.884160   0.000  27.30000   \n",
       "DiabetesPedigreeFunction  768.0    0.471876    0.331329   0.078   0.24375   \n",
       "Age                       768.0   33.240885   11.760232  21.000  24.00000   \n",
       "Outcome                   768.0    0.348958    0.476951   0.000   0.00000   \n",
       "\n",
       "                               50%        75%     max  \n",
       "Pregnancies                 3.0000    6.00000   17.00  \n",
       "Glucose                   117.0000  140.25000  199.00  \n",
       "BloodPressure              72.0000   80.00000  122.00  \n",
       "SkinThickness              23.0000   32.00000   99.00  \n",
       "Insulin                    30.5000  127.25000  846.00  \n",
       "BMI                        32.0000   36.60000   67.10  \n",
       "DiabetesPedigreeFunction    0.3725    0.62625    2.42  \n",
       "Age                        29.0000   41.00000   81.00  \n",
       "Outcome                     0.0000    1.00000    1.00  "
      ]
     },
     "execution_count": 5,
     "metadata": {},
     "output_type": "execute_result"
    }
   ],
   "source": [
    "# getting the statistical measures of the dataset\n",
    "data.describe().T"
   ]
  },
  {
   "cell_type": "markdown",
   "id": "be5e20d2",
   "metadata": {
    "papermill": {
     "duration": 0.008435,
     "end_time": "2023-11-06T03:19:20.879458",
     "exception": false,
     "start_time": "2023-11-06T03:19:20.871023",
     "status": "completed"
    },
    "tags": []
   },
   "source": [
    "# Splitting the data"
   ]
  },
  {
   "cell_type": "code",
   "execution_count": 6,
   "id": "a78334bc",
   "metadata": {
    "execution": {
     "iopub.execute_input": "2023-11-06T03:19:20.899387Z",
     "iopub.status.busy": "2023-11-06T03:19:20.898118Z",
     "iopub.status.idle": "2023-11-06T03:19:20.912084Z",
     "shell.execute_reply": "2023-11-06T03:19:20.910941Z"
    },
    "papermill": {
     "duration": 0.026651,
     "end_time": "2023-11-06T03:19:20.914831",
     "exception": false,
     "start_time": "2023-11-06T03:19:20.888180",
     "status": "completed"
    },
    "tags": []
   },
   "outputs": [],
   "source": [
    "# deciding feature and target variable for model\n",
    "\n",
    "features = data.drop(columns = 'Outcome', axis = 1)\n",
    "target = data['Outcome']"
   ]
  },
  {
   "cell_type": "code",
   "execution_count": 7,
   "id": "8177de51",
   "metadata": {
    "execution": {
     "iopub.execute_input": "2023-11-06T03:19:20.934276Z",
     "iopub.status.busy": "2023-11-06T03:19:20.933834Z",
     "iopub.status.idle": "2023-11-06T03:19:20.951609Z",
     "shell.execute_reply": "2023-11-06T03:19:20.950514Z"
    },
    "papermill": {
     "duration": 0.029828,
     "end_time": "2023-11-06T03:19:20.953607",
     "exception": false,
     "start_time": "2023-11-06T03:19:20.923779",
     "status": "completed"
    },
    "tags": []
   },
   "outputs": [
    {
     "data": {
      "text/html": [
       "<div>\n",
       "<style scoped>\n",
       "    .dataframe tbody tr th:only-of-type {\n",
       "        vertical-align: middle;\n",
       "    }\n",
       "\n",
       "    .dataframe tbody tr th {\n",
       "        vertical-align: top;\n",
       "    }\n",
       "\n",
       "    .dataframe thead th {\n",
       "        text-align: right;\n",
       "    }\n",
       "</style>\n",
       "<table border=\"1\" class=\"dataframe\">\n",
       "  <thead>\n",
       "    <tr style=\"text-align: right;\">\n",
       "      <th></th>\n",
       "      <th>Pregnancies</th>\n",
       "      <th>Glucose</th>\n",
       "      <th>BloodPressure</th>\n",
       "      <th>SkinThickness</th>\n",
       "      <th>Insulin</th>\n",
       "      <th>BMI</th>\n",
       "      <th>DiabetesPedigreeFunction</th>\n",
       "      <th>Age</th>\n",
       "    </tr>\n",
       "  </thead>\n",
       "  <tbody>\n",
       "    <tr>\n",
       "      <th>0</th>\n",
       "      <td>6</td>\n",
       "      <td>148</td>\n",
       "      <td>72</td>\n",
       "      <td>35</td>\n",
       "      <td>0</td>\n",
       "      <td>33.6</td>\n",
       "      <td>0.627</td>\n",
       "      <td>50</td>\n",
       "    </tr>\n",
       "    <tr>\n",
       "      <th>1</th>\n",
       "      <td>1</td>\n",
       "      <td>85</td>\n",
       "      <td>66</td>\n",
       "      <td>29</td>\n",
       "      <td>0</td>\n",
       "      <td>26.6</td>\n",
       "      <td>0.351</td>\n",
       "      <td>31</td>\n",
       "    </tr>\n",
       "    <tr>\n",
       "      <th>2</th>\n",
       "      <td>8</td>\n",
       "      <td>183</td>\n",
       "      <td>64</td>\n",
       "      <td>0</td>\n",
       "      <td>0</td>\n",
       "      <td>23.3</td>\n",
       "      <td>0.672</td>\n",
       "      <td>32</td>\n",
       "    </tr>\n",
       "    <tr>\n",
       "      <th>3</th>\n",
       "      <td>1</td>\n",
       "      <td>89</td>\n",
       "      <td>66</td>\n",
       "      <td>23</td>\n",
       "      <td>94</td>\n",
       "      <td>28.1</td>\n",
       "      <td>0.167</td>\n",
       "      <td>21</td>\n",
       "    </tr>\n",
       "    <tr>\n",
       "      <th>4</th>\n",
       "      <td>0</td>\n",
       "      <td>137</td>\n",
       "      <td>40</td>\n",
       "      <td>35</td>\n",
       "      <td>168</td>\n",
       "      <td>43.1</td>\n",
       "      <td>2.288</td>\n",
       "      <td>33</td>\n",
       "    </tr>\n",
       "    <tr>\n",
       "      <th>...</th>\n",
       "      <td>...</td>\n",
       "      <td>...</td>\n",
       "      <td>...</td>\n",
       "      <td>...</td>\n",
       "      <td>...</td>\n",
       "      <td>...</td>\n",
       "      <td>...</td>\n",
       "      <td>...</td>\n",
       "    </tr>\n",
       "    <tr>\n",
       "      <th>763</th>\n",
       "      <td>10</td>\n",
       "      <td>101</td>\n",
       "      <td>76</td>\n",
       "      <td>48</td>\n",
       "      <td>180</td>\n",
       "      <td>32.9</td>\n",
       "      <td>0.171</td>\n",
       "      <td>63</td>\n",
       "    </tr>\n",
       "    <tr>\n",
       "      <th>764</th>\n",
       "      <td>2</td>\n",
       "      <td>122</td>\n",
       "      <td>70</td>\n",
       "      <td>27</td>\n",
       "      <td>0</td>\n",
       "      <td>36.8</td>\n",
       "      <td>0.340</td>\n",
       "      <td>27</td>\n",
       "    </tr>\n",
       "    <tr>\n",
       "      <th>765</th>\n",
       "      <td>5</td>\n",
       "      <td>121</td>\n",
       "      <td>72</td>\n",
       "      <td>23</td>\n",
       "      <td>112</td>\n",
       "      <td>26.2</td>\n",
       "      <td>0.245</td>\n",
       "      <td>30</td>\n",
       "    </tr>\n",
       "    <tr>\n",
       "      <th>766</th>\n",
       "      <td>1</td>\n",
       "      <td>126</td>\n",
       "      <td>60</td>\n",
       "      <td>0</td>\n",
       "      <td>0</td>\n",
       "      <td>30.1</td>\n",
       "      <td>0.349</td>\n",
       "      <td>47</td>\n",
       "    </tr>\n",
       "    <tr>\n",
       "      <th>767</th>\n",
       "      <td>1</td>\n",
       "      <td>93</td>\n",
       "      <td>70</td>\n",
       "      <td>31</td>\n",
       "      <td>0</td>\n",
       "      <td>30.4</td>\n",
       "      <td>0.315</td>\n",
       "      <td>23</td>\n",
       "    </tr>\n",
       "  </tbody>\n",
       "</table>\n",
       "<p>768 rows × 8 columns</p>\n",
       "</div>"
      ],
      "text/plain": [
       "     Pregnancies  Glucose  BloodPressure  SkinThickness  Insulin   BMI  \\\n",
       "0              6      148             72             35        0  33.6   \n",
       "1              1       85             66             29        0  26.6   \n",
       "2              8      183             64              0        0  23.3   \n",
       "3              1       89             66             23       94  28.1   \n",
       "4              0      137             40             35      168  43.1   \n",
       "..           ...      ...            ...            ...      ...   ...   \n",
       "763           10      101             76             48      180  32.9   \n",
       "764            2      122             70             27        0  36.8   \n",
       "765            5      121             72             23      112  26.2   \n",
       "766            1      126             60              0        0  30.1   \n",
       "767            1       93             70             31        0  30.4   \n",
       "\n",
       "     DiabetesPedigreeFunction  Age  \n",
       "0                       0.627   50  \n",
       "1                       0.351   31  \n",
       "2                       0.672   32  \n",
       "3                       0.167   21  \n",
       "4                       2.288   33  \n",
       "..                        ...  ...  \n",
       "763                     0.171   63  \n",
       "764                     0.340   27  \n",
       "765                     0.245   30  \n",
       "766                     0.349   47  \n",
       "767                     0.315   23  \n",
       "\n",
       "[768 rows x 8 columns]"
      ]
     },
     "execution_count": 7,
     "metadata": {},
     "output_type": "execute_result"
    }
   ],
   "source": [
    "features"
   ]
  },
  {
   "cell_type": "code",
   "execution_count": 8,
   "id": "d2651405",
   "metadata": {
    "execution": {
     "iopub.execute_input": "2023-11-06T03:19:20.974320Z",
     "iopub.status.busy": "2023-11-06T03:19:20.973178Z",
     "iopub.status.idle": "2023-11-06T03:19:20.979629Z",
     "shell.execute_reply": "2023-11-06T03:19:20.978733Z"
    },
    "papermill": {
     "duration": 0.019032,
     "end_time": "2023-11-06T03:19:20.981764",
     "exception": false,
     "start_time": "2023-11-06T03:19:20.962732",
     "status": "completed"
    },
    "tags": []
   },
   "outputs": [
    {
     "name": "stdout",
     "output_type": "stream",
     "text": [
      "0      1\n",
      "1      0\n",
      "2      1\n",
      "3      0\n",
      "4      1\n",
      "      ..\n",
      "763    0\n",
      "764    0\n",
      "765    0\n",
      "766    1\n",
      "767    0\n",
      "Name: Outcome, Length: 768, dtype: int64\n"
     ]
    }
   ],
   "source": [
    "print(target)"
   ]
  },
  {
   "cell_type": "markdown",
   "id": "574ccff1",
   "metadata": {
    "papermill": {
     "duration": 0.008797,
     "end_time": "2023-11-06T03:19:21.000168",
     "exception": false,
     "start_time": "2023-11-06T03:19:20.991371",
     "status": "completed"
    },
    "tags": []
   },
   "source": [
    "# Data Standardization"
   ]
  },
  {
   "cell_type": "code",
   "execution_count": 9,
   "id": "c181ba26",
   "metadata": {
    "execution": {
     "iopub.execute_input": "2023-11-06T03:19:21.020630Z",
     "iopub.status.busy": "2023-11-06T03:19:21.019705Z",
     "iopub.status.idle": "2023-11-06T03:19:21.025510Z",
     "shell.execute_reply": "2023-11-06T03:19:21.024196Z"
    },
    "papermill": {
     "duration": 0.018743,
     "end_time": "2023-11-06T03:19:21.028157",
     "exception": false,
     "start_time": "2023-11-06T03:19:21.009414",
     "status": "completed"
    },
    "tags": []
   },
   "outputs": [],
   "source": [
    "# StandardScaler standardizes a feature by subtracting the mean and then scaling to unit variance.\n",
    "# Unit variance means dividing all the values by the standard deviation.\n",
    "\n",
    "# creating object for standardscalar \n",
    "scaler = StandardScaler()"
   ]
  },
  {
   "cell_type": "code",
   "execution_count": 10,
   "id": "6c9d6c20",
   "metadata": {
    "execution": {
     "iopub.execute_input": "2023-11-06T03:19:21.049875Z",
     "iopub.status.busy": "2023-11-06T03:19:21.049237Z",
     "iopub.status.idle": "2023-11-06T03:19:21.064100Z",
     "shell.execute_reply": "2023-11-06T03:19:21.062954Z"
    },
    "papermill": {
     "duration": 0.028613,
     "end_time": "2023-11-06T03:19:21.066625",
     "exception": false,
     "start_time": "2023-11-06T03:19:21.038012",
     "status": "completed"
    },
    "tags": []
   },
   "outputs": [
    {
     "data": {
      "text/html": [
       "<style>#sk-container-id-1 {color: black;background-color: white;}#sk-container-id-1 pre{padding: 0;}#sk-container-id-1 div.sk-toggleable {background-color: white;}#sk-container-id-1 label.sk-toggleable__label {cursor: pointer;display: block;width: 100%;margin-bottom: 0;padding: 0.3em;box-sizing: border-box;text-align: center;}#sk-container-id-1 label.sk-toggleable__label-arrow:before {content: \"▸\";float: left;margin-right: 0.25em;color: #696969;}#sk-container-id-1 label.sk-toggleable__label-arrow:hover:before {color: black;}#sk-container-id-1 div.sk-estimator:hover label.sk-toggleable__label-arrow:before {color: black;}#sk-container-id-1 div.sk-toggleable__content {max-height: 0;max-width: 0;overflow: hidden;text-align: left;background-color: #f0f8ff;}#sk-container-id-1 div.sk-toggleable__content pre {margin: 0.2em;color: black;border-radius: 0.25em;background-color: #f0f8ff;}#sk-container-id-1 input.sk-toggleable__control:checked~div.sk-toggleable__content {max-height: 200px;max-width: 100%;overflow: auto;}#sk-container-id-1 input.sk-toggleable__control:checked~label.sk-toggleable__label-arrow:before {content: \"▾\";}#sk-container-id-1 div.sk-estimator input.sk-toggleable__control:checked~label.sk-toggleable__label {background-color: #d4ebff;}#sk-container-id-1 div.sk-label input.sk-toggleable__control:checked~label.sk-toggleable__label {background-color: #d4ebff;}#sk-container-id-1 input.sk-hidden--visually {border: 0;clip: rect(1px 1px 1px 1px);clip: rect(1px, 1px, 1px, 1px);height: 1px;margin: -1px;overflow: hidden;padding: 0;position: absolute;width: 1px;}#sk-container-id-1 div.sk-estimator {font-family: monospace;background-color: #f0f8ff;border: 1px dotted black;border-radius: 0.25em;box-sizing: border-box;margin-bottom: 0.5em;}#sk-container-id-1 div.sk-estimator:hover {background-color: #d4ebff;}#sk-container-id-1 div.sk-parallel-item::after {content: \"\";width: 100%;border-bottom: 1px solid gray;flex-grow: 1;}#sk-container-id-1 div.sk-label:hover label.sk-toggleable__label {background-color: #d4ebff;}#sk-container-id-1 div.sk-serial::before {content: \"\";position: absolute;border-left: 1px solid gray;box-sizing: border-box;top: 0;bottom: 0;left: 50%;z-index: 0;}#sk-container-id-1 div.sk-serial {display: flex;flex-direction: column;align-items: center;background-color: white;padding-right: 0.2em;padding-left: 0.2em;position: relative;}#sk-container-id-1 div.sk-item {position: relative;z-index: 1;}#sk-container-id-1 div.sk-parallel {display: flex;align-items: stretch;justify-content: center;background-color: white;position: relative;}#sk-container-id-1 div.sk-item::before, #sk-container-id-1 div.sk-parallel-item::before {content: \"\";position: absolute;border-left: 1px solid gray;box-sizing: border-box;top: 0;bottom: 0;left: 50%;z-index: -1;}#sk-container-id-1 div.sk-parallel-item {display: flex;flex-direction: column;z-index: 1;position: relative;background-color: white;}#sk-container-id-1 div.sk-parallel-item:first-child::after {align-self: flex-end;width: 50%;}#sk-container-id-1 div.sk-parallel-item:last-child::after {align-self: flex-start;width: 50%;}#sk-container-id-1 div.sk-parallel-item:only-child::after {width: 0;}#sk-container-id-1 div.sk-dashed-wrapped {border: 1px dashed gray;margin: 0 0.4em 0.5em 0.4em;box-sizing: border-box;padding-bottom: 0.4em;background-color: white;}#sk-container-id-1 div.sk-label label {font-family: monospace;font-weight: bold;display: inline-block;line-height: 1.2em;}#sk-container-id-1 div.sk-label-container {text-align: center;}#sk-container-id-1 div.sk-container {/* jupyter's `normalize.less` sets `[hidden] { display: none; }` but bootstrap.min.css set `[hidden] { display: none !important; }` so we also need the `!important` here to be able to override the default hidden behavior on the sphinx rendered scikit-learn.org. See: https://github.com/scikit-learn/scikit-learn/issues/21755 */display: inline-block !important;position: relative;}#sk-container-id-1 div.sk-text-repr-fallback {display: none;}</style><div id=\"sk-container-id-1\" class=\"sk-top-container\"><div class=\"sk-text-repr-fallback\"><pre>StandardScaler()</pre><b>In a Jupyter environment, please rerun this cell to show the HTML representation or trust the notebook. <br />On GitHub, the HTML representation is unable to render, please try loading this page with nbviewer.org.</b></div><div class=\"sk-container\" hidden><div class=\"sk-item\"><div class=\"sk-estimator sk-toggleable\"><input class=\"sk-toggleable__control sk-hidden--visually\" id=\"sk-estimator-id-1\" type=\"checkbox\" checked><label for=\"sk-estimator-id-1\" class=\"sk-toggleable__label sk-toggleable__label-arrow\">StandardScaler</label><div class=\"sk-toggleable__content\"><pre>StandardScaler()</pre></div></div></div></div></div>"
      ],
      "text/plain": [
       "StandardScaler()"
      ]
     },
     "execution_count": 10,
     "metadata": {},
     "output_type": "execute_result"
    }
   ],
   "source": [
    "# This method calculates the mean and the standard deviation to use later for scaling the data.\n",
    "\n",
    "scaler.fit(features)"
   ]
  },
  {
   "cell_type": "code",
   "execution_count": 11,
   "id": "618c4041",
   "metadata": {
    "execution": {
     "iopub.execute_input": "2023-11-06T03:19:21.086964Z",
     "iopub.status.busy": "2023-11-06T03:19:21.086563Z",
     "iopub.status.idle": "2023-11-06T03:19:21.094255Z",
     "shell.execute_reply": "2023-11-06T03:19:21.093161Z"
    },
    "papermill": {
     "duration": 0.020495,
     "end_time": "2023-11-06T03:19:21.096524",
     "exception": false,
     "start_time": "2023-11-06T03:19:21.076029",
     "status": "completed"
    },
    "tags": []
   },
   "outputs": [],
   "source": [
    "# This method fits the parameters of the data and then transforms it.\n",
    "\n",
    "standardized_data = scaler.transform(features)"
   ]
  },
  {
   "cell_type": "code",
   "execution_count": 12,
   "id": "c817f451",
   "metadata": {
    "execution": {
     "iopub.execute_input": "2023-11-06T03:19:21.117608Z",
     "iopub.status.busy": "2023-11-06T03:19:21.117044Z",
     "iopub.status.idle": "2023-11-06T03:19:21.121970Z",
     "shell.execute_reply": "2023-11-06T03:19:21.121118Z"
    },
    "papermill": {
     "duration": 0.017872,
     "end_time": "2023-11-06T03:19:21.124085",
     "exception": false,
     "start_time": "2023-11-06T03:19:21.106213",
     "status": "completed"
    },
    "tags": []
   },
   "outputs": [],
   "source": [
    "# Assigning this standardized_data to features \n",
    "\n",
    "features = standardized_data"
   ]
  },
  {
   "cell_type": "code",
   "execution_count": 13,
   "id": "9d81175b",
   "metadata": {
    "execution": {
     "iopub.execute_input": "2023-11-06T03:19:21.144783Z",
     "iopub.status.busy": "2023-11-06T03:19:21.144112Z",
     "iopub.status.idle": "2023-11-06T03:19:21.152691Z",
     "shell.execute_reply": "2023-11-06T03:19:21.151613Z"
    },
    "papermill": {
     "duration": 0.021205,
     "end_time": "2023-11-06T03:19:21.154759",
     "exception": false,
     "start_time": "2023-11-06T03:19:21.133554",
     "status": "completed"
    },
    "tags": []
   },
   "outputs": [
    {
     "data": {
      "text/plain": [
       "(array([[ 0.63994726,  0.84832379,  0.14964075, ...,  0.20401277,\n",
       "          0.46849198,  1.4259954 ],\n",
       "        [-0.84488505, -1.12339636, -0.16054575, ..., -0.68442195,\n",
       "         -0.36506078, -0.19067191],\n",
       "        [ 1.23388019,  1.94372388, -0.26394125, ..., -1.10325546,\n",
       "          0.60439732, -0.10558415],\n",
       "        ...,\n",
       "        [ 0.3429808 ,  0.00330087,  0.14964075, ..., -0.73518964,\n",
       "         -0.68519336, -0.27575966],\n",
       "        [-0.84488505,  0.1597866 , -0.47073225, ..., -0.24020459,\n",
       "         -0.37110101,  1.17073215],\n",
       "        [-0.84488505, -0.8730192 ,  0.04624525, ..., -0.20212881,\n",
       "         -0.47378505, -0.87137393]]),\n",
       " 0      1\n",
       " 1      0\n",
       " 2      1\n",
       " 3      0\n",
       " 4      1\n",
       "       ..\n",
       " 763    0\n",
       " 764    0\n",
       " 765    0\n",
       " 766    1\n",
       " 767    0\n",
       " Name: Outcome, Length: 768, dtype: int64)"
      ]
     },
     "execution_count": 13,
     "metadata": {},
     "output_type": "execute_result"
    }
   ],
   "source": [
    "features, target"
   ]
  },
  {
   "cell_type": "markdown",
   "id": "d7f041bb",
   "metadata": {
    "papermill": {
     "duration": 0.009055,
     "end_time": "2023-11-06T03:19:21.173299",
     "exception": false,
     "start_time": "2023-11-06T03:19:21.164244",
     "status": "completed"
    },
    "tags": []
   },
   "source": [
    "# Train Test Split"
   ]
  },
  {
   "cell_type": "code",
   "execution_count": 14,
   "id": "5e3acef0",
   "metadata": {
    "execution": {
     "iopub.execute_input": "2023-11-06T03:19:21.193595Z",
     "iopub.status.busy": "2023-11-06T03:19:21.193204Z",
     "iopub.status.idle": "2023-11-06T03:19:21.201040Z",
     "shell.execute_reply": "2023-11-06T03:19:21.199554Z"
    },
    "papermill": {
     "duration": 0.020564,
     "end_time": "2023-11-06T03:19:21.203224",
     "exception": false,
     "start_time": "2023-11-06T03:19:21.182660",
     "status": "completed"
    },
    "tags": []
   },
   "outputs": [
    {
     "name": "stdout",
     "output_type": "stream",
     "text": [
      " features shape :  (768, 8)\n",
      " X_train shape :  (614, 8)\n",
      " X_test shape :  (154, 8)\n"
     ]
    }
   ],
   "source": [
    "# Splitting data into traindata and testdata \n",
    "X_train, X_test, Y_train, Y_test = train_test_split(features, target, test_size=0.2, random_state = 2)\n",
    "\n",
    "print(\" features shape : \",features.shape)\n",
    "print(\" X_train shape : \",X_train.shape)\n",
    "print(\" X_test shape : \",X_test.shape)"
   ]
  },
  {
   "cell_type": "markdown",
   "id": "35005b44",
   "metadata": {
    "papermill": {
     "duration": 0.009187,
     "end_time": "2023-11-06T03:19:21.221823",
     "exception": false,
     "start_time": "2023-11-06T03:19:21.212636",
     "status": "completed"
    },
    "tags": []
   },
   "source": [
    "Training the Model"
   ]
  },
  {
   "cell_type": "markdown",
   "id": "469ce9d5",
   "metadata": {
    "papermill": {
     "duration": 0.009037,
     "end_time": "2023-11-06T03:19:21.240419",
     "exception": false,
     "start_time": "2023-11-06T03:19:21.231382",
     "status": "completed"
    },
    "tags": []
   },
   "source": [
    "# LogisticRegression"
   ]
  },
  {
   "cell_type": "code",
   "execution_count": 15,
   "id": "90d42c8b",
   "metadata": {
    "execution": {
     "iopub.execute_input": "2023-11-06T03:19:21.262521Z",
     "iopub.status.busy": "2023-11-06T03:19:21.262081Z",
     "iopub.status.idle": "2023-11-06T03:19:21.362640Z",
     "shell.execute_reply": "2023-11-06T03:19:21.361464Z"
    },
    "papermill": {
     "duration": 0.11554,
     "end_time": "2023-11-06T03:19:21.365319",
     "exception": false,
     "start_time": "2023-11-06T03:19:21.249779",
     "status": "completed"
    },
    "tags": []
   },
   "outputs": [],
   "source": [
    "# Import necessary libraries\n",
    "from sklearn.linear_model import LogisticRegression"
   ]
  },
  {
   "cell_type": "code",
   "execution_count": 16,
   "id": "77215ace",
   "metadata": {
    "execution": {
     "iopub.execute_input": "2023-11-06T03:19:21.386287Z",
     "iopub.status.busy": "2023-11-06T03:19:21.385869Z",
     "iopub.status.idle": "2023-11-06T03:19:21.404865Z",
     "shell.execute_reply": "2023-11-06T03:19:21.403402Z"
    },
    "papermill": {
     "duration": 0.032016,
     "end_time": "2023-11-06T03:19:21.407087",
     "exception": false,
     "start_time": "2023-11-06T03:19:21.375071",
     "status": "completed"
    },
    "tags": []
   },
   "outputs": [
    {
     "name": "stdout",
     "output_type": "stream",
     "text": [
      "Logistic Regression Accuracy:  0.7662337662337663\n"
     ]
    }
   ],
   "source": [
    "# Create an instance of the LogisticRegression\n",
    "classifier =  LogisticRegression()\n",
    "\n",
    "# Train the LogisticRegression on the training data\n",
    "classifier.fit(X_train, Y_train)\n",
    "\n",
    "# Evaluate the LogisticRegression on the test data\n",
    "X_test_prediction = classifier.predict(X_test)\n",
    "\n",
    "# Calculate accuracy for the LogisticRegression\n",
    "logistic_acc = accuracy_score(Y_test, X_test_prediction)\n",
    "\n",
    "# Display accuracy for Logistic regression\n",
    "print('Logistic Regression Accuracy: ', logistic_acc)"
   ]
  },
  {
   "cell_type": "markdown",
   "id": "edfcdfb5",
   "metadata": {
    "papermill": {
     "duration": 0.009508,
     "end_time": "2023-11-06T03:19:21.426590",
     "exception": false,
     "start_time": "2023-11-06T03:19:21.417082",
     "status": "completed"
    },
    "tags": []
   },
   "source": [
    "# Support Vector Machine Classifier"
   ]
  },
  {
   "cell_type": "code",
   "execution_count": 17,
   "id": "f9d9df82",
   "metadata": {
    "execution": {
     "iopub.execute_input": "2023-11-06T03:19:21.448722Z",
     "iopub.status.busy": "2023-11-06T03:19:21.447760Z",
     "iopub.status.idle": "2023-11-06T03:19:21.452722Z",
     "shell.execute_reply": "2023-11-06T03:19:21.451867Z"
    },
    "papermill": {
     "duration": 0.018234,
     "end_time": "2023-11-06T03:19:21.454876",
     "exception": false,
     "start_time": "2023-11-06T03:19:21.436642",
     "status": "completed"
    },
    "tags": []
   },
   "outputs": [],
   "source": [
    "# Import necessary libraries\n",
    "from sklearn import svm"
   ]
  },
  {
   "cell_type": "code",
   "execution_count": 18,
   "id": "a12d7cf7",
   "metadata": {
    "execution": {
     "iopub.execute_input": "2023-11-06T03:19:21.534515Z",
     "iopub.status.busy": "2023-11-06T03:19:21.534149Z",
     "iopub.status.idle": "2023-11-06T03:19:21.558250Z",
     "shell.execute_reply": "2023-11-06T03:19:21.556939Z"
    },
    "papermill": {
     "duration": 0.037851,
     "end_time": "2023-11-06T03:19:21.560813",
     "exception": false,
     "start_time": "2023-11-06T03:19:21.522962",
     "status": "completed"
    },
    "tags": []
   },
   "outputs": [
    {
     "name": "stdout",
     "output_type": "stream",
     "text": [
      "SVC Accuracy :  0.7402597402597403\n"
     ]
    }
   ],
   "source": [
    "# Create an instance of the SVC\n",
    "model = svm.SVC()\n",
    "\n",
    "# Train the SVC on the training data\n",
    "model.fit(X_train, Y_train)\n",
    "\n",
    "# Evaluate the SVC on the test data\n",
    "predicted_Y = model.predict(X_test)\n",
    "\n",
    "# Calculate accuracy for the SVC\n",
    "svm_acc = accuracy_score(Y_test, predicted_Y)\n",
    "\n",
    "# Display accuracy for the SVC\n",
    "print('SVC Accuracy : ',svm_acc)"
   ]
  },
  {
   "cell_type": "markdown",
   "id": "3c19778a",
   "metadata": {
    "papermill": {
     "duration": 0.009585,
     "end_time": "2023-11-06T03:19:21.580444",
     "exception": false,
     "start_time": "2023-11-06T03:19:21.570859",
     "status": "completed"
    },
    "tags": []
   },
   "source": [
    "# DecisionTree"
   ]
  },
  {
   "cell_type": "code",
   "execution_count": 19,
   "id": "d1866fc2",
   "metadata": {
    "execution": {
     "iopub.execute_input": "2023-11-06T03:19:21.602691Z",
     "iopub.status.busy": "2023-11-06T03:19:21.602324Z",
     "iopub.status.idle": "2023-11-06T03:19:21.759951Z",
     "shell.execute_reply": "2023-11-06T03:19:21.758830Z"
    },
    "papermill": {
     "duration": 0.171369,
     "end_time": "2023-11-06T03:19:21.762584",
     "exception": false,
     "start_time": "2023-11-06T03:19:21.591215",
     "status": "completed"
    },
    "tags": []
   },
   "outputs": [],
   "source": [
    "# Import necessary libraries\n",
    "from sklearn.tree import DecisionTreeClassifier"
   ]
  },
  {
   "cell_type": "code",
   "execution_count": 20,
   "id": "f166e7d6",
   "metadata": {
    "execution": {
     "iopub.execute_input": "2023-11-06T03:19:21.784511Z",
     "iopub.status.busy": "2023-11-06T03:19:21.784067Z",
     "iopub.status.idle": "2023-11-06T03:19:21.798656Z",
     "shell.execute_reply": "2023-11-06T03:19:21.797336Z"
    },
    "papermill": {
     "duration": 0.028175,
     "end_time": "2023-11-06T03:19:21.801141",
     "exception": false,
     "start_time": "2023-11-06T03:19:21.772966",
     "status": "completed"
    },
    "tags": []
   },
   "outputs": [
    {
     "name": "stdout",
     "output_type": "stream",
     "text": [
      "Decision Tree Accuracy: 0.7272727272727273\n"
     ]
    }
   ],
   "source": [
    "# Create an instance of the Decision Tree classifier\n",
    "decision = DecisionTreeClassifier()\n",
    "\n",
    "# Train the Decision Tree classifier on the training data\n",
    "decision.fit(X_train, Y_train)\n",
    "# Evaluate the Decision Tree classifier on the test data\n",
    "decision_prediction = decision.predict(X_test)\n",
    "\n",
    "# Calculate accuracy for the Decision Tree classifier\n",
    "decision_tree_acc = accuracy_score(Y_test, decision_prediction)\n",
    "\n",
    "# Display accuracy for the Decision Tree classifier\n",
    "print(\"Decision Tree Accuracy:\", decision_tree_acc)"
   ]
  },
  {
   "cell_type": "markdown",
   "id": "6c00781a",
   "metadata": {
    "papermill": {
     "duration": 0.009745,
     "end_time": "2023-11-06T03:19:21.821203",
     "exception": false,
     "start_time": "2023-11-06T03:19:21.811458",
     "status": "completed"
    },
    "tags": []
   },
   "source": [
    "#  K nearest neighbors"
   ]
  },
  {
   "cell_type": "code",
   "execution_count": 21,
   "id": "4cb256d1",
   "metadata": {
    "execution": {
     "iopub.execute_input": "2023-11-06T03:19:21.842611Z",
     "iopub.status.busy": "2023-11-06T03:19:21.842238Z",
     "iopub.status.idle": "2023-11-06T03:19:21.847221Z",
     "shell.execute_reply": "2023-11-06T03:19:21.846093Z"
    },
    "papermill": {
     "duration": 0.018445,
     "end_time": "2023-11-06T03:19:21.849554",
     "exception": false,
     "start_time": "2023-11-06T03:19:21.831109",
     "status": "completed"
    },
    "tags": []
   },
   "outputs": [],
   "source": [
    "# Import necessary libraries\n",
    "from sklearn.neighbors import KNeighborsClassifier"
   ]
  },
  {
   "cell_type": "code",
   "execution_count": 22,
   "id": "03114dcd",
   "metadata": {
    "execution": {
     "iopub.execute_input": "2023-11-06T03:19:21.871474Z",
     "iopub.status.busy": "2023-11-06T03:19:21.871069Z",
     "iopub.status.idle": "2023-11-06T03:19:21.892385Z",
     "shell.execute_reply": "2023-11-06T03:19:21.890993Z"
    },
    "papermill": {
     "duration": 0.035103,
     "end_time": "2023-11-06T03:19:21.894641",
     "exception": false,
     "start_time": "2023-11-06T03:19:21.859538",
     "status": "completed"
    },
    "tags": []
   },
   "outputs": [
    {
     "name": "stdout",
     "output_type": "stream",
     "text": [
      "KNN Accuracy: 0.7662337662337663\n"
     ]
    }
   ],
   "source": [
    "# Create an instance of the KNN classifier with a specific number of neighbors (e.g., 3)\n",
    "knn_classifier = KNeighborsClassifier(n_neighbors=2)\n",
    "\n",
    "# Train the KNN classifier on the training data\n",
    "knn_classifier.fit(X_train, Y_train)\n",
    "\n",
    "# Evaluate the KNN classifier on the test data\n",
    "knn_test_data_prediction = knn_classifier.predict(X_test)\n",
    "\n",
    "# Calculate accuracy for the KNN classifier\n",
    "knn_acc = accuracy_score(Y_test, knn_test_data_prediction)\n",
    "\n",
    "# Display accuracy for the KNN classifier\n",
    "print(\"KNN Accuracy:\", knn_acc)"
   ]
  },
  {
   "cell_type": "markdown",
   "id": "11a08f9b",
   "metadata": {
    "papermill": {
     "duration": 0.009935,
     "end_time": "2023-11-06T03:19:21.914592",
     "exception": false,
     "start_time": "2023-11-06T03:19:21.904657",
     "status": "completed"
    },
    "tags": []
   },
   "source": [
    "# Naive bayes"
   ]
  },
  {
   "cell_type": "code",
   "execution_count": 23,
   "id": "7fa93ffe",
   "metadata": {
    "execution": {
     "iopub.execute_input": "2023-11-06T03:19:21.937686Z",
     "iopub.status.busy": "2023-11-06T03:19:21.936572Z",
     "iopub.status.idle": "2023-11-06T03:19:21.949915Z",
     "shell.execute_reply": "2023-11-06T03:19:21.949068Z"
    },
    "papermill": {
     "duration": 0.02734,
     "end_time": "2023-11-06T03:19:21.952277",
     "exception": false,
     "start_time": "2023-11-06T03:19:21.924937",
     "status": "completed"
    },
    "tags": []
   },
   "outputs": [],
   "source": [
    "# Import necessary libraries\n",
    "from sklearn.naive_bayes import GaussianNB"
   ]
  },
  {
   "cell_type": "code",
   "execution_count": 24,
   "id": "062f3adb",
   "metadata": {
    "execution": {
     "iopub.execute_input": "2023-11-06T03:19:21.974182Z",
     "iopub.status.busy": "2023-11-06T03:19:21.973752Z",
     "iopub.status.idle": "2023-11-06T03:19:21.983968Z",
     "shell.execute_reply": "2023-11-06T03:19:21.982994Z"
    },
    "papermill": {
     "duration": 0.023585,
     "end_time": "2023-11-06T03:19:21.985960",
     "exception": false,
     "start_time": "2023-11-06T03:19:21.962375",
     "status": "completed"
    },
    "tags": []
   },
   "outputs": [
    {
     "name": "stdout",
     "output_type": "stream",
     "text": [
      "Naive Bayes Accuracy: 0.7597402597402597\n"
     ]
    }
   ],
   "source": [
    "# Create an instance of the Gaussian Naive Bayes classifier\n",
    "naive_bayes_classifier = GaussianNB()\n",
    "\n",
    "# Train the Naive Bayes classifier on the training data\n",
    "naive_bayes_classifier.fit(X_train, Y_train)\n",
    "\n",
    "# Evaluate the Naive Bayes classifier on the test data\n",
    "naive_bayes_test_data_prediction = naive_bayes_classifier.predict(X_test)\n",
    "\n",
    "# Calculate accuracy for the Naive Bayes classifier\n",
    "naive_bayes_acc = accuracy_score(Y_test, naive_bayes_test_data_prediction)\n",
    "\n",
    "# Display accuracy for the Naive Bayes classifier\n",
    "print(\"Naive Bayes Accuracy:\", naive_bayes_acc)"
   ]
  },
  {
   "cell_type": "markdown",
   "id": "97d4c3ae",
   "metadata": {
    "papermill": {
     "duration": 0.010234,
     "end_time": "2023-11-06T03:19:22.006722",
     "exception": false,
     "start_time": "2023-11-06T03:19:21.996488",
     "status": "completed"
    },
    "tags": []
   },
   "source": [
    "# RandomForest"
   ]
  },
  {
   "cell_type": "code",
   "execution_count": 25,
   "id": "88ff81cc",
   "metadata": {
    "execution": {
     "iopub.execute_input": "2023-11-06T03:19:22.029234Z",
     "iopub.status.busy": "2023-11-06T03:19:22.028588Z",
     "iopub.status.idle": "2023-11-06T03:19:22.151159Z",
     "shell.execute_reply": "2023-11-06T03:19:22.149987Z"
    },
    "papermill": {
     "duration": 0.137105,
     "end_time": "2023-11-06T03:19:22.154117",
     "exception": false,
     "start_time": "2023-11-06T03:19:22.017012",
     "status": "completed"
    },
    "tags": []
   },
   "outputs": [],
   "source": [
    "# Import necessary libraries\n",
    "from sklearn.ensemble import RandomForestClassifier"
   ]
  },
  {
   "cell_type": "code",
   "execution_count": 26,
   "id": "924e583c",
   "metadata": {
    "execution": {
     "iopub.execute_input": "2023-11-06T03:19:22.175890Z",
     "iopub.status.busy": "2023-11-06T03:19:22.175526Z",
     "iopub.status.idle": "2023-11-06T03:19:22.406401Z",
     "shell.execute_reply": "2023-11-06T03:19:22.405211Z"
    },
    "papermill": {
     "duration": 0.244844,
     "end_time": "2023-11-06T03:19:22.408955",
     "exception": false,
     "start_time": "2023-11-06T03:19:22.164111",
     "status": "completed"
    },
    "tags": []
   },
   "outputs": [
    {
     "name": "stdout",
     "output_type": "stream",
     "text": [
      "Random Forest Accuracy: 0.7207792207792207\n"
     ]
    }
   ],
   "source": [
    "# Create an instance of the Random Forest classifier\n",
    "random_forest_classifier = RandomForestClassifier()\n",
    "\n",
    "# Train the Random Forest classifier on the training data\n",
    "random_forest_classifier.fit(X_train, Y_train)\n",
    "\n",
    "# Evaluate the Random Forest classifier on the test data\n",
    "random_forest_test_data_prediction = random_forest_classifier.predict(X_test)\n",
    "\n",
    "# Calculate accuracy for the Random Forest classifier\n",
    "random_forest_acc = accuracy_score(Y_test, random_forest_test_data_prediction)\n",
    "\n",
    "# Display accuracy for the Random Forest classifier\n",
    "print(\"Random Forest Accuracy:\", random_forest_acc)"
   ]
  },
  {
   "cell_type": "markdown",
   "id": "66d94a64",
   "metadata": {
    "papermill": {
     "duration": 0.010324,
     "end_time": "2023-11-06T03:19:22.429589",
     "exception": false,
     "start_time": "2023-11-06T03:19:22.419265",
     "status": "completed"
    },
    "tags": []
   },
   "source": [
    "# COMPARING ACCURACY OF DIFFRENT MODELS"
   ]
  },
  {
   "cell_type": "code",
   "execution_count": 27,
   "id": "e6f15f60",
   "metadata": {
    "execution": {
     "iopub.execute_input": "2023-11-06T03:19:22.451541Z",
     "iopub.status.busy": "2023-11-06T03:19:22.451107Z",
     "iopub.status.idle": "2023-11-06T03:19:22.767690Z",
     "shell.execute_reply": "2023-11-06T03:19:22.766583Z"
    },
    "papermill": {
     "duration": 0.330558,
     "end_time": "2023-11-06T03:19:22.770086",
     "exception": false,
     "start_time": "2023-11-06T03:19:22.439528",
     "status": "completed"
    },
    "tags": []
   },
   "outputs": [
    {
     "data": {
      "text/plain": [
       "<Axes: >"
      ]
     },
     "execution_count": 27,
     "metadata": {},
     "output_type": "execute_result"
    },
    {
     "data": {
      "image/png": "[encoded data removed]",
      "text/plain": [
       "<Figure size 1200x600 with 1 Axes>"
      ]
     },
     "metadata": {},
     "output_type": "display_data"
    }
   ],
   "source": [
    "# ploting graph to compare accuracy of diffrent models \n",
    "plt.figure(figsize=(12,6))\n",
    "\n",
    "model_acc = [logistic_acc,svm_acc,decision_tree_acc,knn_acc,naive_bayes_acc,random_forest_acc]\n",
    "model_name = ['LOGISTICREG..','SVM','DECISIONTREE','kNN','NAIVE BAYES','RANDOM FOREST']\n",
    "\n",
    "sns.barplot(x=model_acc, y=model_name,palette='magma')"
   ]
  },
  {
   "cell_type": "markdown",
   "id": "bfd03535",
   "metadata": {
    "papermill": {
     "duration": 0.010385,
     "end_time": "2023-11-06T03:19:22.791231",
     "exception": false,
     "start_time": "2023-11-06T03:19:22.780846",
     "status": "completed"
    },
    "tags": []
   },
   "source": [
    "### "
   ]
  }
 ],
 "metadata": {
  "kernelspec": {
   "display_name": "Python 3",
   "language": "python",
   "name": "python3"
  },
  "language_info": {
   "codemirror_mode": {
    "name": "ipython",
    "version": 3
   },
   "file_extension": ".py",
   "mimetype": "text/x-python",
   "name": "python",
   "nbconvert_exporter": "python",
   "pygments_lexer": "ipython3",
   "version": "3.10.12"
  },
  "papermill": {
   "default_parameters": {},
   "duration": 8.109041,
   "end_time": "2023-11-06T03:19:23.421802",
   "environment_variables": {},
   "exception": null,
   "input_path": "__notebook__.ipynb",
   "output_path": "__notebook__.ipynb",
   "parameters": {},
   "start_time": "2023-11-06T03:19:15.312761",
   "version": "2.4.0"
  }
 },
 "nbformat": 4,
 "nbformat_minor": 5
}
