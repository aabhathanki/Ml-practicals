{
 "cells": [
  {
   "cell_type": "code",
   "execution_count": 1,
   "id": "b648c10c",
   "metadata": {
    "execution": {
     "iopub.execute_input": "2023-11-06T03:33:09.447240Z",
     "iopub.status.busy": "2023-11-06T03:33:09.446958Z",
     "iopub.status.idle": "2023-11-06T03:33:11.064162Z",
     "shell.execute_reply": "2023-11-06T03:33:11.063229Z"
    },
    "papermill": {
     "duration": 1.628474,
     "end_time": "2023-11-06T03:33:11.066559",
     "exception": false,
     "start_time": "2023-11-06T03:33:09.438085",
     "status": "completed"
    },
    "tags": []
   },
   "outputs": [],
   "source": [
    "# Import necessary libraries\n",
    "\n",
    "import pandas as pd\n",
    "from sklearn.preprocessing import StandardScaler\n",
    "from sklearn.model_selection import train_test_split\n",
    "from sklearn.metrics import accuracy_score\n",
    "import seaborn as sns\n",
    "import matplotlib.pyplot as plt"
   ]
  },
  {
   "cell_type": "markdown",
   "id": "c3c785eb",
   "metadata": {
    "papermill": {
     "duration": 0.006696,
     "end_time": "2023-11-06T03:33:11.080603",
     "exception": false,
     "start_time": "2023-11-06T03:33:11.073907",
     "status": "completed"
    },
    "tags": []
   },
   "source": [
    "# Data Collection & Preprocessing"
   ]
  },
  {
   "cell_type": "code",
   "execution_count": 2,
   "id": "19489435",
   "metadata": {
    "execution": {
     "iopub.execute_input": "2023-11-06T03:33:11.096012Z",
     "iopub.status.busy": "2023-11-06T03:33:11.095627Z",
     "iopub.status.idle": "2023-11-06T03:33:11.118720Z",
     "shell.execute_reply": "2023-11-06T03:33:11.117890Z"
    },
    "papermill": {
     "duration": 0.032976,
     "end_time": "2023-11-06T03:33:11.120742",
     "exception": false,
     "start_time": "2023-11-06T03:33:11.087766",
     "status": "completed"
    },
    "tags": []
   },
   "outputs": [],
   "source": [
    "# loading dataset\n",
    "data = pd.read_csv('/kaggle/input/diabetes-dataset/diabetes.csv')"
   ]
  },
  {
   "cell_type": "code",
   "execution_count": 3,
   "id": "3db28a41",
   "metadata": {
    "execution": {
     "iopub.execute_input": "2023-11-06T03:33:11.136142Z",
     "iopub.status.busy": "2023-11-06T03:33:11.135619Z",
     "iopub.status.idle": "2023-11-06T03:33:11.155012Z",
     "shell.execute_reply": "2023-11-06T03:33:11.153928Z"
    },
    "papermill": {
     "duration": 0.028717,
     "end_time": "2023-11-06T03:33:11.156672",
     "exception": false,
     "start_time": "2023-11-06T03:33:11.127955",
     "status": "completed"
    },
    "tags": []
   },
   "outputs": [
    {
     "data": {
      "text/html": [
       "<div>\n",
       "<style scoped>\n",
       "    .dataframe tbody tr th:only-of-type {\n",
       "        vertical-align: middle;\n",
       "    }\n",
       "\n",
       "    .dataframe tbody tr th {\n",
       "        vertical-align: top;\n",
       "    }\n",
       "\n",
       "    .dataframe thead th {\n",
       "        text-align: right;\n",
       "    }\n",
       "</style>\n",
       "<table border=\"1\" class=\"dataframe\">\n",
       "  <thead>\n",
       "    <tr style=\"text-align: right;\">\n",
       "      <th></th>\n",
       "      <th>Pregnancies</th>\n",
       "      <th>Glucose</th>\n",
       "      <th>BloodPressure</th>\n",
       "      <th>SkinThickness</th>\n",
       "      <th>Insulin</th>\n",
       "      <th>BMI</th>\n",
       "      <th>DiabetesPedigreeFunction</th>\n",
       "      <th>Age</th>\n",
       "      <th>Outcome</th>\n",
       "    </tr>\n",
       "  </thead>\n",
       "  <tbody>\n",
       "    <tr>\n",
       "      <th>0</th>\n",
       "      <td>6</td>\n",
       "      <td>148</td>\n",
       "      <td>72</td>\n",
       "      <td>35</td>\n",
       "      <td>0</td>\n",
       "      <td>33.6</td>\n",
       "      <td>0.627</td>\n",
       "      <td>50</td>\n",
       "      <td>1</td>\n",
       "    </tr>\n",
       "    <tr>\n",
       "      <th>1</th>\n",
       "      <td>1</td>\n",
       "      <td>85</td>\n",
       "      <td>66</td>\n",
       "      <td>29</td>\n",
       "      <td>0</td>\n",
       "      <td>26.6</td>\n",
       "      <td>0.351</td>\n",
       "      <td>31</td>\n",
       "      <td>0</td>\n",
       "    </tr>\n",
       "    <tr>\n",
       "      <th>2</th>\n",
       "      <td>8</td>\n",
       "      <td>183</td>\n",
       "      <td>64</td>\n",
       "      <td>0</td>\n",
       "      <td>0</td>\n",
       "      <td>23.3</td>\n",
       "      <td>0.672</td>\n",
       "      <td>32</td>\n",
       "      <td>1</td>\n",
       "    </tr>\n",
       "    <tr>\n",
       "      <th>3</th>\n",
       "      <td>1</td>\n",
       "      <td>89</td>\n",
       "      <td>66</td>\n",
       "      <td>23</td>\n",
       "      <td>94</td>\n",
       "      <td>28.1</td>\n",
       "      <td>0.167</td>\n",
       "      <td>21</td>\n",
       "      <td>0</td>\n",
       "    </tr>\n",
       "    <tr>\n",
       "      <th>4</th>\n",
       "      <td>0</td>\n",
       "      <td>137</td>\n",
       "      <td>40</td>\n",
       "      <td>35</td>\n",
       "      <td>168</td>\n",
       "      <td>43.1</td>\n",
       "      <td>2.288</td>\n",
       "      <td>33</td>\n",
       "      <td>1</td>\n",
       "    </tr>\n",
       "  </tbody>\n",
       "</table>\n",
       "</div>"
      ],
      "text/plain": [
       "   Pregnancies  Glucose  BloodPressure  SkinThickness  Insulin   BMI  \\\n",
       "0            6      148             72             35        0  33.6   \n",
       "1            1       85             66             29        0  26.6   \n",
       "2            8      183             64              0        0  23.3   \n",
       "3            1       89             66             23       94  28.1   \n",
       "4            0      137             40             35      168  43.1   \n",
       "\n",
       "   DiabetesPedigreeFunction  Age  Outcome  \n",
       "0                     0.627   50        1  \n",
       "1                     0.351   31        0  \n",
       "2                     0.672   32        1  \n",
       "3                     0.167   21        0  \n",
       "4                     2.288   33        1  "
      ]
     },
     "execution_count": 3,
     "metadata": {},
     "output_type": "execute_result"
    }
   ],
   "source": [
    "data.head()"
   ]
  },
  {
   "cell_type": "code",
   "execution_count": 4,
   "id": "978f9fb6",
   "metadata": {
    "execution": {
     "iopub.execute_input": "2023-11-06T03:33:11.172933Z",
     "iopub.status.busy": "2023-11-06T03:33:11.172672Z",
     "iopub.status.idle": "2023-11-06T03:33:11.178409Z",
     "shell.execute_reply": "2023-11-06T03:33:11.177310Z"
    },
    "papermill": {
     "duration": 0.015685,
     "end_time": "2023-11-06T03:33:11.180602",
     "exception": false,
     "start_time": "2023-11-06T03:33:11.164917",
     "status": "completed"
    },
    "tags": []
   },
   "outputs": [
    {
     "data": {
      "text/plain": [
       "(768, 9)"
      ]
     },
     "execution_count": 4,
     "metadata": {},
     "output_type": "execute_result"
    }
   ],
   "source": [
    "# number of rows and column\n",
    "data.shape"
   ]
  },
  {
   "cell_type": "code",
   "execution_count": 5,
   "id": "4192effe",
   "metadata": {
    "execution": {
     "iopub.execute_input": "2023-11-06T03:33:11.196529Z",
     "iopub.status.busy": "2023-11-06T03:33:11.196173Z",
     "iopub.status.idle": "2023-11-06T03:33:11.226531Z",
     "shell.execute_reply": "2023-11-06T03:33:11.225669Z"
    },
    "papermill": {
     "duration": 0.039869,
     "end_time": "2023-11-06T03:33:11.228128",
     "exception": false,
     "start_time": "2023-11-06T03:33:11.188259",
     "status": "completed"
    },
    "tags": []
   },
   "outputs": [
    {
     "data": {
      "text/html": [
       "<div>\n",
       "<style scoped>\n",
       "    .dataframe tbody tr th:only-of-type {\n",
       "        vertical-align: middle;\n",
       "    }\n",
       "\n",
       "    .dataframe tbody tr th {\n",
       "        vertical-align: top;\n",
       "    }\n",
       "\n",
       "    .dataframe thead th {\n",
       "        text-align: right;\n",
       "    }\n",
       "</style>\n",
       "<table border=\"1\" class=\"dataframe\">\n",
       "  <thead>\n",
       "    <tr style=\"text-align: right;\">\n",
       "      <th></th>\n",
       "      <th>count</th>\n",
       "      <th>mean</th>\n",
       "      <th>std</th>\n",
       "      <th>min</th>\n",
       "      <th>25%</th>\n",
       "      <th>50%</th>\n",
       "      <th>75%</th>\n",
       "      <th>max</th>\n",
       "    </tr>\n",
       "  </thead>\n",
       "  <tbody>\n",
       "    <tr>\n",
       "      <th>Pregnancies</th>\n",
       "      <td>768.0</td>\n",
       "      <td>3.845052</td>\n",
       "      <td>3.369578</td>\n",
       "      <td>0.000</td>\n",
       "      <td>1.00000</td>\n",
       "      <td>3.0000</td>\n",
       "      <td>6.00000</td>\n",
       "      <td>17.00</td>\n",
       "    </tr>\n",
       "    <tr>\n",
       "      <th>Glucose</th>\n",
       "      <td>768.0</td>\n",
       "      <td>120.894531</td>\n",
       "      <td>31.972618</td>\n",
       "      <td>0.000</td>\n",
       "      <td>99.00000</td>\n",
       "      <td>117.0000</td>\n",
       "      <td>140.25000</td>\n",
       "      <td>199.00</td>\n",
       "    </tr>\n",
       "    <tr>\n",
       "      <th>BloodPressure</th>\n",
       "      <td>768.0</td>\n",
       "      <td>69.105469</td>\n",
       "      <td>19.355807</td>\n",
       "      <td>0.000</td>\n",
       "      <td>62.00000</td>\n",
       "      <td>72.0000</td>\n",
       "      <td>80.00000</td>\n",
       "      <td>122.00</td>\n",
       "    </tr>\n",
       "    <tr>\n",
       "      <th>SkinThickness</th>\n",
       "      <td>768.0</td>\n",
       "      <td>20.536458</td>\n",
       "      <td>15.952218</td>\n",
       "      <td>0.000</td>\n",
       "      <td>0.00000</td>\n",
       "      <td>23.0000</td>\n",
       "      <td>32.00000</td>\n",
       "      <td>99.00</td>\n",
       "    </tr>\n",
       "    <tr>\n",
       "      <th>Insulin</th>\n",
       "      <td>768.0</td>\n",
       "      <td>79.799479</td>\n",
       "      <td>115.244002</td>\n",
       "      <td>0.000</td>\n",
       "      <td>0.00000</td>\n",
       "      <td>30.5000</td>\n",
       "      <td>127.25000</td>\n",
       "      <td>846.00</td>\n",
       "    </tr>\n",
       "    <tr>\n",
       "      <th>BMI</th>\n",
       "      <td>768.0</td>\n",
       "      <td>31.992578</td>\n",
       "      <td>7.884160</td>\n",
       "      <td>0.000</td>\n",
       "      <td>27.30000</td>\n",
       "      <td>32.0000</td>\n",
       "      <td>36.60000</td>\n",
       "      <td>67.10</td>\n",
       "    </tr>\n",
       "    <tr>\n",
       "      <th>DiabetesPedigreeFunction</th>\n",
       "      <td>768.0</td>\n",
       "      <td>0.471876</td>\n",
       "      <td>0.331329</td>\n",
       "      <td>0.078</td>\n",
       "      <td>0.24375</td>\n",
       "      <td>0.3725</td>\n",
       "      <td>0.62625</td>\n",
       "      <td>2.42</td>\n",
       "    </tr>\n",
       "    <tr>\n",
       "      <th>Age</th>\n",
       "      <td>768.0</td>\n",
       "      <td>33.240885</td>\n",
       "      <td>11.760232</td>\n",
       "      <td>21.000</td>\n",
       "      <td>24.00000</td>\n",
       "      <td>29.0000</td>\n",
       "      <td>41.00000</td>\n",
       "      <td>81.00</td>\n",
       "    </tr>\n",
       "    <tr>\n",
       "      <th>Outcome</th>\n",
       "      <td>768.0</td>\n",
       "      <td>0.348958</td>\n",
       "      <td>0.476951</td>\n",
       "      <td>0.000</td>\n",
       "      <td>0.00000</td>\n",
       "      <td>0.0000</td>\n",
       "      <td>1.00000</td>\n",
       "      <td>1.00</td>\n",
       "    </tr>\n",
       "  </tbody>\n",
       "</table>\n",
       "</div>"
      ],
      "text/plain": [
       "                          count        mean         std     min       25%  \\\n",
       "Pregnancies               768.0    3.845052    3.369578   0.000   1.00000   \n",
       "Glucose                   768.0  120.894531   31.972618   0.000  99.00000   \n",
       "BloodPressure             768.0   69.105469   19.355807   0.000  62.00000   \n",
       "SkinThickness             768.0   20.536458   15.952218   0.000   0.00000   \n",
       "Insulin                   768.0   79.799479  115.244002   0.000   0.00000   \n",
       "BMI                       768.0   31.992578    7.884160   0.000  27.30000   \n",
       "DiabetesPedigreeFunction  768.0    0.471876    0.331329   0.078   0.24375   \n",
       "Age                       768.0   33.240885   11.760232  21.000  24.00000   \n",
       "Outcome                   768.0    0.348958    0.476951   0.000   0.00000   \n",
       "\n",
       "                               50%        75%     max  \n",
       "Pregnancies                 3.0000    6.00000   17.00  \n",
       "Glucose                   117.0000  140.25000  199.00  \n",
       "BloodPressure              72.0000   80.00000  122.00  \n",
       "SkinThickness              23.0000   32.00000   99.00  \n",
       "Insulin                    30.5000  127.25000  846.00  \n",
       "BMI                        32.0000   36.60000   67.10  \n",
       "DiabetesPedigreeFunction    0.3725    0.62625    2.42  \n",
       "Age                        29.0000   41.00000   81.00  \n",
       "Outcome                     0.0000    1.00000    1.00  "
      ]
     },
     "execution_count": 5,
     "metadata": {},
     "output_type": "execute_result"
    }
   ],
   "source": [
    "# getting the statistical measures of the dataset\n",
    "data.describe().T"
   ]
  },
  {
   "cell_type": "markdown",
   "id": "a4391f44",
   "metadata": {
    "papermill": {
     "duration": 0.00704,
     "end_time": "2023-11-06T03:33:11.242460",
     "exception": false,
     "start_time": "2023-11-06T03:33:11.235420",
     "status": "completed"
    },
    "tags": []
   },
   "source": [
    "# Splitting the data"
   ]
  },
  {
   "cell_type": "code",
   "execution_count": 6,
   "id": "05149b08",
   "metadata": {
    "execution": {
     "iopub.execute_input": "2023-11-06T03:33:11.259376Z",
     "iopub.status.busy": "2023-11-06T03:33:11.258702Z",
     "iopub.status.idle": "2023-11-06T03:33:11.269061Z",
     "shell.execute_reply": "2023-11-06T03:33:11.268470Z"
    },
    "papermill": {
     "duration": 0.021485,
     "end_time": "2023-11-06T03:33:11.271082",
     "exception": false,
     "start_time": "2023-11-06T03:33:11.249597",
     "status": "completed"
    },
    "tags": []
   },
   "outputs": [],
   "source": [
    "# deciding feature and target variable for model\n",
    "\n",
    "features = data.drop(columns = 'Outcome', axis = 1)\n",
    "target = data['Outcome']"
   ]
  },
  {
   "cell_type": "code",
   "execution_count": 7,
   "id": "94b22b7e",
   "metadata": {
    "execution": {
     "iopub.execute_input": "2023-11-06T03:33:11.288411Z",
     "iopub.status.busy": "2023-11-06T03:33:11.287928Z",
     "iopub.status.idle": "2023-11-06T03:33:11.300598Z",
     "shell.execute_reply": "2023-11-06T03:33:11.299766Z"
    },
    "papermill": {
     "duration": 0.022883,
     "end_time": "2023-11-06T03:33:11.302306",
     "exception": false,
     "start_time": "2023-11-06T03:33:11.279423",
     "status": "completed"
    },
    "tags": []
   },
   "outputs": [
    {
     "data": {
      "text/html": [
       "<div>\n",
       "<style scoped>\n",
       "    .dataframe tbody tr th:only-of-type {\n",
       "        vertical-align: middle;\n",
       "    }\n",
       "\n",
       "    .dataframe tbody tr th {\n",
       "        vertical-align: top;\n",
       "    }\n",
       "\n",
       "    .dataframe thead th {\n",
       "        text-align: right;\n",
       "    }\n",
       "</style>\n",
       "<table border=\"1\" class=\"dataframe\">\n",
       "  <thead>\n",
       "    <tr style=\"text-align: right;\">\n",
       "      <th></th>\n",
       "      <th>Pregnancies</th>\n",
       "      <th>Glucose</th>\n",
       "      <th>BloodPressure</th>\n",
       "      <th>SkinThickness</th>\n",
       "      <th>Insulin</th>\n",
       "      <th>BMI</th>\n",
       "      <th>DiabetesPedigreeFunction</th>\n",
       "      <th>Age</th>\n",
       "    </tr>\n",
       "  </thead>\n",
       "  <tbody>\n",
       "    <tr>\n",
       "      <th>0</th>\n",
       "      <td>6</td>\n",
       "      <td>148</td>\n",
       "      <td>72</td>\n",
       "      <td>35</td>\n",
       "      <td>0</td>\n",
       "      <td>33.6</td>\n",
       "      <td>0.627</td>\n",
       "      <td>50</td>\n",
       "    </tr>\n",
       "    <tr>\n",
       "      <th>1</th>\n",
       "      <td>1</td>\n",
       "      <td>85</td>\n",
       "      <td>66</td>\n",
       "      <td>29</td>\n",
       "      <td>0</td>\n",
       "      <td>26.6</td>\n",
       "      <td>0.351</td>\n",
       "      <td>31</td>\n",
       "    </tr>\n",
       "    <tr>\n",
       "      <th>2</th>\n",
       "      <td>8</td>\n",
       "      <td>183</td>\n",
       "      <td>64</td>\n",
       "      <td>0</td>\n",
       "      <td>0</td>\n",
       "      <td>23.3</td>\n",
       "      <td>0.672</td>\n",
       "      <td>32</td>\n",
       "    </tr>\n",
       "    <tr>\n",
       "      <th>3</th>\n",
       "      <td>1</td>\n",
       "      <td>89</td>\n",
       "      <td>66</td>\n",
       "      <td>23</td>\n",
       "      <td>94</td>\n",
       "      <td>28.1</td>\n",
       "      <td>0.167</td>\n",
       "      <td>21</td>\n",
       "    </tr>\n",
       "    <tr>\n",
       "      <th>4</th>\n",
       "      <td>0</td>\n",
       "      <td>137</td>\n",
       "      <td>40</td>\n",
       "      <td>35</td>\n",
       "      <td>168</td>\n",
       "      <td>43.1</td>\n",
       "      <td>2.288</td>\n",
       "      <td>33</td>\n",
       "    </tr>\n",
       "    <tr>\n",
       "      <th>...</th>\n",
       "      <td>...</td>\n",
       "      <td>...</td>\n",
       "      <td>...</td>\n",
       "      <td>...</td>\n",
       "      <td>...</td>\n",
       "      <td>...</td>\n",
       "      <td>...</td>\n",
       "      <td>...</td>\n",
       "    </tr>\n",
       "    <tr>\n",
       "      <th>763</th>\n",
       "      <td>10</td>\n",
       "      <td>101</td>\n",
       "      <td>76</td>\n",
       "      <td>48</td>\n",
       "      <td>180</td>\n",
       "      <td>32.9</td>\n",
       "      <td>0.171</td>\n",
       "      <td>63</td>\n",
       "    </tr>\n",
       "    <tr>\n",
       "      <th>764</th>\n",
       "      <td>2</td>\n",
       "      <td>122</td>\n",
       "      <td>70</td>\n",
       "      <td>27</td>\n",
       "      <td>0</td>\n",
       "      <td>36.8</td>\n",
       "      <td>0.340</td>\n",
       "      <td>27</td>\n",
       "    </tr>\n",
       "    <tr>\n",
       "      <th>765</th>\n",
       "      <td>5</td>\n",
       "      <td>121</td>\n",
       "      <td>72</td>\n",
       "      <td>23</td>\n",
       "      <td>112</td>\n",
       "      <td>26.2</td>\n",
       "      <td>0.245</td>\n",
       "      <td>30</td>\n",
       "    </tr>\n",
       "    <tr>\n",
       "      <th>766</th>\n",
       "      <td>1</td>\n",
       "      <td>126</td>\n",
       "      <td>60</td>\n",
       "      <td>0</td>\n",
       "      <td>0</td>\n",
       "      <td>30.1</td>\n",
       "      <td>0.349</td>\n",
       "      <td>47</td>\n",
       "    </tr>\n",
       "    <tr>\n",
       "      <th>767</th>\n",
       "      <td>1</td>\n",
       "      <td>93</td>\n",
       "      <td>70</td>\n",
       "      <td>31</td>\n",
       "      <td>0</td>\n",
       "      <td>30.4</td>\n",
       "      <td>0.315</td>\n",
       "      <td>23</td>\n",
       "    </tr>\n",
       "  </tbody>\n",
       "</table>\n",
       "<p>768 rows × 8 columns</p>\n",
       "</div>"
      ],
      "text/plain": [
       "     Pregnancies  Glucose  BloodPressure  SkinThickness  Insulin   BMI  \\\n",
       "0              6      148             72             35        0  33.6   \n",
       "1              1       85             66             29        0  26.6   \n",
       "2              8      183             64              0        0  23.3   \n",
       "3              1       89             66             23       94  28.1   \n",
       "4              0      137             40             35      168  43.1   \n",
       "..           ...      ...            ...            ...      ...   ...   \n",
       "763           10      101             76             48      180  32.9   \n",
       "764            2      122             70             27        0  36.8   \n",
       "765            5      121             72             23      112  26.2   \n",
       "766            1      126             60              0        0  30.1   \n",
       "767            1       93             70             31        0  30.4   \n",
       "\n",
       "     DiabetesPedigreeFunction  Age  \n",
       "0                       0.627   50  \n",
       "1                       0.351   31  \n",
       "2                       0.672   32  \n",
       "3                       0.167   21  \n",
       "4                       2.288   33  \n",
       "..                        ...  ...  \n",
       "763                     0.171   63  \n",
       "764                     0.340   27  \n",
       "765                     0.245   30  \n",
       "766                     0.349   47  \n",
       "767                     0.315   23  \n",
       "\n",
       "[768 rows x 8 columns]"
      ]
     },
     "execution_count": 7,
     "metadata": {},
     "output_type": "execute_result"
    }
   ],
   "source": [
    "features"
   ]
  },
  {
   "cell_type": "code",
   "execution_count": 8,
   "id": "59aea162",
   "metadata": {
    "execution": {
     "iopub.execute_input": "2023-11-06T03:33:11.319003Z",
     "iopub.status.busy": "2023-11-06T03:33:11.318745Z",
     "iopub.status.idle": "2023-11-06T03:33:11.324621Z",
     "shell.execute_reply": "2023-11-06T03:33:11.323499Z"
    },
    "papermill": {
     "duration": 0.016128,
     "end_time": "2023-11-06T03:33:11.326377",
     "exception": false,
     "start_time": "2023-11-06T03:33:11.310249",
     "status": "completed"
    },
    "tags": []
   },
   "outputs": [
    {
     "name": "stdout",
     "output_type": "stream",
     "text": [
      "0      1\n",
      "1      0\n",
      "2      1\n",
      "3      0\n",
      "4      1\n",
      "      ..\n",
      "763    0\n",
      "764    0\n",
      "765    0\n",
      "766    1\n",
      "767    0\n",
      "Name: Outcome, Length: 768, dtype: int64\n"
     ]
    }
   ],
   "source": [
    "print(target)"
   ]
  },
  {
   "cell_type": "markdown",
   "id": "3e9167c3",
   "metadata": {
    "papermill": {
     "duration": 0.007483,
     "end_time": "2023-11-06T03:33:11.341903",
     "exception": false,
     "start_time": "2023-11-06T03:33:11.334420",
     "status": "completed"
    },
    "tags": []
   },
   "source": [
    "# Data Standardization"
   ]
  },
  {
   "cell_type": "code",
   "execution_count": 9,
   "id": "a487f8ce",
   "metadata": {
    "execution": {
     "iopub.execute_input": "2023-11-06T03:33:11.358908Z",
     "iopub.status.busy": "2023-11-06T03:33:11.358624Z",
     "iopub.status.idle": "2023-11-06T03:33:11.363012Z",
     "shell.execute_reply": "2023-11-06T03:33:11.362138Z"
    },
    "papermill": {
     "duration": 0.015249,
     "end_time": "2023-11-06T03:33:11.365010",
     "exception": false,
     "start_time": "2023-11-06T03:33:11.349761",
     "status": "completed"
    },
    "tags": []
   },
   "outputs": [],
   "source": [
    "# StandardScaler standardizes a feature by subtracting the mean and then scaling to unit variance.\n",
    "# Unit variance means dividing all the values by the standard deviation.\n",
    "\n",
    "# creating object for standardscalar \n",
    "scaler = StandardScaler()"
   ]
  },
  {
   "cell_type": "code",
   "execution_count": 10,
   "id": "18b98e18",
   "metadata": {
    "execution": {
     "iopub.execute_input": "2023-11-06T03:33:11.382654Z",
     "iopub.status.busy": "2023-11-06T03:33:11.382403Z",
     "iopub.status.idle": "2023-11-06T03:33:11.394054Z",
     "shell.execute_reply": "2023-11-06T03:33:11.393260Z"
    },
    "papermill": {
     "duration": 0.022682,
     "end_time": "2023-11-06T03:33:11.395750",
     "exception": false,
     "start_time": "2023-11-06T03:33:11.373068",
     "status": "completed"
    },
    "tags": []
   },
   "outputs": [
    {
     "data": {
      "text/html": [
       "<style>#sk-container-id-1 {color: black;background-color: white;}#sk-container-id-1 pre{padding: 0;}#sk-container-id-1 div.sk-toggleable {background-color: white;}#sk-container-id-1 label.sk-toggleable__label {cursor: pointer;display: block;width: 100%;margin-bottom: 0;padding: 0.3em;box-sizing: border-box;text-align: center;}#sk-container-id-1 label.sk-toggleable__label-arrow:before {content: \"▸\";float: left;margin-right: 0.25em;color: #696969;}#sk-container-id-1 label.sk-toggleable__label-arrow:hover:before {color: black;}#sk-container-id-1 div.sk-estimator:hover label.sk-toggleable__label-arrow:before {color: black;}#sk-container-id-1 div.sk-toggleable__content {max-height: 0;max-width: 0;overflow: hidden;text-align: left;background-color: #f0f8ff;}#sk-container-id-1 div.sk-toggleable__content pre {margin: 0.2em;color: black;border-radius: 0.25em;background-color: #f0f8ff;}#sk-container-id-1 input.sk-toggleable__control:checked~div.sk-toggleable__content {max-height: 200px;max-width: 100%;overflow: auto;}#sk-container-id-1 input.sk-toggleable__control:checked~label.sk-toggleable__label-arrow:before {content: \"▾\";}#sk-container-id-1 div.sk-estimator input.sk-toggleable__control:checked~label.sk-toggleable__label {background-color: #d4ebff;}#sk-container-id-1 div.sk-label input.sk-toggleable__control:checked~label.sk-toggleable__label {background-color: #d4ebff;}#sk-container-id-1 input.sk-hidden--visually {border: 0;clip: rect(1px 1px 1px 1px);clip: rect(1px, 1px, 1px, 1px);height: 1px;margin: -1px;overflow: hidden;padding: 0;position: absolute;width: 1px;}#sk-container-id-1 div.sk-estimator {font-family: monospace;background-color: #f0f8ff;border: 1px dotted black;border-radius: 0.25em;box-sizing: border-box;margin-bottom: 0.5em;}#sk-container-id-1 div.sk-estimator:hover {background-color: #d4ebff;}#sk-container-id-1 div.sk-parallel-item::after {content: \"\";width: 100%;border-bottom: 1px solid gray;flex-grow: 1;}#sk-container-id-1 div.sk-label:hover label.sk-toggleable__label {background-color: #d4ebff;}#sk-container-id-1 div.sk-serial::before {content: \"\";position: absolute;border-left: 1px solid gray;box-sizing: border-box;top: 0;bottom: 0;left: 50%;z-index: 0;}#sk-container-id-1 div.sk-serial {display: flex;flex-direction: column;align-items: center;background-color: white;padding-right: 0.2em;padding-left: 0.2em;position: relative;}#sk-container-id-1 div.sk-item {position: relative;z-index: 1;}#sk-container-id-1 div.sk-parallel {display: flex;align-items: stretch;justify-content: center;background-color: white;position: relative;}#sk-container-id-1 div.sk-item::before, #sk-container-id-1 div.sk-parallel-item::before {content: \"\";position: absolute;border-left: 1px solid gray;box-sizing: border-box;top: 0;bottom: 0;left: 50%;z-index: -1;}#sk-container-id-1 div.sk-parallel-item {display: flex;flex-direction: column;z-index: 1;position: relative;background-color: white;}#sk-container-id-1 div.sk-parallel-item:first-child::after {align-self: flex-end;width: 50%;}#sk-container-id-1 div.sk-parallel-item:last-child::after {align-self: flex-start;width: 50%;}#sk-container-id-1 div.sk-parallel-item:only-child::after {width: 0;}#sk-container-id-1 div.sk-dashed-wrapped {border: 1px dashed gray;margin: 0 0.4em 0.5em 0.4em;box-sizing: border-box;padding-bottom: 0.4em;background-color: white;}#sk-container-id-1 div.sk-label label {font-family: monospace;font-weight: bold;display: inline-block;line-height: 1.2em;}#sk-container-id-1 div.sk-label-container {text-align: center;}#sk-container-id-1 div.sk-container {/* jupyter's `normalize.less` sets `[hidden] { display: none; }` but bootstrap.min.css set `[hidden] { display: none !important; }` so we also need the `!important` here to be able to override the default hidden behavior on the sphinx rendered scikit-learn.org. See: https://github.com/scikit-learn/scikit-learn/issues/21755 */display: inline-block !important;position: relative;}#sk-container-id-1 div.sk-text-repr-fallback {display: none;}</style><div id=\"sk-container-id-1\" class=\"sk-top-container\"><div class=\"sk-text-repr-fallback\"><pre>StandardScaler()</pre><b>In a Jupyter environment, please rerun this cell to show the HTML representation or trust the notebook. <br />On GitHub, the HTML representation is unable to render, please try loading this page with nbviewer.org.</b></div><div class=\"sk-container\" hidden><div class=\"sk-item\"><div class=\"sk-estimator sk-toggleable\"><input class=\"sk-toggleable__control sk-hidden--visually\" id=\"sk-estimator-id-1\" type=\"checkbox\" checked><label for=\"sk-estimator-id-1\" class=\"sk-toggleable__label sk-toggleable__label-arrow\">StandardScaler</label><div class=\"sk-toggleable__content\"><pre>StandardScaler()</pre></div></div></div></div></div>"
      ],
      "text/plain": [
       "StandardScaler()"
      ]
     },
     "execution_count": 10,
     "metadata": {},
     "output_type": "execute_result"
    }
   ],
   "source": [
    "# This method calculates the mean and the standard deviation to use later for scaling the data.\n",
    "\n",
    "scaler.fit(features)"
   ]
  },
  {
   "cell_type": "code",
   "execution_count": 11,
   "id": "1bb53ae2",
   "metadata": {
    "execution": {
     "iopub.execute_input": "2023-11-06T03:33:11.413169Z",
     "iopub.status.busy": "2023-11-06T03:33:11.412931Z",
     "iopub.status.idle": "2023-11-06T03:33:11.418568Z",
     "shell.execute_reply": "2023-11-06T03:33:11.417764Z"
    },
    "papermill": {
     "duration": 0.016323,
     "end_time": "2023-11-06T03:33:11.420328",
     "exception": false,
     "start_time": "2023-11-06T03:33:11.404005",
     "status": "completed"
    },
    "tags": []
   },
   "outputs": [],
   "source": [
    "# This method fits the parameters of the data and then transforms it.\n",
    "\n",
    "standardized_data = scaler.transform(features)"
   ]
  },
  {
   "cell_type": "code",
   "execution_count": 12,
   "id": "1633a799",
   "metadata": {
    "execution": {
     "iopub.execute_input": "2023-11-06T03:33:11.437824Z",
     "iopub.status.busy": "2023-11-06T03:33:11.437527Z",
     "iopub.status.idle": "2023-11-06T03:33:11.441352Z",
     "shell.execute_reply": "2023-11-06T03:33:11.440341Z"
    },
    "papermill": {
     "duration": 0.014989,
     "end_time": "2023-11-06T03:33:11.443473",
     "exception": false,
     "start_time": "2023-11-06T03:33:11.428484",
     "status": "completed"
    },
    "tags": []
   },
   "outputs": [],
   "source": [
    "# Assigning this standardized_data to features \n",
    "\n",
    "features = standardized_data"
   ]
  },
  {
   "cell_type": "code",
   "execution_count": 13,
   "id": "1f7fb20b",
   "metadata": {
    "execution": {
     "iopub.execute_input": "2023-11-06T03:33:11.462334Z",
     "iopub.status.busy": "2023-11-06T03:33:11.461498Z",
     "iopub.status.idle": "2023-11-06T03:33:11.468955Z",
     "shell.execute_reply": "2023-11-06T03:33:11.468024Z"
    },
    "papermill": {
     "duration": 0.018608,
     "end_time": "2023-11-06T03:33:11.471013",
     "exception": false,
     "start_time": "2023-11-06T03:33:11.452405",
     "status": "completed"
    },
    "tags": []
   },
   "outputs": [
    {
     "data": {
      "text/plain": [
       "(array([[ 0.63994726,  0.84832379,  0.14964075, ...,  0.20401277,\n",
       "          0.46849198,  1.4259954 ],\n",
       "        [-0.84488505, -1.12339636, -0.16054575, ..., -0.68442195,\n",
       "         -0.36506078, -0.19067191],\n",
       "        [ 1.23388019,  1.94372388, -0.26394125, ..., -1.10325546,\n",
       "          0.60439732, -0.10558415],\n",
       "        ...,\n",
       "        [ 0.3429808 ,  0.00330087,  0.14964075, ..., -0.73518964,\n",
       "         -0.68519336, -0.27575966],\n",
       "        [-0.84488505,  0.1597866 , -0.47073225, ..., -0.24020459,\n",
       "         -0.37110101,  1.17073215],\n",
       "        [-0.84488505, -0.8730192 ,  0.04624525, ..., -0.20212881,\n",
       "         -0.47378505, -0.87137393]]),\n",
       " 0      1\n",
       " 1      0\n",
       " 2      1\n",
       " 3      0\n",
       " 4      1\n",
       "       ..\n",
       " 763    0\n",
       " 764    0\n",
       " 765    0\n",
       " 766    1\n",
       " 767    0\n",
       " Name: Outcome, Length: 768, dtype: int64)"
      ]
     },
     "execution_count": 13,
     "metadata": {},
     "output_type": "execute_result"
    }
   ],
   "source": [
    "features, target"
   ]
  },
  {
   "cell_type": "markdown",
   "id": "ccdf1cd3",
   "metadata": {
    "papermill": {
     "duration": 0.007775,
     "end_time": "2023-11-06T03:33:11.487544",
     "exception": false,
     "start_time": "2023-11-06T03:33:11.479769",
     "status": "completed"
    },
    "tags": []
   },
   "source": [
    "# Train Test Split"
   ]
  },
  {
   "cell_type": "code",
   "execution_count": 14,
   "id": "ee69d786",
   "metadata": {
    "execution": {
     "iopub.execute_input": "2023-11-06T03:33:11.505197Z",
     "iopub.status.busy": "2023-11-06T03:33:11.504131Z",
     "iopub.status.idle": "2023-11-06T03:33:11.511637Z",
     "shell.execute_reply": "2023-11-06T03:33:11.510638Z"
    },
    "papermill": {
     "duration": 0.018069,
     "end_time": "2023-11-06T03:33:11.513450",
     "exception": false,
     "start_time": "2023-11-06T03:33:11.495381",
     "status": "completed"
    },
    "tags": []
   },
   "outputs": [
    {
     "name": "stdout",
     "output_type": "stream",
     "text": [
      " features shape :  (768, 8)\n",
      " X_train shape :  (614, 8)\n",
      " X_test shape :  (154, 8)\n"
     ]
    }
   ],
   "source": [
    "# Splitting data into traindata and testdata \n",
    "X_train, X_test, Y_train, Y_test = train_test_split(features, target, test_size=0.2, random_state = 2)\n",
    "\n",
    "print(\" features shape : \",features.shape)\n",
    "print(\" X_train shape : \",X_train.shape)\n",
    "print(\" X_test shape : \",X_test.shape)"
   ]
  },
  {
   "cell_type": "markdown",
   "id": "536cd6c2",
   "metadata": {
    "papermill": {
     "duration": 0.007589,
     "end_time": "2023-11-06T03:33:11.528943",
     "exception": false,
     "start_time": "2023-11-06T03:33:11.521354",
     "status": "completed"
    },
    "tags": []
   },
   "source": [
    "Training the Model"
   ]
  },
  {
   "cell_type": "markdown",
   "id": "3d42719e",
   "metadata": {
    "papermill": {
     "duration": 0.007581,
     "end_time": "2023-11-06T03:33:11.544396",
     "exception": false,
     "start_time": "2023-11-06T03:33:11.536815",
     "status": "completed"
    },
    "tags": []
   },
   "source": [
    "# LogisticRegression"
   ]
  },
  {
   "cell_type": "code",
   "execution_count": 15,
   "id": "cb2d4286",
   "metadata": {
    "execution": {
     "iopub.execute_input": "2023-11-06T03:33:11.561926Z",
     "iopub.status.busy": "2023-11-06T03:33:11.561053Z",
     "iopub.status.idle": "2023-11-06T03:33:11.646418Z",
     "shell.execute_reply": "2023-11-06T03:33:11.645510Z"
    },
    "papermill": {
     "duration": 0.096354,
     "end_time": "2023-11-06T03:33:11.648502",
     "exception": false,
     "start_time": "2023-11-06T03:33:11.552148",
     "status": "completed"
    },
    "tags": []
   },
   "outputs": [],
   "source": [
    "# Import necessary libraries\n",
    "from sklearn.linear_model import LogisticRegression"
   ]
  },
  {
   "cell_type": "code",
   "execution_count": 16,
   "id": "85ad6f18",
   "metadata": {
    "execution": {
     "iopub.execute_input": "2023-11-06T03:33:11.666467Z",
     "iopub.status.busy": "2023-11-06T03:33:11.665828Z",
     "iopub.status.idle": "2023-11-06T03:33:11.680112Z",
     "shell.execute_reply": "2023-11-06T03:33:11.679220Z"
    },
    "papermill": {
     "duration": 0.024968,
     "end_time": "2023-11-06T03:33:11.681782",
     "exception": false,
     "start_time": "2023-11-06T03:33:11.656814",
     "status": "completed"
    },
    "tags": []
   },
   "outputs": [
    {
     "name": "stdout",
     "output_type": "stream",
     "text": [
      "Logistic Regression Accuracy:  0.7662337662337663\n"
     ]
    }
   ],
   "source": [
    "# Create an instance of the LogisticRegression\n",
    "classifier =  LogisticRegression()\n",
    "\n",
    "# Train the LogisticRegression on the training data\n",
    "classifier.fit(X_train, Y_train)\n",
    "\n",
    "# Evaluate the LogisticRegression on the test data\n",
    "X_test_prediction = classifier.predict(X_test)\n",
    "\n",
    "# Calculate accuracy for the LogisticRegression\n",
    "logistic_acc = accuracy_score(Y_test, X_test_prediction)\n",
    "\n",
    "# Display accuracy for Logistic regression\n",
    "print('Logistic Regression Accuracy: ', logistic_acc)"
   ]
  },
  {
   "cell_type": "markdown",
   "id": "f3fa5cf2",
   "metadata": {
    "papermill": {
     "duration": 0.007671,
     "end_time": "2023-11-06T03:33:11.697416",
     "exception": false,
     "start_time": "2023-11-06T03:33:11.689745",
     "status": "completed"
    },
    "tags": []
   },
   "source": [
    "# Support Vector Machine Classifier"
   ]
  },
  {
   "cell_type": "code",
   "execution_count": 17,
   "id": "2c320d91",
   "metadata": {
    "execution": {
     "iopub.execute_input": "2023-11-06T03:33:11.714379Z",
     "iopub.status.busy": "2023-11-06T03:33:11.714118Z",
     "iopub.status.idle": "2023-11-06T03:33:11.717569Z",
     "shell.execute_reply": "2023-11-06T03:33:11.716806Z"
    },
    "papermill": {
     "duration": 0.013822,
     "end_time": "2023-11-06T03:33:11.719098",
     "exception": false,
     "start_time": "2023-11-06T03:33:11.705276",
     "status": "completed"
    },
    "tags": []
   },
   "outputs": [],
   "source": [
    "# Import necessary libraries\n",
    "from sklearn import svm"
   ]
  },
  {
   "cell_type": "code",
   "execution_count": 18,
   "id": "5ea0f03d",
   "metadata": {
    "execution": {
     "iopub.execute_input": "2023-11-06T03:33:11.788480Z",
     "iopub.status.busy": "2023-11-06T03:33:11.787571Z",
     "iopub.status.idle": "2023-11-06T03:33:11.806738Z",
     "shell.execute_reply": "2023-11-06T03:33:11.805825Z"
    },
    "papermill": {
     "duration": 0.03052,
     "end_time": "2023-11-06T03:33:11.808521",
     "exception": false,
     "start_time": "2023-11-06T03:33:11.778001",
     "status": "completed"
    },
    "tags": []
   },
   "outputs": [
    {
     "name": "stdout",
     "output_type": "stream",
     "text": [
      "SVC Accuracy :  0.7402597402597403\n"
     ]
    }
   ],
   "source": [
    "# Create an instance of the SVC\n",
    "model = svm.SVC()\n",
    "\n",
    "# Train the SVC on the training data\n",
    "model.fit(X_train, Y_train)\n",
    "\n",
    "# Evaluate the SVC on the test data\n",
    "predicted_Y = model.predict(X_test)\n",
    "\n",
    "# Calculate accuracy for the SVC\n",
    "svm_acc = accuracy_score(Y_test, predicted_Y)\n",
    "\n",
    "# Display accuracy for the SVC\n",
    "print('SVC Accuracy : ',svm_acc)"
   ]
  },
  {
   "cell_type": "markdown",
   "id": "1d9affb9",
   "metadata": {
    "papermill": {
     "duration": 0.007852,
     "end_time": "2023-11-06T03:33:11.824640",
     "exception": false,
     "start_time": "2023-11-06T03:33:11.816788",
     "status": "completed"
    },
    "tags": []
   },
   "source": [
    "# DecisionTree"
   ]
  },
  {
   "cell_type": "code",
   "execution_count": 19,
   "id": "78454610",
   "metadata": {
    "execution": {
     "iopub.execute_input": "2023-11-06T03:33:11.842074Z",
     "iopub.status.busy": "2023-11-06T03:33:11.841820Z",
     "iopub.status.idle": "2023-11-06T03:33:11.961447Z",
     "shell.execute_reply": "2023-11-06T03:33:11.960616Z"
    },
    "papermill": {
     "duration": 0.130786,
     "end_time": "2023-11-06T03:33:11.963442",
     "exception": false,
     "start_time": "2023-11-06T03:33:11.832656",
     "status": "completed"
    },
    "tags": []
   },
   "outputs": [],
   "source": [
    "# Import necessary libraries\n",
    "from sklearn.tree import DecisionTreeClassifier"
   ]
  },
  {
   "cell_type": "code",
   "execution_count": 20,
   "id": "8b7cbe63",
   "metadata": {
    "execution": {
     "iopub.execute_input": "2023-11-06T03:33:11.981083Z",
     "iopub.status.busy": "2023-11-06T03:33:11.980850Z",
     "iopub.status.idle": "2023-11-06T03:33:11.991206Z",
     "shell.execute_reply": "2023-11-06T03:33:11.990068Z"
    },
    "papermill": {
     "duration": 0.021746,
     "end_time": "2023-11-06T03:33:11.993656",
     "exception": false,
     "start_time": "2023-11-06T03:33:11.971910",
     "status": "completed"
    },
    "tags": []
   },
   "outputs": [
    {
     "name": "stdout",
     "output_type": "stream",
     "text": [
      "Decision Tree Accuracy: 0.7467532467532467\n"
     ]
    }
   ],
   "source": [
    "# Create an instance of the Decision Tree classifier\n",
    "decision = DecisionTreeClassifier()\n",
    "\n",
    "# Train the Decision Tree classifier on the training data\n",
    "decision.fit(X_train, Y_train)\n",
    "# Evaluate the Decision Tree classifier on the test data\n",
    "decision_prediction = decision.predict(X_test)\n",
    "\n",
    "# Calculate accuracy for the Decision Tree classifier\n",
    "decision_tree_acc = accuracy_score(Y_test, decision_prediction)\n",
    "\n",
    "# Display accuracy for the Decision Tree classifier\n",
    "print(\"Decision Tree Accuracy:\", decision_tree_acc)"
   ]
  },
  {
   "cell_type": "markdown",
   "id": "140d70a0",
   "metadata": {
    "papermill": {
     "duration": 0.008541,
     "end_time": "2023-11-06T03:33:12.011670",
     "exception": false,
     "start_time": "2023-11-06T03:33:12.003129",
     "status": "completed"
    },
    "tags": []
   },
   "source": [
    "#  K nearest neighbors"
   ]
  },
  {
   "cell_type": "code",
   "execution_count": 21,
   "id": "45ada553",
   "metadata": {
    "execution": {
     "iopub.execute_input": "2023-11-06T03:33:12.030791Z",
     "iopub.status.busy": "2023-11-06T03:33:12.030429Z",
     "iopub.status.idle": "2023-11-06T03:33:12.034769Z",
     "shell.execute_reply": "2023-11-06T03:33:12.033819Z"
    },
    "papermill": {
     "duration": 0.016079,
     "end_time": "2023-11-06T03:33:12.036547",
     "exception": false,
     "start_time": "2023-11-06T03:33:12.020468",
     "status": "completed"
    },
    "tags": []
   },
   "outputs": [],
   "source": [
    "# Import necessary libraries\n",
    "from sklearn.neighbors import KNeighborsClassifier"
   ]
  },
  {
   "cell_type": "code",
   "execution_count": 22,
   "id": "fee2d26f",
   "metadata": {
    "execution": {
     "iopub.execute_input": "2023-11-06T03:33:12.054850Z",
     "iopub.status.busy": "2023-11-06T03:33:12.054564Z",
     "iopub.status.idle": "2023-11-06T03:33:12.076868Z",
     "shell.execute_reply": "2023-11-06T03:33:12.075559Z"
    },
    "papermill": {
     "duration": 0.033093,
     "end_time": "2023-11-06T03:33:12.078489",
     "exception": false,
     "start_time": "2023-11-06T03:33:12.045396",
     "status": "completed"
    },
    "tags": []
   },
   "outputs": [
    {
     "name": "stdout",
     "output_type": "stream",
     "text": [
      "KNN Accuracy: 0.7662337662337663\n"
     ]
    }
   ],
   "source": [
    "# Create an instance of the KNN classifier with a specific number of neighbors (e.g., 3)\n",
    "knn_classifier = KNeighborsClassifier(n_neighbors=2)\n",
    "\n",
    "# Train the KNN classifier on the training data\n",
    "knn_classifier.fit(X_train, Y_train)\n",
    "\n",
    "# Evaluate the KNN classifier on the test data\n",
    "knn_test_data_prediction = knn_classifier.predict(X_test)\n",
    "\n",
    "# Calculate accuracy for the KNN classifier\n",
    "knn_acc = accuracy_score(Y_test, knn_test_data_prediction)\n",
    "\n",
    "# Display accuracy for the KNN classifier\n",
    "print(\"KNN Accuracy:\", knn_acc)"
   ]
  },
  {
   "cell_type": "markdown",
   "id": "e5d54134",
   "metadata": {
    "papermill": {
     "duration": 0.007938,
     "end_time": "2023-11-06T03:33:12.094618",
     "exception": false,
     "start_time": "2023-11-06T03:33:12.086680",
     "status": "completed"
    },
    "tags": []
   },
   "source": [
    "# Naive bayes"
   ]
  },
  {
   "cell_type": "code",
   "execution_count": 23,
   "id": "229daede",
   "metadata": {
    "execution": {
     "iopub.execute_input": "2023-11-06T03:33:12.112468Z",
     "iopub.status.busy": "2023-11-06T03:33:12.112093Z",
     "iopub.status.idle": "2023-11-06T03:33:12.122935Z",
     "shell.execute_reply": "2023-11-06T03:33:12.122317Z"
    },
    "papermill": {
     "duration": 0.022272,
     "end_time": "2023-11-06T03:33:12.124974",
     "exception": false,
     "start_time": "2023-11-06T03:33:12.102702",
     "status": "completed"
    },
    "tags": []
   },
   "outputs": [],
   "source": [
    "# Import necessary libraries\n",
    "from sklearn.naive_bayes import GaussianNB"
   ]
  },
  {
   "cell_type": "code",
   "execution_count": 24,
   "id": "ec0b57eb",
   "metadata": {
    "execution": {
     "iopub.execute_input": "2023-11-06T03:33:12.143851Z",
     "iopub.status.busy": "2023-11-06T03:33:12.143609Z",
     "iopub.status.idle": "2023-11-06T03:33:12.152554Z",
     "shell.execute_reply": "2023-11-06T03:33:12.151533Z"
    },
    "papermill": {
     "duration": 0.020316,
     "end_time": "2023-11-06T03:33:12.154434",
     "exception": false,
     "start_time": "2023-11-06T03:33:12.134118",
     "status": "completed"
    },
    "tags": []
   },
   "outputs": [
    {
     "name": "stdout",
     "output_type": "stream",
     "text": [
      "Naive Bayes Accuracy: 0.7597402597402597\n"
     ]
    }
   ],
   "source": [
    "# Create an instance of the Gaussian Naive Bayes classifier\n",
    "naive_bayes_classifier = GaussianNB()\n",
    "\n",
    "# Train the Naive Bayes classifier on the training data\n",
    "naive_bayes_classifier.fit(X_train, Y_train)\n",
    "\n",
    "# Evaluate the Naive Bayes classifier on the test data\n",
    "naive_bayes_test_data_prediction = naive_bayes_classifier.predict(X_test)\n",
    "\n",
    "# Calculate accuracy for the Naive Bayes classifier\n",
    "naive_bayes_acc = accuracy_score(Y_test, naive_bayes_test_data_prediction)\n",
    "\n",
    "# Display accuracy for the Naive Bayes classifier\n",
    "print(\"Naive Bayes Accuracy:\", naive_bayes_acc)"
   ]
  },
  {
   "cell_type": "markdown",
   "id": "e98ba12b",
   "metadata": {
    "papermill": {
     "duration": 0.008633,
     "end_time": "2023-11-06T03:33:12.171774",
     "exception": false,
     "start_time": "2023-11-06T03:33:12.163141",
     "status": "completed"
    },
    "tags": []
   },
   "source": [
    "# RandomForest"
   ]
  },
  {
   "cell_type": "code",
   "execution_count": 25,
   "id": "c5e1934e",
   "metadata": {
    "execution": {
     "iopub.execute_input": "2023-11-06T03:33:12.189707Z",
     "iopub.status.busy": "2023-11-06T03:33:12.189394Z",
     "iopub.status.idle": "2023-11-06T03:33:12.276983Z",
     "shell.execute_reply": "2023-11-06T03:33:12.276068Z"
    },
    "papermill": {
     "duration": 0.099183,
     "end_time": "2023-11-06T03:33:12.279015",
     "exception": false,
     "start_time": "2023-11-06T03:33:12.179832",
     "status": "completed"
    },
    "tags": []
   },
   "outputs": [],
   "source": [
    "# Import necessary libraries\n",
    "from sklearn.ensemble import RandomForestClassifier"
   ]
  },
  {
   "cell_type": "code",
   "execution_count": 26,
   "id": "42e8e8ff",
   "metadata": {
    "execution": {
     "iopub.execute_input": "2023-11-06T03:33:12.297561Z",
     "iopub.status.busy": "2023-11-06T03:33:12.296651Z",
     "iopub.status.idle": "2023-11-06T03:33:12.483165Z",
     "shell.execute_reply": "2023-11-06T03:33:12.482090Z"
    },
    "papermill": {
     "duration": 0.197315,
     "end_time": "2023-11-06T03:33:12.484883",
     "exception": false,
     "start_time": "2023-11-06T03:33:12.287568",
     "status": "completed"
    },
    "tags": []
   },
   "outputs": [
    {
     "name": "stdout",
     "output_type": "stream",
     "text": [
      "Random Forest Accuracy: 0.7402597402597403\n"
     ]
    }
   ],
   "source": [
    "# Create an instance of the Random Forest classifier\n",
    "random_forest_classifier = RandomForestClassifier()\n",
    "\n",
    "# Train the Random Forest classifier on the training data\n",
    "random_forest_classifier.fit(X_train, Y_train)\n",
    "\n",
    "# Evaluate the Random Forest classifier on the test data\n",
    "random_forest_test_data_prediction = random_forest_classifier.predict(X_test)\n",
    "\n",
    "# Calculate accuracy for the Random Forest classifier\n",
    "random_forest_acc = accuracy_score(Y_test, random_forest_test_data_prediction)\n",
    "\n",
    "# Display accuracy for the Random Forest classifier\n",
    "print(\"Random Forest Accuracy:\", random_forest_acc)"
   ]
  },
  {
   "cell_type": "markdown",
   "id": "8f7ad47d",
   "metadata": {
    "papermill": {
     "duration": 0.00807,
     "end_time": "2023-11-06T03:33:12.502207",
     "exception": false,
     "start_time": "2023-11-06T03:33:12.494137",
     "status": "completed"
    },
    "tags": []
   },
   "source": [
    "# COMPARING ACCURACY OF DIFFRENT MODELS"
   ]
  },
  {
   "cell_type": "code",
   "execution_count": 27,
   "id": "4a10627d",
   "metadata": {
    "execution": {
     "iopub.execute_input": "2023-11-06T03:33:12.520154Z",
     "iopub.status.busy": "2023-11-06T03:33:12.519836Z",
     "iopub.status.idle": "2023-11-06T03:33:12.756617Z",
     "shell.execute_reply": "2023-11-06T03:33:12.755353Z"
    },
    "papermill": {
     "duration": 0.24853,
     "end_time": "2023-11-06T03:33:12.758794",
     "exception": false,
     "start_time": "2023-11-06T03:33:12.510264",
     "status": "completed"
    },
    "tags": []
   },
   "outputs": [
    {
     "data": {
      "text/plain": [
       "<Axes: >"
      ]
     },
     "execution_count": 27,
     "metadata": {},
     "output_type": "execute_result"
    },
    {
     "data": {
      "image/png": "[encoded data removed]",
      "text/plain": [
       "<Figure size 1200x600 with 1 Axes>"
      ]
     },
     "metadata": {},
     "output_type": "display_data"
    }
   ],
   "source": [
    "# Import necessary libraries for plotting\n",
    "import matplotlib.pyplot as plt\n",
    "import seaborn as sns\n",
    "\n",
    "# Set up the figure for the plot with a specific size\n",
    "plt.figure(figsize=(12,6))\n",
    "\n",
    "# Define accuracy values for different machine learning models\n",
    "model_acc = [logistic_acc, svm_acc, decision_tree_acc, knn_acc, naive_bayes_acc, random_forest_acc]\n",
    "\n",
    "# Define labels/names for the different machine learning models\n",
    "model_name = ['LOGISTICREG', 'SVM', 'DECISIONTREE', 'kNN', 'NAIVE BAYES', 'RANDOM FOREST']\n",
    "\n",
    "# Create a bar plot using Seaborn, with accuracy values on the x-axis and model names on the y-axis\n",
    "# The 'palette' parameter sets the color scheme of the bars (in this case, 'magma')\n",
    "sns.barplot(x=model_acc, y=model_name, palette='magma')"
   ]
  },
  {
   "cell_type": "markdown",
   "id": "74efd83d",
   "metadata": {
    "papermill": {
     "duration": 0.008787,
     "end_time": "2023-11-06T03:33:12.776882",
     "exception": false,
     "start_time": "2023-11-06T03:33:12.768095",
     "status": "completed"
    },
    "tags": []
   },
   "source": [
    "### "
   ]
  }
 ],
 "metadata": {
  "kernelspec": {
   "display_name": "Python 3",
   "language": "python",
   "name": "python3"
  },
  "language_info": {
   "codemirror_mode": {
    "name": "ipython",
    "version": 3
   },
   "file_extension": ".py",
   "mimetype": "text/x-python",
   "name": "python",
   "nbconvert_exporter": "python",
   "pygments_lexer": "ipython3",
   "version": "3.10.12"
  },
  "papermill": {
   "default_parameters": {},
   "duration": 6.261799,
   "end_time": "2023-11-06T03:33:13.203992",
   "environment_variables": {},
   "exception": null,
   "input_path": "__notebook__.ipynb",
   "output_path": "__notebook__.ipynb",
   "parameters": {},
   "start_time": "2023-11-06T03:33:06.942193",
   "version": "2.4.0"
  }
 },
 "nbformat": 4,
 "nbformat_minor": 5
}
