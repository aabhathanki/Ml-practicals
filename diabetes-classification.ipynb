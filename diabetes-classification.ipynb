{
 "cells": [
  {
   "cell_type": "code",
   "execution_count": 1,
   "id": "78f96fdd",
   "metadata": {
    "execution": {
     "iopub.execute_input": "2023-11-06T03:06:25.623247Z",
     "iopub.status.busy": "2023-11-06T03:06:25.622906Z",
     "iopub.status.idle": "2023-11-06T03:06:27.275413Z",
     "shell.execute_reply": "2023-11-06T03:06:27.274023Z"
    },
    "papermill": {
     "duration": 1.664219,
     "end_time": "2023-11-06T03:06:27.278062",
     "exception": false,
     "start_time": "2023-11-06T03:06:25.613843",
     "status": "completed"
    },
    "tags": []
   },
   "outputs": [],
   "source": [
    "import pandas as pd\n",
    "from sklearn.preprocessing import StandardScaler\n",
    "from sklearn.model_selection import train_test_split\n",
    "from sklearn.metrics import accuracy_score\n",
    "import seaborn as sns\n",
    "import matplotlib.pyplot as plt"
   ]
  },
  {
   "cell_type": "markdown",
   "id": "6d315735",
   "metadata": {
    "papermill": {
     "duration": 0.006786,
     "end_time": "2023-11-06T03:06:27.292362",
     "exception": false,
     "start_time": "2023-11-06T03:06:27.285576",
     "status": "completed"
    },
    "tags": []
   },
   "source": [
    "# Data Collection & Preprocessing"
   ]
  },
  {
   "cell_type": "code",
   "execution_count": 2,
   "id": "30048c4d",
   "metadata": {
    "execution": {
     "iopub.execute_input": "2023-11-06T03:06:27.308822Z",
     "iopub.status.busy": "2023-11-06T03:06:27.308311Z",
     "iopub.status.idle": "2023-11-06T03:06:27.375390Z",
     "shell.execute_reply": "2023-11-06T03:06:27.374733Z"
    },
    "papermill": {
     "duration": 0.077735,
     "end_time": "2023-11-06T03:06:27.377375",
     "exception": false,
     "start_time": "2023-11-06T03:06:27.299640",
     "status": "completed"
    },
    "tags": []
   },
   "outputs": [],
   "source": [
    "# loading dataset\n",
    "data = pd.read_csv('/kaggle/input/diabetes-dataset/diabetes.csv')"
   ]
  },
  {
   "cell_type": "code",
   "execution_count": 3,
   "id": "555fb58b",
   "metadata": {
    "execution": {
     "iopub.execute_input": "2023-11-06T03:06:27.392597Z",
     "iopub.status.busy": "2023-11-06T03:06:27.391944Z",
     "iopub.status.idle": "2023-11-06T03:06:27.410808Z",
     "shell.execute_reply": "2023-11-06T03:06:27.410008Z"
    },
    "papermill": {
     "duration": 0.027955,
     "end_time": "2023-11-06T03:06:27.412436",
     "exception": false,
     "start_time": "2023-11-06T03:06:27.384481",
     "status": "completed"
    },
    "tags": []
   },
   "outputs": [
    {
     "data": {
      "text/html": [
       "<div>\n",
       "<style scoped>\n",
       "    .dataframe tbody tr th:only-of-type {\n",
       "        vertical-align: middle;\n",
       "    }\n",
       "\n",
       "    .dataframe tbody tr th {\n",
       "        vertical-align: top;\n",
       "    }\n",
       "\n",
       "    .dataframe thead th {\n",
       "        text-align: right;\n",
       "    }\n",
       "</style>\n",
       "<table border=\"1\" class=\"dataframe\">\n",
       "  <thead>\n",
       "    <tr style=\"text-align: right;\">\n",
       "      <th></th>\n",
       "      <th>Pregnancies</th>\n",
       "      <th>Glucose</th>\n",
       "      <th>BloodPressure</th>\n",
       "      <th>SkinThickness</th>\n",
       "      <th>Insulin</th>\n",
       "      <th>BMI</th>\n",
       "      <th>DiabetesPedigreeFunction</th>\n",
       "      <th>Age</th>\n",
       "      <th>Outcome</th>\n",
       "    </tr>\n",
       "  </thead>\n",
       "  <tbody>\n",
       "    <tr>\n",
       "      <th>0</th>\n",
       "      <td>6</td>\n",
       "      <td>148</td>\n",
       "      <td>72</td>\n",
       "      <td>35</td>\n",
       "      <td>0</td>\n",
       "      <td>33.6</td>\n",
       "      <td>0.627</td>\n",
       "      <td>50</td>\n",
       "      <td>1</td>\n",
       "    </tr>\n",
       "    <tr>\n",
       "      <th>1</th>\n",
       "      <td>1</td>\n",
       "      <td>85</td>\n",
       "      <td>66</td>\n",
       "      <td>29</td>\n",
       "      <td>0</td>\n",
       "      <td>26.6</td>\n",
       "      <td>0.351</td>\n",
       "      <td>31</td>\n",
       "      <td>0</td>\n",
       "    </tr>\n",
       "    <tr>\n",
       "      <th>2</th>\n",
       "      <td>8</td>\n",
       "      <td>183</td>\n",
       "      <td>64</td>\n",
       "      <td>0</td>\n",
       "      <td>0</td>\n",
       "      <td>23.3</td>\n",
       "      <td>0.672</td>\n",
       "      <td>32</td>\n",
       "      <td>1</td>\n",
       "    </tr>\n",
       "    <tr>\n",
       "      <th>3</th>\n",
       "      <td>1</td>\n",
       "      <td>89</td>\n",
       "      <td>66</td>\n",
       "      <td>23</td>\n",
       "      <td>94</td>\n",
       "      <td>28.1</td>\n",
       "      <td>0.167</td>\n",
       "      <td>21</td>\n",
       "      <td>0</td>\n",
       "    </tr>\n",
       "    <tr>\n",
       "      <th>4</th>\n",
       "      <td>0</td>\n",
       "      <td>137</td>\n",
       "      <td>40</td>\n",
       "      <td>35</td>\n",
       "      <td>168</td>\n",
       "      <td>43.1</td>\n",
       "      <td>2.288</td>\n",
       "      <td>33</td>\n",
       "      <td>1</td>\n",
       "    </tr>\n",
       "  </tbody>\n",
       "</table>\n",
       "</div>"
      ],
      "text/plain": [
       "   Pregnancies  Glucose  BloodPressure  SkinThickness  Insulin   BMI  \\\n",
       "0            6      148             72             35        0  33.6   \n",
       "1            1       85             66             29        0  26.6   \n",
       "2            8      183             64              0        0  23.3   \n",
       "3            1       89             66             23       94  28.1   \n",
       "4            0      137             40             35      168  43.1   \n",
       "\n",
       "   DiabetesPedigreeFunction  Age  Outcome  \n",
       "0                     0.627   50        1  \n",
       "1                     0.351   31        0  \n",
       "2                     0.672   32        1  \n",
       "3                     0.167   21        0  \n",
       "4                     2.288   33        1  "
      ]
     },
     "execution_count": 3,
     "metadata": {},
     "output_type": "execute_result"
    }
   ],
   "source": [
    "data.head()"
   ]
  },
  {
   "cell_type": "code",
   "execution_count": 4,
   "id": "db516827",
   "metadata": {
    "execution": {
     "iopub.execute_input": "2023-11-06T03:06:27.427423Z",
     "iopub.status.busy": "2023-11-06T03:06:27.426933Z",
     "iopub.status.idle": "2023-11-06T03:06:27.431788Z",
     "shell.execute_reply": "2023-11-06T03:06:27.431195Z"
    },
    "papermill": {
     "duration": 0.014023,
     "end_time": "2023-11-06T03:06:27.433355",
     "exception": false,
     "start_time": "2023-11-06T03:06:27.419332",
     "status": "completed"
    },
    "tags": []
   },
   "outputs": [
    {
     "data": {
      "text/plain": [
       "(768, 9)"
      ]
     },
     "execution_count": 4,
     "metadata": {},
     "output_type": "execute_result"
    }
   ],
   "source": [
    "# number of rows and column\n",
    "data.shape"
   ]
  },
  {
   "cell_type": "code",
   "execution_count": 5,
   "id": "36a232fd",
   "metadata": {
    "execution": {
     "iopub.execute_input": "2023-11-06T03:06:27.448476Z",
     "iopub.status.busy": "2023-11-06T03:06:27.448007Z",
     "iopub.status.idle": "2023-11-06T03:06:27.479655Z",
     "shell.execute_reply": "2023-11-06T03:06:27.478787Z"
    },
    "papermill": {
     "duration": 0.041096,
     "end_time": "2023-11-06T03:06:27.481423",
     "exception": false,
     "start_time": "2023-11-06T03:06:27.440327",
     "status": "completed"
    },
    "tags": []
   },
   "outputs": [
    {
     "data": {
      "text/html": [
       "<div>\n",
       "<style scoped>\n",
       "    .dataframe tbody tr th:only-of-type {\n",
       "        vertical-align: middle;\n",
       "    }\n",
       "\n",
       "    .dataframe tbody tr th {\n",
       "        vertical-align: top;\n",
       "    }\n",
       "\n",
       "    .dataframe thead th {\n",
       "        text-align: right;\n",
       "    }\n",
       "</style>\n",
       "<table border=\"1\" class=\"dataframe\">\n",
       "  <thead>\n",
       "    <tr style=\"text-align: right;\">\n",
       "      <th></th>\n",
       "      <th>count</th>\n",
       "      <th>mean</th>\n",
       "      <th>std</th>\n",
       "      <th>min</th>\n",
       "      <th>25%</th>\n",
       "      <th>50%</th>\n",
       "      <th>75%</th>\n",
       "      <th>max</th>\n",
       "    </tr>\n",
       "  </thead>\n",
       "  <tbody>\n",
       "    <tr>\n",
       "      <th>Pregnancies</th>\n",
       "      <td>768.0</td>\n",
       "      <td>3.845052</td>\n",
       "      <td>3.369578</td>\n",
       "      <td>0.000</td>\n",
       "      <td>1.00000</td>\n",
       "      <td>3.0000</td>\n",
       "      <td>6.00000</td>\n",
       "      <td>17.00</td>\n",
       "    </tr>\n",
       "    <tr>\n",
       "      <th>Glucose</th>\n",
       "      <td>768.0</td>\n",
       "      <td>120.894531</td>\n",
       "      <td>31.972618</td>\n",
       "      <td>0.000</td>\n",
       "      <td>99.00000</td>\n",
       "      <td>117.0000</td>\n",
       "      <td>140.25000</td>\n",
       "      <td>199.00</td>\n",
       "    </tr>\n",
       "    <tr>\n",
       "      <th>BloodPressure</th>\n",
       "      <td>768.0</td>\n",
       "      <td>69.105469</td>\n",
       "      <td>19.355807</td>\n",
       "      <td>0.000</td>\n",
       "      <td>62.00000</td>\n",
       "      <td>72.0000</td>\n",
       "      <td>80.00000</td>\n",
       "      <td>122.00</td>\n",
       "    </tr>\n",
       "    <tr>\n",
       "      <th>SkinThickness</th>\n",
       "      <td>768.0</td>\n",
       "      <td>20.536458</td>\n",
       "      <td>15.952218</td>\n",
       "      <td>0.000</td>\n",
       "      <td>0.00000</td>\n",
       "      <td>23.0000</td>\n",
       "      <td>32.00000</td>\n",
       "      <td>99.00</td>\n",
       "    </tr>\n",
       "    <tr>\n",
       "      <th>Insulin</th>\n",
       "      <td>768.0</td>\n",
       "      <td>79.799479</td>\n",
       "      <td>115.244002</td>\n",
       "      <td>0.000</td>\n",
       "      <td>0.00000</td>\n",
       "      <td>30.5000</td>\n",
       "      <td>127.25000</td>\n",
       "      <td>846.00</td>\n",
       "    </tr>\n",
       "    <tr>\n",
       "      <th>BMI</th>\n",
       "      <td>768.0</td>\n",
       "      <td>31.992578</td>\n",
       "      <td>7.884160</td>\n",
       "      <td>0.000</td>\n",
       "      <td>27.30000</td>\n",
       "      <td>32.0000</td>\n",
       "      <td>36.60000</td>\n",
       "      <td>67.10</td>\n",
       "    </tr>\n",
       "    <tr>\n",
       "      <th>DiabetesPedigreeFunction</th>\n",
       "      <td>768.0</td>\n",
       "      <td>0.471876</td>\n",
       "      <td>0.331329</td>\n",
       "      <td>0.078</td>\n",
       "      <td>0.24375</td>\n",
       "      <td>0.3725</td>\n",
       "      <td>0.62625</td>\n",
       "      <td>2.42</td>\n",
       "    </tr>\n",
       "    <tr>\n",
       "      <th>Age</th>\n",
       "      <td>768.0</td>\n",
       "      <td>33.240885</td>\n",
       "      <td>11.760232</td>\n",
       "      <td>21.000</td>\n",
       "      <td>24.00000</td>\n",
       "      <td>29.0000</td>\n",
       "      <td>41.00000</td>\n",
       "      <td>81.00</td>\n",
       "    </tr>\n",
       "    <tr>\n",
       "      <th>Outcome</th>\n",
       "      <td>768.0</td>\n",
       "      <td>0.348958</td>\n",
       "      <td>0.476951</td>\n",
       "      <td>0.000</td>\n",
       "      <td>0.00000</td>\n",
       "      <td>0.0000</td>\n",
       "      <td>1.00000</td>\n",
       "      <td>1.00</td>\n",
       "    </tr>\n",
       "  </tbody>\n",
       "</table>\n",
       "</div>"
      ],
      "text/plain": [
       "                          count        mean         std     min       25%  \\\n",
       "Pregnancies               768.0    3.845052    3.369578   0.000   1.00000   \n",
       "Glucose                   768.0  120.894531   31.972618   0.000  99.00000   \n",
       "BloodPressure             768.0   69.105469   19.355807   0.000  62.00000   \n",
       "SkinThickness             768.0   20.536458   15.952218   0.000   0.00000   \n",
       "Insulin                   768.0   79.799479  115.244002   0.000   0.00000   \n",
       "BMI                       768.0   31.992578    7.884160   0.000  27.30000   \n",
       "DiabetesPedigreeFunction  768.0    0.471876    0.331329   0.078   0.24375   \n",
       "Age                       768.0   33.240885   11.760232  21.000  24.00000   \n",
       "Outcome                   768.0    0.348958    0.476951   0.000   0.00000   \n",
       "\n",
       "                               50%        75%     max  \n",
       "Pregnancies                 3.0000    6.00000   17.00  \n",
       "Glucose                   117.0000  140.25000  199.00  \n",
       "BloodPressure              72.0000   80.00000  122.00  \n",
       "SkinThickness              23.0000   32.00000   99.00  \n",
       "Insulin                    30.5000  127.25000  846.00  \n",
       "BMI                        32.0000   36.60000   67.10  \n",
       "DiabetesPedigreeFunction    0.3725    0.62625    2.42  \n",
       "Age                        29.0000   41.00000   81.00  \n",
       "Outcome                     0.0000    1.00000    1.00  "
      ]
     },
     "execution_count": 5,
     "metadata": {},
     "output_type": "execute_result"
    }
   ],
   "source": [
    "# getting the statistical measures of the dataset\n",
    "data.describe().T"
   ]
  },
  {
   "cell_type": "markdown",
   "id": "8ba953b8",
   "metadata": {
    "papermill": {
     "duration": 0.00718,
     "end_time": "2023-11-06T03:06:27.496324",
     "exception": false,
     "start_time": "2023-11-06T03:06:27.489144",
     "status": "completed"
    },
    "tags": []
   },
   "source": [
    "# Splitting the data"
   ]
  },
  {
   "cell_type": "code",
   "execution_count": 6,
   "id": "ce75e37b",
   "metadata": {
    "execution": {
     "iopub.execute_input": "2023-11-06T03:06:27.512512Z",
     "iopub.status.busy": "2023-11-06T03:06:27.511771Z",
     "iopub.status.idle": "2023-11-06T03:06:27.527164Z",
     "shell.execute_reply": "2023-11-06T03:06:27.526618Z"
    },
    "papermill": {
     "duration": 0.025245,
     "end_time": "2023-11-06T03:06:27.528804",
     "exception": false,
     "start_time": "2023-11-06T03:06:27.503559",
     "status": "completed"
    },
    "tags": []
   },
   "outputs": [],
   "source": [
    "features = data.drop(columns = 'Outcome', axis = 1)\n",
    "target = data['Outcome']"
   ]
  },
  {
   "cell_type": "code",
   "execution_count": 7,
   "id": "bea89919",
   "metadata": {
    "execution": {
     "iopub.execute_input": "2023-11-06T03:06:27.544532Z",
     "iopub.status.busy": "2023-11-06T03:06:27.544268Z",
     "iopub.status.idle": "2023-11-06T03:06:27.557522Z",
     "shell.execute_reply": "2023-11-06T03:06:27.556576Z"
    },
    "papermill": {
     "duration": 0.023616,
     "end_time": "2023-11-06T03:06:27.559691",
     "exception": false,
     "start_time": "2023-11-06T03:06:27.536075",
     "status": "completed"
    },
    "tags": []
   },
   "outputs": [
    {
     "data": {
      "text/html": [
       "<div>\n",
       "<style scoped>\n",
       "    .dataframe tbody tr th:only-of-type {\n",
       "        vertical-align: middle;\n",
       "    }\n",
       "\n",
       "    .dataframe tbody tr th {\n",
       "        vertical-align: top;\n",
       "    }\n",
       "\n",
       "    .dataframe thead th {\n",
       "        text-align: right;\n",
       "    }\n",
       "</style>\n",
       "<table border=\"1\" class=\"dataframe\">\n",
       "  <thead>\n",
       "    <tr style=\"text-align: right;\">\n",
       "      <th></th>\n",
       "      <th>Pregnancies</th>\n",
       "      <th>Glucose</th>\n",
       "      <th>BloodPressure</th>\n",
       "      <th>SkinThickness</th>\n",
       "      <th>Insulin</th>\n",
       "      <th>BMI</th>\n",
       "      <th>DiabetesPedigreeFunction</th>\n",
       "      <th>Age</th>\n",
       "    </tr>\n",
       "  </thead>\n",
       "  <tbody>\n",
       "    <tr>\n",
       "      <th>0</th>\n",
       "      <td>6</td>\n",
       "      <td>148</td>\n",
       "      <td>72</td>\n",
       "      <td>35</td>\n",
       "      <td>0</td>\n",
       "      <td>33.6</td>\n",
       "      <td>0.627</td>\n",
       "      <td>50</td>\n",
       "    </tr>\n",
       "    <tr>\n",
       "      <th>1</th>\n",
       "      <td>1</td>\n",
       "      <td>85</td>\n",
       "      <td>66</td>\n",
       "      <td>29</td>\n",
       "      <td>0</td>\n",
       "      <td>26.6</td>\n",
       "      <td>0.351</td>\n",
       "      <td>31</td>\n",
       "    </tr>\n",
       "    <tr>\n",
       "      <th>2</th>\n",
       "      <td>8</td>\n",
       "      <td>183</td>\n",
       "      <td>64</td>\n",
       "      <td>0</td>\n",
       "      <td>0</td>\n",
       "      <td>23.3</td>\n",
       "      <td>0.672</td>\n",
       "      <td>32</td>\n",
       "    </tr>\n",
       "    <tr>\n",
       "      <th>3</th>\n",
       "      <td>1</td>\n",
       "      <td>89</td>\n",
       "      <td>66</td>\n",
       "      <td>23</td>\n",
       "      <td>94</td>\n",
       "      <td>28.1</td>\n",
       "      <td>0.167</td>\n",
       "      <td>21</td>\n",
       "    </tr>\n",
       "    <tr>\n",
       "      <th>4</th>\n",
       "      <td>0</td>\n",
       "      <td>137</td>\n",
       "      <td>40</td>\n",
       "      <td>35</td>\n",
       "      <td>168</td>\n",
       "      <td>43.1</td>\n",
       "      <td>2.288</td>\n",
       "      <td>33</td>\n",
       "    </tr>\n",
       "    <tr>\n",
       "      <th>...</th>\n",
       "      <td>...</td>\n",
       "      <td>...</td>\n",
       "      <td>...</td>\n",
       "      <td>...</td>\n",
       "      <td>...</td>\n",
       "      <td>...</td>\n",
       "      <td>...</td>\n",
       "      <td>...</td>\n",
       "    </tr>\n",
       "    <tr>\n",
       "      <th>763</th>\n",
       "      <td>10</td>\n",
       "      <td>101</td>\n",
       "      <td>76</td>\n",
       "      <td>48</td>\n",
       "      <td>180</td>\n",
       "      <td>32.9</td>\n",
       "      <td>0.171</td>\n",
       "      <td>63</td>\n",
       "    </tr>\n",
       "    <tr>\n",
       "      <th>764</th>\n",
       "      <td>2</td>\n",
       "      <td>122</td>\n",
       "      <td>70</td>\n",
       "      <td>27</td>\n",
       "      <td>0</td>\n",
       "      <td>36.8</td>\n",
       "      <td>0.340</td>\n",
       "      <td>27</td>\n",
       "    </tr>\n",
       "    <tr>\n",
       "      <th>765</th>\n",
       "      <td>5</td>\n",
       "      <td>121</td>\n",
       "      <td>72</td>\n",
       "      <td>23</td>\n",
       "      <td>112</td>\n",
       "      <td>26.2</td>\n",
       "      <td>0.245</td>\n",
       "      <td>30</td>\n",
       "    </tr>\n",
       "    <tr>\n",
       "      <th>766</th>\n",
       "      <td>1</td>\n",
       "      <td>126</td>\n",
       "      <td>60</td>\n",
       "      <td>0</td>\n",
       "      <td>0</td>\n",
       "      <td>30.1</td>\n",
       "      <td>0.349</td>\n",
       "      <td>47</td>\n",
       "    </tr>\n",
       "    <tr>\n",
       "      <th>767</th>\n",
       "      <td>1</td>\n",
       "      <td>93</td>\n",
       "      <td>70</td>\n",
       "      <td>31</td>\n",
       "      <td>0</td>\n",
       "      <td>30.4</td>\n",
       "      <td>0.315</td>\n",
       "      <td>23</td>\n",
       "    </tr>\n",
       "  </tbody>\n",
       "</table>\n",
       "<p>768 rows × 8 columns</p>\n",
       "</div>"
      ],
      "text/plain": [
       "     Pregnancies  Glucose  BloodPressure  SkinThickness  Insulin   BMI  \\\n",
       "0              6      148             72             35        0  33.6   \n",
       "1              1       85             66             29        0  26.6   \n",
       "2              8      183             64              0        0  23.3   \n",
       "3              1       89             66             23       94  28.1   \n",
       "4              0      137             40             35      168  43.1   \n",
       "..           ...      ...            ...            ...      ...   ...   \n",
       "763           10      101             76             48      180  32.9   \n",
       "764            2      122             70             27        0  36.8   \n",
       "765            5      121             72             23      112  26.2   \n",
       "766            1      126             60              0        0  30.1   \n",
       "767            1       93             70             31        0  30.4   \n",
       "\n",
       "     DiabetesPedigreeFunction  Age  \n",
       "0                       0.627   50  \n",
       "1                       0.351   31  \n",
       "2                       0.672   32  \n",
       "3                       0.167   21  \n",
       "4                       2.288   33  \n",
       "..                        ...  ...  \n",
       "763                     0.171   63  \n",
       "764                     0.340   27  \n",
       "765                     0.245   30  \n",
       "766                     0.349   47  \n",
       "767                     0.315   23  \n",
       "\n",
       "[768 rows x 8 columns]"
      ]
     },
     "execution_count": 7,
     "metadata": {},
     "output_type": "execute_result"
    }
   ],
   "source": [
    "features"
   ]
  },
  {
   "cell_type": "code",
   "execution_count": 8,
   "id": "b131acb7",
   "metadata": {
    "execution": {
     "iopub.execute_input": "2023-11-06T03:06:27.577848Z",
     "iopub.status.busy": "2023-11-06T03:06:27.577194Z",
     "iopub.status.idle": "2023-11-06T03:06:27.582931Z",
     "shell.execute_reply": "2023-11-06T03:06:27.581716Z"
    },
    "papermill": {
     "duration": 0.016761,
     "end_time": "2023-11-06T03:06:27.584983",
     "exception": false,
     "start_time": "2023-11-06T03:06:27.568222",
     "status": "completed"
    },
    "tags": []
   },
   "outputs": [
    {
     "name": "stdout",
     "output_type": "stream",
     "text": [
      "0      1\n",
      "1      0\n",
      "2      1\n",
      "3      0\n",
      "4      1\n",
      "      ..\n",
      "763    0\n",
      "764    0\n",
      "765    0\n",
      "766    1\n",
      "767    0\n",
      "Name: Outcome, Length: 768, dtype: int64\n"
     ]
    }
   ],
   "source": [
    "print(target)"
   ]
  },
  {
   "cell_type": "markdown",
   "id": "53c3d2a8",
   "metadata": {
    "papermill": {
     "duration": 0.008468,
     "end_time": "2023-11-06T03:06:27.601614",
     "exception": false,
     "start_time": "2023-11-06T03:06:27.593146",
     "status": "completed"
    },
    "tags": []
   },
   "source": [
    "# Data Standardization"
   ]
  },
  {
   "cell_type": "code",
   "execution_count": 9,
   "id": "687c98f4",
   "metadata": {
    "execution": {
     "iopub.execute_input": "2023-11-06T03:06:27.619631Z",
     "iopub.status.busy": "2023-11-06T03:06:27.619319Z",
     "iopub.status.idle": "2023-11-06T03:06:27.623034Z",
     "shell.execute_reply": "2023-11-06T03:06:27.622235Z"
    },
    "papermill": {
     "duration": 0.014347,
     "end_time": "2023-11-06T03:06:27.624606",
     "exception": false,
     "start_time": "2023-11-06T03:06:27.610259",
     "status": "completed"
    },
    "tags": []
   },
   "outputs": [],
   "source": [
    "scaler = StandardScaler()"
   ]
  },
  {
   "cell_type": "code",
   "execution_count": 10,
   "id": "84b5f8ed",
   "metadata": {
    "execution": {
     "iopub.execute_input": "2023-11-06T03:06:27.642537Z",
     "iopub.status.busy": "2023-11-06T03:06:27.642129Z",
     "iopub.status.idle": "2023-11-06T03:06:27.653459Z",
     "shell.execute_reply": "2023-11-06T03:06:27.652658Z"
    },
    "papermill": {
     "duration": 0.021969,
     "end_time": "2023-11-06T03:06:27.655102",
     "exception": false,
     "start_time": "2023-11-06T03:06:27.633133",
     "status": "completed"
    },
    "tags": []
   },
   "outputs": [
    {
     "data": {
      "text/html": [
       "<style>#sk-container-id-1 {color: black;background-color: white;}#sk-container-id-1 pre{padding: 0;}#sk-container-id-1 div.sk-toggleable {background-color: white;}#sk-container-id-1 label.sk-toggleable__label {cursor: pointer;display: block;width: 100%;margin-bottom: 0;padding: 0.3em;box-sizing: border-box;text-align: center;}#sk-container-id-1 label.sk-toggleable__label-arrow:before {content: \"▸\";float: left;margin-right: 0.25em;color: #696969;}#sk-container-id-1 label.sk-toggleable__label-arrow:hover:before {color: black;}#sk-container-id-1 div.sk-estimator:hover label.sk-toggleable__label-arrow:before {color: black;}#sk-container-id-1 div.sk-toggleable__content {max-height: 0;max-width: 0;overflow: hidden;text-align: left;background-color: #f0f8ff;}#sk-container-id-1 div.sk-toggleable__content pre {margin: 0.2em;color: black;border-radius: 0.25em;background-color: #f0f8ff;}#sk-container-id-1 input.sk-toggleable__control:checked~div.sk-toggleable__content {max-height: 200px;max-width: 100%;overflow: auto;}#sk-container-id-1 input.sk-toggleable__control:checked~label.sk-toggleable__label-arrow:before {content: \"▾\";}#sk-container-id-1 div.sk-estimator input.sk-toggleable__control:checked~label.sk-toggleable__label {background-color: #d4ebff;}#sk-container-id-1 div.sk-label input.sk-toggleable__control:checked~label.sk-toggleable__label {background-color: #d4ebff;}#sk-container-id-1 input.sk-hidden--visually {border: 0;clip: rect(1px 1px 1px 1px);clip: rect(1px, 1px, 1px, 1px);height: 1px;margin: -1px;overflow: hidden;padding: 0;position: absolute;width: 1px;}#sk-container-id-1 div.sk-estimator {font-family: monospace;background-color: #f0f8ff;border: 1px dotted black;border-radius: 0.25em;box-sizing: border-box;margin-bottom: 0.5em;}#sk-container-id-1 div.sk-estimator:hover {background-color: #d4ebff;}#sk-container-id-1 div.sk-parallel-item::after {content: \"\";width: 100%;border-bottom: 1px solid gray;flex-grow: 1;}#sk-container-id-1 div.sk-label:hover label.sk-toggleable__label {background-color: #d4ebff;}#sk-container-id-1 div.sk-serial::before {content: \"\";position: absolute;border-left: 1px solid gray;box-sizing: border-box;top: 0;bottom: 0;left: 50%;z-index: 0;}#sk-container-id-1 div.sk-serial {display: flex;flex-direction: column;align-items: center;background-color: white;padding-right: 0.2em;padding-left: 0.2em;position: relative;}#sk-container-id-1 div.sk-item {position: relative;z-index: 1;}#sk-container-id-1 div.sk-parallel {display: flex;align-items: stretch;justify-content: center;background-color: white;position: relative;}#sk-container-id-1 div.sk-item::before, #sk-container-id-1 div.sk-parallel-item::before {content: \"\";position: absolute;border-left: 1px solid gray;box-sizing: border-box;top: 0;bottom: 0;left: 50%;z-index: -1;}#sk-container-id-1 div.sk-parallel-item {display: flex;flex-direction: column;z-index: 1;position: relative;background-color: white;}#sk-container-id-1 div.sk-parallel-item:first-child::after {align-self: flex-end;width: 50%;}#sk-container-id-1 div.sk-parallel-item:last-child::after {align-self: flex-start;width: 50%;}#sk-container-id-1 div.sk-parallel-item:only-child::after {width: 0;}#sk-container-id-1 div.sk-dashed-wrapped {border: 1px dashed gray;margin: 0 0.4em 0.5em 0.4em;box-sizing: border-box;padding-bottom: 0.4em;background-color: white;}#sk-container-id-1 div.sk-label label {font-family: monospace;font-weight: bold;display: inline-block;line-height: 1.2em;}#sk-container-id-1 div.sk-label-container {text-align: center;}#sk-container-id-1 div.sk-container {/* jupyter's `normalize.less` sets `[hidden] { display: none; }` but bootstrap.min.css set `[hidden] { display: none !important; }` so we also need the `!important` here to be able to override the default hidden behavior on the sphinx rendered scikit-learn.org. See: https://github.com/scikit-learn/scikit-learn/issues/21755 */display: inline-block !important;position: relative;}#sk-container-id-1 div.sk-text-repr-fallback {display: none;}</style><div id=\"sk-container-id-1\" class=\"sk-top-container\"><div class=\"sk-text-repr-fallback\"><pre>StandardScaler()</pre><b>In a Jupyter environment, please rerun this cell to show the HTML representation or trust the notebook. <br />On GitHub, the HTML representation is unable to render, please try loading this page with nbviewer.org.</b></div><div class=\"sk-container\" hidden><div class=\"sk-item\"><div class=\"sk-estimator sk-toggleable\"><input class=\"sk-toggleable__control sk-hidden--visually\" id=\"sk-estimator-id-1\" type=\"checkbox\" checked><label for=\"sk-estimator-id-1\" class=\"sk-toggleable__label sk-toggleable__label-arrow\">StandardScaler</label><div class=\"sk-toggleable__content\"><pre>StandardScaler()</pre></div></div></div></div></div>"
      ],
      "text/plain": [
       "StandardScaler()"
      ]
     },
     "execution_count": 10,
     "metadata": {},
     "output_type": "execute_result"
    }
   ],
   "source": [
    "scaler.fit(features)"
   ]
  },
  {
   "cell_type": "code",
   "execution_count": 11,
   "id": "ec7710b8",
   "metadata": {
    "execution": {
     "iopub.execute_input": "2023-11-06T03:06:27.672160Z",
     "iopub.status.busy": "2023-11-06T03:06:27.671881Z",
     "iopub.status.idle": "2023-11-06T03:06:27.677680Z",
     "shell.execute_reply": "2023-11-06T03:06:27.676808Z"
    },
    "papermill": {
     "duration": 0.015999,
     "end_time": "2023-11-06T03:06:27.679226",
     "exception": false,
     "start_time": "2023-11-06T03:06:27.663227",
     "status": "completed"
    },
    "tags": []
   },
   "outputs": [],
   "source": [
    "standardized_data = scaler.transform(features)"
   ]
  },
  {
   "cell_type": "code",
   "execution_count": 12,
   "id": "56e32d9c",
   "metadata": {
    "execution": {
     "iopub.execute_input": "2023-11-06T03:06:27.696026Z",
     "iopub.status.busy": "2023-11-06T03:06:27.695770Z",
     "iopub.status.idle": "2023-11-06T03:06:27.699383Z",
     "shell.execute_reply": "2023-11-06T03:06:27.698611Z"
    },
    "papermill": {
     "duration": 0.013556,
     "end_time": "2023-11-06T03:06:27.700827",
     "exception": false,
     "start_time": "2023-11-06T03:06:27.687271",
     "status": "completed"
    },
    "tags": []
   },
   "outputs": [],
   "source": [
    "features = standardized_data\n"
   ]
  },
  {
   "cell_type": "code",
   "execution_count": 13,
   "id": "4b681dcb",
   "metadata": {
    "execution": {
     "iopub.execute_input": "2023-11-06T03:06:27.717278Z",
     "iopub.status.busy": "2023-11-06T03:06:27.717015Z",
     "iopub.status.idle": "2023-11-06T03:06:27.724939Z",
     "shell.execute_reply": "2023-11-06T03:06:27.723929Z"
    },
    "papermill": {
     "duration": 0.017871,
     "end_time": "2023-11-06T03:06:27.726491",
     "exception": false,
     "start_time": "2023-11-06T03:06:27.708620",
     "status": "completed"
    },
    "tags": []
   },
   "outputs": [
    {
     "data": {
      "text/plain": [
       "(array([[ 0.63994726,  0.84832379,  0.14964075, ...,  0.20401277,\n",
       "          0.46849198,  1.4259954 ],\n",
       "        [-0.84488505, -1.12339636, -0.16054575, ..., -0.68442195,\n",
       "         -0.36506078, -0.19067191],\n",
       "        [ 1.23388019,  1.94372388, -0.26394125, ..., -1.10325546,\n",
       "          0.60439732, -0.10558415],\n",
       "        ...,\n",
       "        [ 0.3429808 ,  0.00330087,  0.14964075, ..., -0.73518964,\n",
       "         -0.68519336, -0.27575966],\n",
       "        [-0.84488505,  0.1597866 , -0.47073225, ..., -0.24020459,\n",
       "         -0.37110101,  1.17073215],\n",
       "        [-0.84488505, -0.8730192 ,  0.04624525, ..., -0.20212881,\n",
       "         -0.47378505, -0.87137393]]),\n",
       " 0      1\n",
       " 1      0\n",
       " 2      1\n",
       " 3      0\n",
       " 4      1\n",
       "       ..\n",
       " 763    0\n",
       " 764    0\n",
       " 765    0\n",
       " 766    1\n",
       " 767    0\n",
       " Name: Outcome, Length: 768, dtype: int64)"
      ]
     },
     "execution_count": 13,
     "metadata": {},
     "output_type": "execute_result"
    }
   ],
   "source": [
    "features, target"
   ]
  },
  {
   "cell_type": "markdown",
   "id": "b6b45372",
   "metadata": {
    "papermill": {
     "duration": 0.008843,
     "end_time": "2023-11-06T03:06:27.743247",
     "exception": false,
     "start_time": "2023-11-06T03:06:27.734404",
     "status": "completed"
    },
    "tags": []
   },
   "source": [
    "# Train Test Split"
   ]
  },
  {
   "cell_type": "code",
   "execution_count": 14,
   "id": "bd75ceeb",
   "metadata": {
    "execution": {
     "iopub.execute_input": "2023-11-06T03:06:27.761457Z",
     "iopub.status.busy": "2023-11-06T03:06:27.761120Z",
     "iopub.status.idle": "2023-11-06T03:06:27.767641Z",
     "shell.execute_reply": "2023-11-06T03:06:27.766764Z"
    },
    "papermill": {
     "duration": 0.017703,
     "end_time": "2023-11-06T03:06:27.769456",
     "exception": false,
     "start_time": "2023-11-06T03:06:27.751753",
     "status": "completed"
    },
    "tags": []
   },
   "outputs": [
    {
     "name": "stdout",
     "output_type": "stream",
     "text": [
      "(768, 8) (614, 8) (154, 8)\n"
     ]
    }
   ],
   "source": [
    "X_train, X_test, Y_train, Y_test = train_test_split(features, target, test_size=0.2, random_state = 2)\n",
    "print(features.shape, X_train.shape, X_test.shape)"
   ]
  },
  {
   "cell_type": "markdown",
   "id": "26002ee3",
   "metadata": {
    "papermill": {
     "duration": 0.007981,
     "end_time": "2023-11-06T03:06:27.786136",
     "exception": false,
     "start_time": "2023-11-06T03:06:27.778155",
     "status": "completed"
    },
    "tags": []
   },
   "source": [
    "Training the Model"
   ]
  },
  {
   "cell_type": "markdown",
   "id": "1140db73",
   "metadata": {
    "papermill": {
     "duration": 0.007888,
     "end_time": "2023-11-06T03:06:27.802327",
     "exception": false,
     "start_time": "2023-11-06T03:06:27.794439",
     "status": "completed"
    },
    "tags": []
   },
   "source": [
    "# LogisticRegression"
   ]
  },
  {
   "cell_type": "code",
   "execution_count": 15,
   "id": "fa230329",
   "metadata": {
    "execution": {
     "iopub.execute_input": "2023-11-06T03:06:27.820277Z",
     "iopub.status.busy": "2023-11-06T03:06:27.819961Z",
     "iopub.status.idle": "2023-11-06T03:06:27.901179Z",
     "shell.execute_reply": "2023-11-06T03:06:27.900236Z"
    },
    "papermill": {
     "duration": 0.092459,
     "end_time": "2023-11-06T03:06:27.903240",
     "exception": false,
     "start_time": "2023-11-06T03:06:27.810781",
     "status": "completed"
    },
    "tags": []
   },
   "outputs": [],
   "source": [
    "from sklearn.linear_model import LogisticRegression"
   ]
  },
  {
   "cell_type": "code",
   "execution_count": 16,
   "id": "29d6eaa6",
   "metadata": {
    "execution": {
     "iopub.execute_input": "2023-11-06T03:06:27.920847Z",
     "iopub.status.busy": "2023-11-06T03:06:27.920574Z",
     "iopub.status.idle": "2023-11-06T03:06:27.935126Z",
     "shell.execute_reply": "2023-11-06T03:06:27.934199Z"
    },
    "papermill": {
     "duration": 0.025047,
     "end_time": "2023-11-06T03:06:27.936775",
     "exception": false,
     "start_time": "2023-11-06T03:06:27.911728",
     "status": "completed"
    },
    "tags": []
   },
   "outputs": [
    {
     "name": "stdout",
     "output_type": "stream",
     "text": [
      "Accuracy score on test data =  0.7662337662337663\n"
     ]
    }
   ],
   "source": [
    "classifier =  LogisticRegression()\n",
    "classifier.fit(X_train, Y_train)\n",
    "\n",
    "# accuracy on training data\n",
    "X_test_prediction = classifier.predict(X_test)\n",
    "logistic_acc= accuracy_score(Y_test, X_test_prediction)\n",
    "print('Accuracy score on test data = ',logistic_acc)"
   ]
  },
  {
   "cell_type": "markdown",
   "id": "3e195a53",
   "metadata": {
    "papermill": {
     "duration": 0.007645,
     "end_time": "2023-11-06T03:06:27.952853",
     "exception": false,
     "start_time": "2023-11-06T03:06:27.945208",
     "status": "completed"
    },
    "tags": []
   },
   "source": [
    "# Support Vector Machine Classifier"
   ]
  },
  {
   "cell_type": "code",
   "execution_count": 17,
   "id": "9d5dc277",
   "metadata": {
    "execution": {
     "iopub.execute_input": "2023-11-06T03:06:27.970321Z",
     "iopub.status.busy": "2023-11-06T03:06:27.969988Z",
     "iopub.status.idle": "2023-11-06T03:06:27.974364Z",
     "shell.execute_reply": "2023-11-06T03:06:27.973526Z"
    },
    "papermill": {
     "duration": 0.015405,
     "end_time": "2023-11-06T03:06:27.976122",
     "exception": false,
     "start_time": "2023-11-06T03:06:27.960717",
     "status": "completed"
    },
    "tags": []
   },
   "outputs": [],
   "source": [
    "from sklearn import svm"
   ]
  },
  {
   "cell_type": "code",
   "execution_count": 18,
   "id": "0e9d3073",
   "metadata": {
    "execution": {
     "iopub.execute_input": "2023-11-06T03:06:28.029360Z",
     "iopub.status.busy": "2023-11-06T03:06:28.029012Z",
     "iopub.status.idle": "2023-11-06T03:06:28.047757Z",
     "shell.execute_reply": "2023-11-06T03:06:28.046600Z"
    },
    "papermill": {
     "duration": 0.02963,
     "end_time": "2023-11-06T03:06:28.049523",
     "exception": false,
     "start_time": "2023-11-06T03:06:28.019893",
     "status": "completed"
    },
    "tags": []
   },
   "outputs": [
    {
     "name": "stdout",
     "output_type": "stream",
     "text": [
      "Accuracy score on test data =  0.7402597402597403\n"
     ]
    }
   ],
   "source": [
    "model = svm.SVC()\n",
    "model.fit(X_train, Y_train)\n",
    "\n",
    "# Evaluation\n",
    "predicted_Y = model.predict(X_test)\n",
    "svm_acc = accuracy_score(Y_test, predicted_Y)\n",
    "print('Accuracy score on test data = ',svm_acc)"
   ]
  },
  {
   "cell_type": "markdown",
   "id": "79523f0d",
   "metadata": {
    "papermill": {
     "duration": 0.008204,
     "end_time": "2023-11-06T03:06:28.066599",
     "exception": false,
     "start_time": "2023-11-06T03:06:28.058395",
     "status": "completed"
    },
    "tags": []
   },
   "source": [
    "# DecisionTree"
   ]
  },
  {
   "cell_type": "code",
   "execution_count": 19,
   "id": "795ae6c3",
   "metadata": {
    "execution": {
     "iopub.execute_input": "2023-11-06T03:06:28.085579Z",
     "iopub.status.busy": "2023-11-06T03:06:28.085204Z",
     "iopub.status.idle": "2023-11-06T03:06:28.211977Z",
     "shell.execute_reply": "2023-11-06T03:06:28.210998Z"
    },
    "papermill": {
     "duration": 0.138866,
     "end_time": "2023-11-06T03:06:28.214109",
     "exception": false,
     "start_time": "2023-11-06T03:06:28.075243",
     "status": "completed"
    },
    "tags": []
   },
   "outputs": [],
   "source": [
    "# Import necessary libraries\n",
    "from sklearn.tree import DecisionTreeClassifier"
   ]
  },
  {
   "cell_type": "code",
   "execution_count": 20,
   "id": "2f2586e7",
   "metadata": {
    "execution": {
     "iopub.execute_input": "2023-11-06T03:06:28.234227Z",
     "iopub.status.busy": "2023-11-06T03:06:28.233298Z",
     "iopub.status.idle": "2023-11-06T03:06:28.246266Z",
     "shell.execute_reply": "2023-11-06T03:06:28.245381Z"
    },
    "papermill": {
     "duration": 0.024916,
     "end_time": "2023-11-06T03:06:28.247999",
     "exception": false,
     "start_time": "2023-11-06T03:06:28.223083",
     "status": "completed"
    },
    "tags": []
   },
   "outputs": [
    {
     "name": "stdout",
     "output_type": "stream",
     "text": [
      "Decision Tree Accuracy: 0.7207792207792207\n"
     ]
    }
   ],
   "source": [
    "# Create an instance of the Decision Tree classifier\n",
    "decision = DecisionTreeClassifier()\n",
    "\n",
    "# Train the Decision Tree classifier on the training data\n",
    "decision.fit(X_train, Y_train)\n",
    "# Evaluate the Decision Tree classifier on the test data\n",
    "decision_prediction = decision.predict(X_test)\n",
    "\n",
    "# Calculate accuracy for the Decision Tree classifier\n",
    "decision_tree_acc = accuracy_score(Y_test, decision_prediction)\n",
    "\n",
    "# Display accuracy for the Decision Tree classifier\n",
    "print(\"Decision Tree Accuracy:\", decision_tree_acc)\n"
   ]
  },
  {
   "cell_type": "markdown",
   "id": "8e4b40b6",
   "metadata": {
    "papermill": {
     "duration": 0.008058,
     "end_time": "2023-11-06T03:06:28.264790",
     "exception": false,
     "start_time": "2023-11-06T03:06:28.256732",
     "status": "completed"
    },
    "tags": []
   },
   "source": [
    "#  K nearest neighbors"
   ]
  },
  {
   "cell_type": "code",
   "execution_count": 21,
   "id": "6ad7833d",
   "metadata": {
    "execution": {
     "iopub.execute_input": "2023-11-06T03:06:28.283322Z",
     "iopub.status.busy": "2023-11-06T03:06:28.282779Z",
     "iopub.status.idle": "2023-11-06T03:06:28.286639Z",
     "shell.execute_reply": "2023-11-06T03:06:28.285894Z"
    },
    "papermill": {
     "duration": 0.015107,
     "end_time": "2023-11-06T03:06:28.288314",
     "exception": false,
     "start_time": "2023-11-06T03:06:28.273207",
     "status": "completed"
    },
    "tags": []
   },
   "outputs": [],
   "source": [
    "# Import necessary libraries\n",
    "from sklearn.neighbors import KNeighborsClassifier"
   ]
  },
  {
   "cell_type": "code",
   "execution_count": 22,
   "id": "ed451f7a",
   "metadata": {
    "execution": {
     "iopub.execute_input": "2023-11-06T03:06:28.307253Z",
     "iopub.status.busy": "2023-11-06T03:06:28.306707Z",
     "iopub.status.idle": "2023-11-06T03:06:28.323084Z",
     "shell.execute_reply": "2023-11-06T03:06:28.322175Z"
    },
    "papermill": {
     "duration": 0.028274,
     "end_time": "2023-11-06T03:06:28.325184",
     "exception": false,
     "start_time": "2023-11-06T03:06:28.296910",
     "status": "completed"
    },
    "tags": []
   },
   "outputs": [
    {
     "name": "stdout",
     "output_type": "stream",
     "text": [
      "KNN Accuracy: 0.7662337662337663\n"
     ]
    }
   ],
   "source": [
    "# Create an instance of the KNN classifier with a specific number of neighbors (e.g., 3)\n",
    "knn_classifier = KNeighborsClassifier(n_neighbors=2)\n",
    "\n",
    "# Train the KNN classifier on the training data\n",
    "knn_classifier.fit(X_train, Y_train)\n",
    "\n",
    "# Evaluate the KNN classifier on the test data\n",
    "knn_test_data_prediction = knn_classifier.predict(X_test)\n",
    "\n",
    "# Calculate accuracy for the KNN classifier\n",
    "knn_acc = accuracy_score(Y_test, knn_test_data_prediction)\n",
    "\n",
    "# Display accuracy for the KNN classifier\n",
    "print(\"KNN Accuracy:\", knn_acc)"
   ]
  },
  {
   "cell_type": "markdown",
   "id": "2ace0dcb",
   "metadata": {
    "papermill": {
     "duration": 0.008065,
     "end_time": "2023-11-06T03:06:28.341890",
     "exception": false,
     "start_time": "2023-11-06T03:06:28.333825",
     "status": "completed"
    },
    "tags": []
   },
   "source": [
    "# Naive bayes"
   ]
  },
  {
   "cell_type": "code",
   "execution_count": 23,
   "id": "52657d66",
   "metadata": {
    "execution": {
     "iopub.execute_input": "2023-11-06T03:06:28.359871Z",
     "iopub.status.busy": "2023-11-06T03:06:28.359252Z",
     "iopub.status.idle": "2023-11-06T03:06:28.369469Z",
     "shell.execute_reply": "2023-11-06T03:06:28.368762Z"
    },
    "papermill": {
     "duration": 0.021173,
     "end_time": "2023-11-06T03:06:28.371035",
     "exception": false,
     "start_time": "2023-11-06T03:06:28.349862",
     "status": "completed"
    },
    "tags": []
   },
   "outputs": [],
   "source": [
    "# Import necessary libraries\n",
    "from sklearn.naive_bayes import GaussianNB"
   ]
  },
  {
   "cell_type": "code",
   "execution_count": 24,
   "id": "760a44b4",
   "metadata": {
    "execution": {
     "iopub.execute_input": "2023-11-06T03:06:28.388703Z",
     "iopub.status.busy": "2023-11-06T03:06:28.388369Z",
     "iopub.status.idle": "2023-11-06T03:06:28.396814Z",
     "shell.execute_reply": "2023-11-06T03:06:28.395193Z"
    },
    "papermill": {
     "duration": 0.01982,
     "end_time": "2023-11-06T03:06:28.398966",
     "exception": false,
     "start_time": "2023-11-06T03:06:28.379146",
     "status": "completed"
    },
    "tags": []
   },
   "outputs": [
    {
     "name": "stdout",
     "output_type": "stream",
     "text": [
      "Naive Bayes Accuracy: 0.7597402597402597\n"
     ]
    }
   ],
   "source": [
    "# Create an instance of the Gaussian Naive Bayes classifier\n",
    "naive_bayes_classifier = GaussianNB()\n",
    "\n",
    "# Train the Naive Bayes classifier on the training data\n",
    "naive_bayes_classifier.fit(X_train, Y_train)\n",
    "\n",
    "# Evaluate the Naive Bayes classifier on the test data\n",
    "naive_bayes_test_data_prediction = naive_bayes_classifier.predict(X_test)\n",
    "\n",
    "# Calculate accuracy for the Naive Bayes classifier\n",
    "naive_bayes_acc = accuracy_score(Y_test, naive_bayes_test_data_prediction)\n",
    "\n",
    "# Display accuracy for the Naive Bayes classifier\n",
    "print(\"Naive Bayes Accuracy:\", naive_bayes_acc)\n"
   ]
  },
  {
   "cell_type": "markdown",
   "id": "e069ca38",
   "metadata": {
    "papermill": {
     "duration": 0.008142,
     "end_time": "2023-11-06T03:06:28.415436",
     "exception": false,
     "start_time": "2023-11-06T03:06:28.407294",
     "status": "completed"
    },
    "tags": []
   },
   "source": [
    "# RandomForest"
   ]
  },
  {
   "cell_type": "code",
   "execution_count": 25,
   "id": "31f9708b",
   "metadata": {
    "execution": {
     "iopub.execute_input": "2023-11-06T03:06:28.433735Z",
     "iopub.status.busy": "2023-11-06T03:06:28.433127Z",
     "iopub.status.idle": "2023-11-06T03:06:28.528275Z",
     "shell.execute_reply": "2023-11-06T03:06:28.527347Z"
    },
    "papermill": {
     "duration": 0.106992,
     "end_time": "2023-11-06T03:06:28.530556",
     "exception": false,
     "start_time": "2023-11-06T03:06:28.423564",
     "status": "completed"
    },
    "tags": []
   },
   "outputs": [],
   "source": [
    "# Import necessary libraries\n",
    "from sklearn.ensemble import RandomForestClassifier"
   ]
  },
  {
   "cell_type": "code",
   "execution_count": 26,
   "id": "c7b58670",
   "metadata": {
    "execution": {
     "iopub.execute_input": "2023-11-06T03:06:28.549793Z",
     "iopub.status.busy": "2023-11-06T03:06:28.549464Z",
     "iopub.status.idle": "2023-11-06T03:06:28.736794Z",
     "shell.execute_reply": "2023-11-06T03:06:28.735418Z"
    },
    "papermill": {
     "duration": 0.199565,
     "end_time": "2023-11-06T03:06:28.739153",
     "exception": false,
     "start_time": "2023-11-06T03:06:28.539588",
     "status": "completed"
    },
    "tags": []
   },
   "outputs": [
    {
     "name": "stdout",
     "output_type": "stream",
     "text": [
      "Random Forest Accuracy: 0.7532467532467533\n"
     ]
    }
   ],
   "source": [
    "# Create an instance of the Random Forest classifier\n",
    "random_forest_classifier = RandomForestClassifier()\n",
    "\n",
    "# Train the Random Forest classifier on the training data\n",
    "random_forest_classifier.fit(X_train, Y_train)\n",
    "\n",
    "# Evaluate the Random Forest classifier on the test data\n",
    "random_forest_test_data_prediction = random_forest_classifier.predict(X_test)\n",
    "\n",
    "# Calculate accuracy for the Random Forest classifier\n",
    "random_forest_acc = accuracy_score(Y_test, random_forest_test_data_prediction)\n",
    "\n",
    "# Display accuracy for the Random Forest classifier\n",
    "print(\"Random Forest Accuracy:\", random_forest_acc)\n"
   ]
  },
  {
   "cell_type": "markdown",
   "id": "00368440",
   "metadata": {
    "papermill": {
     "duration": 0.008108,
     "end_time": "2023-11-06T03:06:28.756116",
     "exception": false,
     "start_time": "2023-11-06T03:06:28.748008",
     "status": "completed"
    },
    "tags": []
   },
   "source": [
    "# COMPARING ACCURACY OF DIFFRENT MODELS"
   ]
  },
  {
   "cell_type": "code",
   "execution_count": 27,
   "id": "31141fde",
   "metadata": {
    "execution": {
     "iopub.execute_input": "2023-11-06T03:06:28.773721Z",
     "iopub.status.busy": "2023-11-06T03:06:28.773425Z",
     "iopub.status.idle": "2023-11-06T03:06:29.005331Z",
     "shell.execute_reply": "2023-11-06T03:06:29.004390Z"
    },
    "papermill": {
     "duration": 0.24305,
     "end_time": "2023-11-06T03:06:29.007318",
     "exception": false,
     "start_time": "2023-11-06T03:06:28.764268",
     "status": "completed"
    },
    "tags": []
   },
   "outputs": [
    {
     "data": {
      "text/plain": [
       "<Axes: >"
      ]
     },
     "execution_count": 27,
     "metadata": {},
     "output_type": "execute_result"
    },
    {
     "data": {
      "image/png": "[encoded data removed]",
      "text/plain": [
       "<Figure size 1200x600 with 1 Axes>"
      ]
     },
     "metadata": {},
     "output_type": "display_data"
    }
   ],
   "source": [
    "# ploting graph to compare accuracy of diffrent models \n",
    "plt.figure(figsize=(12,6))\n",
    "\n",
    "model_acc = [logistic_acc,svm_acc,decision_tree_acc,knn_acc,naive_bayes_acc,random_forest_acc]\n",
    "model_name = ['LOGISTICREG..','SVM','DECISIONTREE','kNN','NAIVE BAYES','RANDOM FOREST']\n",
    "\n",
    "sns.barplot(x=model_acc, y=model_name,palette='magma')"
   ]
  },
  {
   "cell_type": "markdown",
   "id": "d136de24",
   "metadata": {
    "papermill": {
     "duration": 0.008362,
     "end_time": "2023-11-06T03:06:29.024786",
     "exception": false,
     "start_time": "2023-11-06T03:06:29.016424",
     "status": "completed"
    },
    "tags": []
   },
   "source": [
    "### "
   ]
  }
 ],
 "metadata": {
  "kernelspec": {
   "display_name": "Python 3",
   "language": "python",
   "name": "python3"
  },
  "language_info": {
   "codemirror_mode": {
    "name": "ipython",
    "version": 3
   },
   "file_extension": ".py",
   "mimetype": "text/x-python",
   "name": "python",
   "nbconvert_exporter": "python",
   "pygments_lexer": "ipython3",
   "version": "3.10.12"
  },
  "papermill": {
   "default_parameters": {},
   "duration": 6.386056,
   "end_time": "2023-11-06T03:06:29.552246",
   "environment_variables": {},
   "exception": null,
   "input_path": "__notebook__.ipynb",
   "output_path": "__notebook__.ipynb",
   "parameters": {},
   "start_time": "2023-11-06T03:06:23.166190",
   "version": "2.4.0"
  }
 },
 "nbformat": 4,
 "nbformat_minor": 5
}
