{
 "cells": [
  {
   "cell_type": "markdown",
   "id": "01c6b236",
   "metadata": {
    "_cell_guid": "b1076dfc-b9ad-4769-8c92-a6c4dae69d19",
    "_uuid": "8f2839f25d086af736a60e9eeb907d3b93b6e0e5",
    "papermill": {
     "duration": 0.002252,
     "end_time": "2023-11-06T05:54:31.499910",
     "exception": false,
     "start_time": "2023-11-06T05:54:31.497658",
     "status": "completed"
    },
    "tags": []
   },
   "source": [
    "# Write a Python program to implement K-Nearest Neighbour supervised machine learning algorithm for given dataset,"
   ]
  },
  {
   "cell_type": "code",
   "execution_count": 1,
   "id": "504e2e24",
   "metadata": {
    "execution": {
     "iopub.execute_input": "2023-11-06T05:54:31.505858Z",
     "iopub.status.busy": "2023-11-06T05:54:31.504698Z",
     "iopub.status.idle": "2023-11-06T05:54:33.244583Z",
     "shell.execute_reply": "2023-11-06T05:54:33.243796Z"
    },
    "papermill": {
     "duration": 1.744987,
     "end_time": "2023-11-06T05:54:33.246661",
     "exception": false,
     "start_time": "2023-11-06T05:54:31.501674",
     "status": "completed"
    },
    "tags": []
   },
   "outputs": [
    {
     "name": "stdout",
     "output_type": "stream",
     "text": [
      "Accuracy :  96.73550966022651\n"
     ]
    }
   ],
   "source": [
    "#Thanki Aabha Praful\n",
    "#216270307001\n",
    "\n",
    "# importing files\n",
    "import pandas as pd\n",
    "from sklearn.model_selection import train_test_split\n",
    "from sklearn.neighbors import KNeighborsClassifier\n",
    "\n",
    "# reading csv file\n",
    "data = pd.read_csv('/kaggle/input/gender-classification-dataset/gender_classification_v7.csv')\n",
    "# converting value of y from string to integer\n",
    "data.replace({'gender':{'Female':1,'Male':0}},inplace=True)\n",
    "data.head()\n",
    "\n",
    "# defining X and Y and spliting data set into train and test\n",
    "X=data.drop(columns=['gender'])\n",
    "Y=data['gender']\n",
    "x_train,x_test,y_train,y_test=train_test_split(X,Y,train_size=0.70,test_size=0.30,random_state=1)\n",
    "\n",
    "# calling fit function \n",
    "model=KNeighborsClassifier()\n",
    "model.fit(x_train,y_train)\n",
    "\n",
    "# finding accuracy of the trained model \n",
    "print(\"Accuracy : \", model.score(x_test,y_test) * 100)"
   ]
  },
  {
   "cell_type": "code",
   "execution_count": null,
   "id": "eeee22ae",
   "metadata": {
    "papermill": {
     "duration": 0.001368,
     "end_time": "2023-11-06T05:54:33.249733",
     "exception": false,
     "start_time": "2023-11-06T05:54:33.248365",
     "status": "completed"
    },
    "tags": []
   },
   "outputs": [],
   "source": []
  }
 ],
 "metadata": {
  "kernelspec": {
   "display_name": "Python 3",
   "language": "python",
   "name": "python3"
  },
  "language_info": {
   "codemirror_mode": {
    "name": "ipython",
    "version": 3
   },
   "file_extension": ".py",
   "mimetype": "text/x-python",
   "name": "python",
   "nbconvert_exporter": "python",
   "pygments_lexer": "ipython3",
   "version": "3.10.12"
  },
  "papermill": {
   "default_parameters": {},
   "duration": 5.239456,
   "end_time": "2023-11-06T05:54:33.770588",
   "environment_variables": {},
   "exception": null,
   "input_path": "__notebook__.ipynb",
   "output_path": "__notebook__.ipynb",
   "parameters": {},
   "start_time": "2023-11-06T05:54:28.531132",
   "version": "2.4.0"
  }
 },
 "nbformat": 4,
 "nbformat_minor": 5
}
