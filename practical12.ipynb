{
 "cells": [
  {
   "cell_type": "markdown",
   "id": "04551d62",
   "metadata": {
    "papermill": {
     "duration": 0.00215,
     "end_time": "2023-11-06T02:38:59.942992",
     "exception": false,
     "start_time": "2023-11-06T02:38:59.940842",
     "status": "completed"
    },
    "tags": []
   },
   "source": [
    "# Write a Python program using Scikit-learn to print the keys, number of rows-columns, feature names and the description of the given data."
   ]
  },
  {
   "cell_type": "code",
   "execution_count": 1,
   "id": "6c6fe1e1",
   "metadata": {
    "execution": {
     "iopub.execute_input": "2023-11-06T02:38:59.948686Z",
     "iopub.status.busy": "2023-11-06T02:38:59.947888Z",
     "iopub.status.idle": "2023-11-06T02:39:01.756674Z",
     "shell.execute_reply": "2023-11-06T02:39:01.755734Z"
    },
    "papermill": {
     "duration": 1.816302,
     "end_time": "2023-11-06T02:39:01.761199",
     "exception": false,
     "start_time": "2023-11-06T02:38:59.944897",
     "status": "completed"
    },
    "tags": []
   },
   "outputs": [
    {
     "name": "stdout",
     "output_type": "stream",
     "text": [
      "Keys: Index(['age', 'sex', 'bmi', 'bp', 's1', 's2', 's3', 's4', 's5', 's6',\n",
      "       'target'],\n",
      "      dtype='object')\n",
      "\n",
      "Number of Rows: 442\n",
      "Number of Columns: 11\n",
      "\n",
      "Feature Names: Index(['age', 'sex', 'bmi', 'bp', 's1', 's2', 's3', 's4', 's5', 's6',\n",
      "       'target'],\n",
      "      dtype='object')\n",
      "\n",
      "Description:                 age           sex           bmi            bp            s1  \\\n",
      "count  4.420000e+02  4.420000e+02  4.420000e+02  4.420000e+02  4.420000e+02   \n",
      "mean  -2.511817e-19  1.230790e-17 -2.245564e-16 -4.797570e-17 -1.381499e-17   \n",
      "std    4.761905e-02  4.761905e-02  4.761905e-02  4.761905e-02  4.761905e-02   \n",
      "min   -1.072256e-01 -4.464164e-02 -9.027530e-02 -1.123988e-01 -1.267807e-01   \n",
      "25%   -3.729927e-02 -4.464164e-02 -3.422907e-02 -3.665608e-02 -3.424784e-02   \n",
      "50%    5.383060e-03 -4.464164e-02 -7.283766e-03 -5.670422e-03 -4.320866e-03   \n",
      "75%    3.807591e-02  5.068012e-02  3.124802e-02  3.564379e-02  2.835801e-02   \n",
      "max    1.107267e-01  5.068012e-02  1.705552e-01  1.320436e-01  1.539137e-01   \n",
      "\n",
      "                 s2            s3            s4            s5            s6  \\\n",
      "count  4.420000e+02  4.420000e+02  4.420000e+02  4.420000e+02  4.420000e+02   \n",
      "mean   3.918434e-17 -5.777179e-18 -9.042540e-18  9.293722e-17  1.130318e-17   \n",
      "std    4.761905e-02  4.761905e-02  4.761905e-02  4.761905e-02  4.761905e-02   \n",
      "min   -1.156131e-01 -1.023071e-01 -7.639450e-02 -1.260971e-01 -1.377672e-01   \n",
      "25%   -3.035840e-02 -3.511716e-02 -3.949338e-02 -3.324559e-02 -3.317903e-02   \n",
      "50%   -3.819065e-03 -6.584468e-03 -2.592262e-03 -1.947171e-03 -1.077698e-03   \n",
      "75%    2.984439e-02  2.931150e-02  3.430886e-02  3.243232e-02  2.791705e-02   \n",
      "max    1.987880e-01  1.811791e-01  1.852344e-01  1.335973e-01  1.356118e-01   \n",
      "\n",
      "           target  \n",
      "count  442.000000  \n",
      "mean   152.133484  \n",
      "std     77.093005  \n",
      "min     25.000000  \n",
      "25%     87.000000  \n",
      "50%    140.500000  \n",
      "75%    211.500000  \n",
      "max    346.000000  \n"
     ]
    }
   ],
   "source": [
    "from sklearn.datasets import load_diabetes\n",
    "\n",
    "# Load the diabetes dataset\n",
    "diabetes = load_diabetes(as_frame=True)\n",
    "df=diabetes.frame\n",
    "\n",
    "key = df.keys()\n",
    "print(\"Keys:\",key)\n",
    "\n",
    "# Number of rows and columns\n",
    "num_rows, num_columns = df.shape\n",
    "print(\"\\nNumber of Rows:\", num_rows)\n",
    "print(\"Number of Columns:\", num_columns)\n",
    "\n",
    "# Feature names\n",
    "feature_names = df.columns\n",
    "print(\"\\nFeature Names:\",feature_names)\n",
    "\n",
    "# Description of the dataset\n",
    "description = df.describe()\n",
    "print(\"\\nDescription:\",description)\n",
    "\n"
   ]
  },
  {
   "cell_type": "code",
   "execution_count": null,
   "id": "3f0e82e0",
   "metadata": {
    "papermill": {
     "duration": 0.001569,
     "end_time": "2023-11-06T02:39:01.764994",
     "exception": false,
     "start_time": "2023-11-06T02:39:01.763425",
     "status": "completed"
    },
    "tags": []
   },
   "outputs": [],
   "source": []
  }
 ],
 "metadata": {
  "kernelspec": {
   "display_name": "Python 3",
   "language": "python",
   "name": "python3"
  },
  "language_info": {
   "codemirror_mode": {
    "name": "ipython",
    "version": 3
   },
   "file_extension": ".py",
   "mimetype": "text/x-python",
   "name": "python",
   "nbconvert_exporter": "python",
   "pygments_lexer": "ipython3",
   "version": "3.10.12"
  },
  "papermill": {
   "default_parameters": {},
   "duration": 5.952364,
   "end_time": "2023-11-06T02:39:02.387918",
   "environment_variables": {},
   "exception": null,
   "input_path": "__notebook__.ipynb",
   "output_path": "__notebook__.ipynb",
   "parameters": {},
   "start_time": "2023-11-06T02:38:56.435554",
   "version": "2.4.0"
  }
 },
 "nbformat": 4,
 "nbformat_minor": 5
}
