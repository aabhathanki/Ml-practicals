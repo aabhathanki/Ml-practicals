{
 "cells": [
  {
   "cell_type": "code",
   "execution_count": 1,
   "metadata": {
    "execution": {
     "iopub.execute_input": "2023-12-18T14:16:57.818218Z",
     "iopub.status.busy": "2023-12-18T14:16:57.817503Z",
     "iopub.status.idle": "2023-12-18T14:17:03.513858Z",
     "shell.execute_reply": "2023-12-18T14:17:03.512815Z",
     "shell.execute_reply.started": "2023-12-18T13:41:01.413351Z"
    },
    "papermill": {
     "duration": 5.710489,
     "end_time": "2023-12-18T14:17:03.514135",
     "exception": false,
     "start_time": "2023-12-18T14:16:57.803646",
     "status": "completed"
    },
    "tags": []
   },
   "outputs": [],
   "source": [
    "from keras.optimizers import Adam\n",
    "import os\n",
    "import cv2\n",
    "import numpy as np\n",
    "from random import shuffle\n",
    "from keras.models import Sequential\n",
    "from keras.layers import Conv2D, MaxPooling2D, Dropout, Flatten, Dense\n",
    "from keras.utils import to_categorical\n",
    "from sklearn.model_selection import train_test_split\n",
    "import matplotlib.pyplot as plt"
   ]
  },
  {
   "cell_type": "code",
   "execution_count": 2,
   "metadata": {
    "execution": {
     "iopub.execute_input": "2023-12-18T14:17:03.535307Z",
     "iopub.status.busy": "2023-12-18T14:17:03.534704Z",
     "iopub.status.idle": "2023-12-18T14:20:19.014407Z",
     "shell.execute_reply": "2023-12-18T14:20:19.013778Z",
     "shell.execute_reply.started": "2023-12-18T13:41:01.421388Z"
    },
    "papermill": {
     "duration": 195.493719,
     "end_time": "2023-12-18T14:20:19.014580",
     "exception": false,
     "start_time": "2023-12-18T14:17:03.520861",
     "status": "completed"
    },
    "tags": []
   },
   "outputs": [],
   "source": [
    "# Load and preprocess data\n",
    "directory = '/kaggle/input/utkface-new/UTKFace/'\n",
    "\n",
    "# List all files in the directory\n",
    "onlyfiles = [os.path.join(directory, f) for f in os.listdir(directory) if os.path.isfile(os.path.join(directory, f))]\n",
    "\n",
    "# Shuffle the list of files\n",
    "np.random.shuffle(onlyfiles)\n",
    "\n",
    "# Initialize empty arrays for features and labels\n",
    "X = []\n",
    "gender = []\n",
    "\n",
    "# Read images and labels\n",
    "for file in onlyfiles:\n",
    "    img = cv2.resize(cv2.imread(file), (128, 128))\n",
    "    label = int(os.path.basename(file).split('_')[1])\n",
    "    \n",
    "    X.append(img)\n",
    "    gender.append(label)\n",
    "\n",
    "# Convert to numpy arrays\n",
    "X = np.array(X).astype('float32') / 255.0\n",
    "gender = to_categorical(gender, num_classes=2)"
   ]
  },
  {
   "cell_type": "code",
   "execution_count": 3,
   "metadata": {
    "execution": {
     "iopub.execute_input": "2023-12-18T14:20:19.034853Z",
     "iopub.status.busy": "2023-12-18T14:20:19.034231Z",
     "iopub.status.idle": "2023-12-18T14:20:20.649346Z",
     "shell.execute_reply": "2023-12-18T14:20:20.648734Z",
     "shell.execute_reply.started": "2023-12-18T13:42:05.517432Z"
    },
    "papermill": {
     "duration": 1.628277,
     "end_time": "2023-12-18T14:20:20.649491",
     "exception": false,
     "start_time": "2023-12-18T14:20:19.021214",
     "status": "completed"
    },
    "tags": []
   },
   "outputs": [],
   "source": [
    "# Split data into train, test, and validation sets\n",
    "x_train, x_test, y_train, y_test = train_test_split(X, gender, test_size=0.2, random_state=42)\n",
    "x_valid, x_test, y_valid, y_test = train_test_split(x_test, y_test, test_size=0.5, random_state=42)"
   ]
  },
  {
   "cell_type": "code",
   "execution_count": 4,
   "metadata": {
    "execution": {
     "iopub.execute_input": "2023-12-18T14:20:20.673088Z",
     "iopub.status.busy": "2023-12-18T14:20:20.672309Z",
     "iopub.status.idle": "2023-12-18T14:20:23.011442Z",
     "shell.execute_reply": "2023-12-18T14:20:23.010769Z",
     "shell.execute_reply.started": "2023-12-18T13:42:07.085179Z"
    },
    "papermill": {
     "duration": 2.354034,
     "end_time": "2023-12-18T14:20:23.011583",
     "exception": false,
     "start_time": "2023-12-18T14:20:20.657549",
     "status": "completed"
    },
    "tags": []
   },
   "outputs": [],
   "source": [
    "# Build the model\n",
    "model = Sequential([\n",
    "    Conv2D(64, kernel_size=2, padding='same', activation='relu', input_shape=(128, 128, 3)),\n",
    "    MaxPooling2D(pool_size=2),\n",
    "    Dropout(0.3),\n",
    "    Conv2D(32, kernel_size=2, padding='same', activation='relu'),\n",
    "    MaxPooling2D(pool_size=2),\n",
    "    Dropout(0.3),\n",
    "    Flatten(),\n",
    "    Dense(256, activation='relu'),\n",
    "    Dropout(0.5),\n",
    "    Dense(2, activation='sigmoid')\n",
    "])"
   ]
  },
  {
   "cell_type": "code",
   "execution_count": 5,
   "metadata": {
    "execution": {
     "iopub.execute_input": "2023-12-18T14:20:23.034863Z",
     "iopub.status.busy": "2023-12-18T14:20:23.034277Z",
     "iopub.status.idle": "2023-12-18T14:24:40.594122Z",
     "shell.execute_reply": "2023-12-18T14:24:40.593428Z",
     "shell.execute_reply.started": "2023-12-18T13:42:07.145078Z"
    },
    "papermill": {
     "duration": 257.576621,
     "end_time": "2023-12-18T14:24:40.594292",
     "exception": false,
     "start_time": "2023-12-18T14:20:23.017671",
     "status": "completed"
    },
    "tags": []
   },
   "outputs": [
    {
     "name": "stdout",
     "output_type": "stream",
     "text": [
      "Epoch 1/35\n",
      "297/297 [==============================] - 12s 28ms/step - loss: 0.7257 - accuracy: 0.6518 - val_loss: 0.4373 - val_accuracy: 0.8254\n",
      "Epoch 2/35\n",
      "297/297 [==============================] - 7s 24ms/step - loss: 0.4000 - accuracy: 0.8223 - val_loss: 0.3377 - val_accuracy: 0.8397\n",
      "Epoch 3/35\n",
      "297/297 [==============================] - 7s 24ms/step - loss: 0.3562 - accuracy: 0.8402 - val_loss: 0.3052 - val_accuracy: 0.8558\n",
      "Epoch 4/35\n",
      "297/297 [==============================] - 7s 24ms/step - loss: 0.3368 - accuracy: 0.8428 - val_loss: 0.3018 - val_accuracy: 0.8646\n",
      "Epoch 5/35\n",
      "297/297 [==============================] - 7s 24ms/step - loss: 0.3210 - accuracy: 0.8563 - val_loss: 0.2952 - val_accuracy: 0.8671\n",
      "Epoch 6/35\n",
      "297/297 [==============================] - 7s 24ms/step - loss: 0.3072 - accuracy: 0.8625 - val_loss: 0.2801 - val_accuracy: 0.8659\n",
      "Epoch 7/35\n",
      "297/297 [==============================] - 7s 24ms/step - loss: 0.3036 - accuracy: 0.8676 - val_loss: 0.2715 - val_accuracy: 0.8701\n",
      "Epoch 8/35\n",
      "297/297 [==============================] - 7s 24ms/step - loss: 0.2881 - accuracy: 0.8732 - val_loss: 0.2749 - val_accuracy: 0.8790\n",
      "Epoch 9/35\n",
      "297/297 [==============================] - 7s 24ms/step - loss: 0.2773 - accuracy: 0.8799 - val_loss: 0.2636 - val_accuracy: 0.8827\n",
      "Epoch 10/35\n",
      "297/297 [==============================] - 7s 24ms/step - loss: 0.2720 - accuracy: 0.8783 - val_loss: 0.2563 - val_accuracy: 0.8815\n",
      "Epoch 11/35\n",
      "297/297 [==============================] - 7s 24ms/step - loss: 0.2615 - accuracy: 0.8868 - val_loss: 0.2668 - val_accuracy: 0.8790\n",
      "Epoch 12/35\n",
      "297/297 [==============================] - 7s 24ms/step - loss: 0.2486 - accuracy: 0.8952 - val_loss: 0.2456 - val_accuracy: 0.8908\n",
      "Epoch 13/35\n",
      "297/297 [==============================] - 7s 24ms/step - loss: 0.2419 - accuracy: 0.8959 - val_loss: 0.2492 - val_accuracy: 0.8840\n",
      "Epoch 14/35\n",
      "297/297 [==============================] - 7s 24ms/step - loss: 0.2283 - accuracy: 0.9025 - val_loss: 0.2598 - val_accuracy: 0.8857\n",
      "Epoch 15/35\n",
      "297/297 [==============================] - 7s 24ms/step - loss: 0.2193 - accuracy: 0.9071 - val_loss: 0.2494 - val_accuracy: 0.8882\n",
      "Epoch 16/35\n",
      "297/297 [==============================] - 7s 24ms/step - loss: 0.2137 - accuracy: 0.9081 - val_loss: 0.2513 - val_accuracy: 0.8895\n",
      "Epoch 17/35\n",
      "297/297 [==============================] - 7s 24ms/step - loss: 0.1951 - accuracy: 0.9208 - val_loss: 0.2434 - val_accuracy: 0.9034\n",
      "Epoch 18/35\n",
      "297/297 [==============================] - 7s 24ms/step - loss: 0.1851 - accuracy: 0.9202 - val_loss: 0.2485 - val_accuracy: 0.8996\n",
      "Epoch 19/35\n",
      "297/297 [==============================] - 7s 24ms/step - loss: 0.1777 - accuracy: 0.9266 - val_loss: 0.2434 - val_accuracy: 0.8971\n",
      "Epoch 20/35\n",
      "297/297 [==============================] - 7s 24ms/step - loss: 0.1685 - accuracy: 0.9299 - val_loss: 0.2585 - val_accuracy: 0.9022\n",
      "Epoch 21/35\n",
      "297/297 [==============================] - 7s 24ms/step - loss: 0.1614 - accuracy: 0.9368 - val_loss: 0.2528 - val_accuracy: 0.8962\n",
      "Epoch 22/35\n",
      "297/297 [==============================] - 7s 24ms/step - loss: 0.1567 - accuracy: 0.9351 - val_loss: 0.2639 - val_accuracy: 0.8992\n",
      "Epoch 23/35\n",
      "297/297 [==============================] - 7s 24ms/step - loss: 0.1533 - accuracy: 0.9348 - val_loss: 0.2575 - val_accuracy: 0.8954\n",
      "Epoch 24/35\n",
      "297/297 [==============================] - 7s 24ms/step - loss: 0.1472 - accuracy: 0.9387 - val_loss: 0.2580 - val_accuracy: 0.9005\n",
      "Epoch 25/35\n",
      "297/297 [==============================] - 7s 24ms/step - loss: 0.1401 - accuracy: 0.9427 - val_loss: 0.2695 - val_accuracy: 0.8954\n",
      "Epoch 26/35\n",
      "297/297 [==============================] - 7s 24ms/step - loss: 0.1249 - accuracy: 0.9466 - val_loss: 0.2873 - val_accuracy: 0.9000\n",
      "Epoch 27/35\n",
      "297/297 [==============================] - 7s 24ms/step - loss: 0.1275 - accuracy: 0.9475 - val_loss: 0.2728 - val_accuracy: 0.9022\n",
      "Epoch 28/35\n",
      "297/297 [==============================] - 7s 24ms/step - loss: 0.1363 - accuracy: 0.9465 - val_loss: 0.2765 - val_accuracy: 0.9030\n",
      "Epoch 29/35\n",
      "297/297 [==============================] - 7s 24ms/step - loss: 0.1117 - accuracy: 0.9560 - val_loss: 0.2911 - val_accuracy: 0.9000\n",
      "Epoch 30/35\n",
      "297/297 [==============================] - 7s 24ms/step - loss: 0.1166 - accuracy: 0.9513 - val_loss: 0.3042 - val_accuracy: 0.8950\n",
      "Epoch 31/35\n",
      "297/297 [==============================] - 7s 24ms/step - loss: 0.1093 - accuracy: 0.9571 - val_loss: 0.3031 - val_accuracy: 0.8950\n",
      "Epoch 32/35\n",
      "297/297 [==============================] - 7s 24ms/step - loss: 0.1082 - accuracy: 0.9559 - val_loss: 0.3217 - val_accuracy: 0.9017\n",
      "Epoch 33/35\n",
      "297/297 [==============================] - 7s 24ms/step - loss: 0.0978 - accuracy: 0.9607 - val_loss: 0.3311 - val_accuracy: 0.8920\n",
      "Epoch 34/35\n",
      "297/297 [==============================] - 7s 24ms/step - loss: 0.1086 - accuracy: 0.9533 - val_loss: 0.3211 - val_accuracy: 0.9000\n",
      "Epoch 35/35\n",
      "297/297 [==============================] - 7s 24ms/step - loss: 0.0973 - accuracy: 0.9580 - val_loss: 0.3182 - val_accuracy: 0.8979\n"
     ]
    }
   ],
   "source": [
    "# Compile the model\n",
    "model.compile(loss='binary_crossentropy', optimizer=Adam(), metrics=['accuracy'])\n",
    "\n",
    "# Train the model\n",
    "history = model.fit(x_train, y_train, batch_size=64, epochs=35, validation_data=(x_valid, y_valid))"
   ]
  },
  {
   "cell_type": "code",
   "execution_count": 6,
   "metadata": {
    "execution": {
     "iopub.execute_input": "2023-12-18T14:24:43.013672Z",
     "iopub.status.busy": "2023-12-18T14:24:43.013066Z",
     "iopub.status.idle": "2023-12-18T14:24:43.880391Z",
     "shell.execute_reply": "2023-12-18T14:24:43.879747Z",
     "shell.execute_reply.started": "2023-12-18T13:46:21.740755Z"
    },
    "papermill": {
     "duration": 2.043313,
     "end_time": "2023-12-18T14:24:43.880539",
     "exception": false,
     "start_time": "2023-12-18T14:24:41.837226",
     "status": "completed"
    },
    "tags": []
   },
   "outputs": [
    {
     "data": {
      "image/png": "[encoded data removed]",
      "text/plain": [
       "<Figure size 864x288 with 2 Axes>"
      ]
     },
     "metadata": {
      "needs_background": "light"
     },
     "output_type": "display_data"
    }
   ],
   "source": [
    "# Visualize the training and validation accuracy and loss\n",
    "plt.figure(figsize=(12, 4))\n",
    "\n",
    "# Plot training & validation accuracy values\n",
    "plt.subplot(1, 2, 1)\n",
    "plt.plot(history.history['accuracy'])\n",
    "plt.plot(history.history['val_accuracy'])\n",
    "plt.title('Model Accuracy')\n",
    "plt.xlabel('Epoch')\n",
    "plt.ylabel('Accuracy')\n",
    "plt.legend(['Train', 'Validation'], loc='upper left')\n",
    "\n",
    "# Plot training & validation loss values\n",
    "plt.subplot(1, 2, 2)\n",
    "plt.plot(history.history['loss'])\n",
    "plt.plot(history.history['val_loss'])\n",
    "plt.title('Model Loss')\n",
    "plt.xlabel('Epoch')\n",
    "plt.ylabel('Loss')\n",
    "plt.legend(['Train', 'Validation'], loc='upper left')\n",
    "\n",
    "# Save the plots\n",
    "plt.savefig('training_visualization.png')\n",
    "\n",
    "# Show the plots\n",
    "plt.show()"
   ]
  }
 ],
 "metadata": {
  "kaggle": {
   "accelerator": "gpu",
   "dataSources": [
    {
     "datasetId": 44109,
     "sourceId": 78156,
     "sourceType": "datasetVersion"
    }
   ],
   "dockerImageVersionId": 30061,
   "isGpuEnabled": true,
   "isInternetEnabled": true,
   "language": "python",
   "sourceType": "notebook"
  },
  "kernelspec": {
   "display_name": "Python 3",
   "language": "python",
   "name": "python3"
  },
  "language_info": {
   "codemirror_mode": {
    "name": "ipython",
    "version": 3
   },
   "file_extension": ".py",
   "mimetype": "text/x-python",
   "name": "python",
   "nbconvert_exporter": "python",
   "pygments_lexer": "ipython3",
   "version": "3.7.9"
  },
  "papermill": {
   "default_parameters": {},
   "duration": 474.503037,
   "end_time": "2023-12-18T14:24:46.953600",
   "environment_variables": {},
   "exception": null,
   "input_path": "__notebook__.ipynb",
   "output_path": "__notebook__.ipynb",
   "parameters": {},
   "start_time": "2023-12-18T14:16:52.450563",
   "version": "2.2.2"
  }
 },
 "nbformat": 4,
 "nbformat_minor": 4
}
