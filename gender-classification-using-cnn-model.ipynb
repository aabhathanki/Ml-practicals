{
 "cells": [
  {
   "cell_type": "code",
   "execution_count": 1,
   "metadata": {
    "execution": {
     "iopub.execute_input": "2023-12-18T14:24:40.587768Z",
     "iopub.status.busy": "2023-12-18T14:24:40.586834Z",
     "iopub.status.idle": "2023-12-18T14:24:46.285091Z",
     "shell.execute_reply": "2023-12-18T14:24:46.284357Z",
     "shell.execute_reply.started": "2023-12-18T13:41:01.413351Z"
    },
    "papermill": {
     "duration": 5.713468,
     "end_time": "2023-12-18T14:24:46.285322",
     "exception": false,
     "start_time": "2023-12-18T14:24:40.571854",
     "status": "completed"
    },
    "tags": []
   },
   "outputs": [],
   "source": [
    "from keras.optimizers import Adam\n",
    "import os\n",
    "import cv2\n",
    "import numpy as np\n",
    "from random import shuffle\n",
    "from keras.models import Sequential\n",
    "from keras.layers import Conv2D, MaxPooling2D, Dropout, Flatten, Dense\n",
    "from keras.utils import to_categorical\n",
    "from sklearn.model_selection import train_test_split\n",
    "import matplotlib.pyplot as plt"
   ]
  },
  {
   "cell_type": "code",
   "execution_count": 2,
   "metadata": {
    "execution": {
     "iopub.execute_input": "2023-12-18T14:24:46.305932Z",
     "iopub.status.busy": "2023-12-18T14:24:46.305298Z",
     "iopub.status.idle": "2023-12-18T14:26:50.136577Z",
     "shell.execute_reply": "2023-12-18T14:26:50.136000Z",
     "shell.execute_reply.started": "2023-12-18T13:41:01.421388Z"
    },
    "papermill": {
     "duration": 123.844984,
     "end_time": "2023-12-18T14:26:50.136741",
     "exception": false,
     "start_time": "2023-12-18T14:24:46.291757",
     "status": "completed"
    },
    "tags": []
   },
   "outputs": [],
   "source": [
    "# Load and preprocess data\n",
    "directory = '/kaggle/input/utkface-new/UTKFace/'\n",
    "\n",
    "# List all files in the directory\n",
    "onlyfiles = [os.path.join(directory, f) for f in os.listdir(directory) if os.path.isfile(os.path.join(directory, f))]\n",
    "\n",
    "# Shuffle the list of files\n",
    "np.random.shuffle(onlyfiles)\n",
    "\n",
    "# Initialize empty arrays for features and labels\n",
    "X = []\n",
    "gender = []\n",
    "\n",
    "# Read images and labels\n",
    "for file in onlyfiles:\n",
    "    img = cv2.resize(cv2.imread(file), (128, 128))\n",
    "    label = int(os.path.basename(file).split('_')[1])\n",
    "    \n",
    "    X.append(img)\n",
    "    gender.append(label)\n",
    "\n",
    "# Convert to numpy arrays\n",
    "X = np.array(X).astype('float32') / 255.0\n",
    "gender = to_categorical(gender, num_classes=2)"
   ]
  },
  {
   "cell_type": "code",
   "execution_count": 3,
   "metadata": {
    "execution": {
     "iopub.execute_input": "2023-12-18T14:26:50.157235Z",
     "iopub.status.busy": "2023-12-18T14:26:50.155926Z",
     "iopub.status.idle": "2023-12-18T14:26:51.730823Z",
     "shell.execute_reply": "2023-12-18T14:26:51.730255Z",
     "shell.execute_reply.started": "2023-12-18T13:42:05.517432Z"
    },
    "papermill": {
     "duration": 1.587863,
     "end_time": "2023-12-18T14:26:51.730963",
     "exception": false,
     "start_time": "2023-12-18T14:26:50.143100",
     "status": "completed"
    },
    "tags": []
   },
   "outputs": [],
   "source": [
    "# Split data into train, test, and validation sets\n",
    "x_train, x_test, y_train, y_test = train_test_split(X, gender, test_size=0.2, random_state=42)\n",
    "x_valid, x_test, y_valid, y_test = train_test_split(x_test, y_test, test_size=0.5, random_state=42)"
   ]
  },
  {
   "cell_type": "code",
   "execution_count": 4,
   "metadata": {
    "execution": {
     "iopub.execute_input": "2023-12-18T14:26:51.749542Z",
     "iopub.status.busy": "2023-12-18T14:26:51.748876Z",
     "iopub.status.idle": "2023-12-18T14:26:54.088246Z",
     "shell.execute_reply": "2023-12-18T14:26:54.087708Z",
     "shell.execute_reply.started": "2023-12-18T13:42:07.085179Z"
    },
    "papermill": {
     "duration": 2.351442,
     "end_time": "2023-12-18T14:26:54.088396",
     "exception": false,
     "start_time": "2023-12-18T14:26:51.736954",
     "status": "completed"
    },
    "tags": []
   },
   "outputs": [],
   "source": [
    "# Build the model\n",
    "model = Sequential([\n",
    "    Conv2D(64, kernel_size=2, padding='same', activation='relu', input_shape=(128, 128, 3)),\n",
    "    MaxPooling2D(pool_size=2),\n",
    "    Dropout(0.3),\n",
    "    Conv2D(32, kernel_size=2, padding='same', activation='relu'),\n",
    "    MaxPooling2D(pool_size=2),\n",
    "    Dropout(0.3),\n",
    "    Flatten(),\n",
    "    Dense(256, activation='relu'),\n",
    "    Dropout(0.5),\n",
    "    Dense(2, activation='sigmoid')\n",
    "])"
   ]
  },
  {
   "cell_type": "code",
   "execution_count": 5,
   "metadata": {
    "execution": {
     "iopub.execute_input": "2023-12-18T14:26:54.110759Z",
     "iopub.status.busy": "2023-12-18T14:26:54.110187Z",
     "iopub.status.idle": "2023-12-18T14:31:10.082518Z",
     "shell.execute_reply": "2023-12-18T14:31:10.081820Z",
     "shell.execute_reply.started": "2023-12-18T13:42:07.145078Z"
    },
    "papermill": {
     "duration": 255.98822,
     "end_time": "2023-12-18T14:31:10.082677",
     "exception": false,
     "start_time": "2023-12-18T14:26:54.094457",
     "status": "completed"
    },
    "tags": []
   },
   "outputs": [
    {
     "name": "stdout",
     "output_type": "stream",
     "text": [
      "Epoch 1/35\n",
      "297/297 [==============================] - 12s 28ms/step - loss: 0.6601 - accuracy: 0.6605 - val_loss: 0.4208 - val_accuracy: 0.8216\n",
      "Epoch 2/35\n",
      "297/297 [==============================] - 7s 24ms/step - loss: 0.3861 - accuracy: 0.8292 - val_loss: 0.3572 - val_accuracy: 0.8465\n",
      "Epoch 3/35\n",
      "297/297 [==============================] - 7s 24ms/step - loss: 0.3405 - accuracy: 0.8490 - val_loss: 0.3148 - val_accuracy: 0.8604\n",
      "Epoch 4/35\n",
      "297/297 [==============================] - 7s 24ms/step - loss: 0.3172 - accuracy: 0.8619 - val_loss: 0.3029 - val_accuracy: 0.8667\n",
      "Epoch 5/35\n",
      "297/297 [==============================] - 7s 24ms/step - loss: 0.2949 - accuracy: 0.8686 - val_loss: 0.3017 - val_accuracy: 0.8663\n",
      "Epoch 6/35\n",
      "297/297 [==============================] - 7s 24ms/step - loss: 0.2863 - accuracy: 0.8748 - val_loss: 0.2793 - val_accuracy: 0.8747\n",
      "Epoch 7/35\n",
      "297/297 [==============================] - 7s 24ms/step - loss: 0.2583 - accuracy: 0.8854 - val_loss: 0.2790 - val_accuracy: 0.8730\n",
      "Epoch 8/35\n",
      "297/297 [==============================] - 7s 24ms/step - loss: 0.2512 - accuracy: 0.8919 - val_loss: 0.2701 - val_accuracy: 0.8878\n",
      "Epoch 9/35\n",
      "297/297 [==============================] - 7s 24ms/step - loss: 0.2360 - accuracy: 0.9006 - val_loss: 0.2656 - val_accuracy: 0.8832\n",
      "Epoch 10/35\n",
      "297/297 [==============================] - 7s 24ms/step - loss: 0.2364 - accuracy: 0.8994 - val_loss: 0.2590 - val_accuracy: 0.8840\n",
      "Epoch 11/35\n",
      "297/297 [==============================] - 7s 24ms/step - loss: 0.2153 - accuracy: 0.9096 - val_loss: 0.2581 - val_accuracy: 0.8844\n",
      "Epoch 12/35\n",
      "297/297 [==============================] - 7s 24ms/step - loss: 0.2106 - accuracy: 0.9146 - val_loss: 0.2642 - val_accuracy: 0.8853\n",
      "Epoch 13/35\n",
      "297/297 [==============================] - 7s 24ms/step - loss: 0.1940 - accuracy: 0.9202 - val_loss: 0.2658 - val_accuracy: 0.8895\n",
      "Epoch 14/35\n",
      "297/297 [==============================] - 7s 24ms/step - loss: 0.1859 - accuracy: 0.9235 - val_loss: 0.2775 - val_accuracy: 0.8802\n",
      "Epoch 15/35\n",
      "297/297 [==============================] - 7s 24ms/step - loss: 0.1678 - accuracy: 0.9307 - val_loss: 0.2737 - val_accuracy: 0.8933\n",
      "Epoch 16/35\n",
      "297/297 [==============================] - 7s 24ms/step - loss: 0.1599 - accuracy: 0.9356 - val_loss: 0.2635 - val_accuracy: 0.8925\n",
      "Epoch 17/35\n",
      "297/297 [==============================] - 7s 24ms/step - loss: 0.1529 - accuracy: 0.9384 - val_loss: 0.2930 - val_accuracy: 0.8865\n",
      "Epoch 18/35\n",
      "297/297 [==============================] - 7s 24ms/step - loss: 0.1408 - accuracy: 0.9457 - val_loss: 0.2678 - val_accuracy: 0.8967\n",
      "Epoch 19/35\n",
      "297/297 [==============================] - 7s 24ms/step - loss: 0.1382 - accuracy: 0.9411 - val_loss: 0.3024 - val_accuracy: 0.8895\n",
      "Epoch 20/35\n",
      "297/297 [==============================] - 7s 24ms/step - loss: 0.1234 - accuracy: 0.9525 - val_loss: 0.2815 - val_accuracy: 0.8967\n",
      "Epoch 21/35\n",
      "297/297 [==============================] - 7s 24ms/step - loss: 0.1221 - accuracy: 0.9501 - val_loss: 0.2983 - val_accuracy: 0.8861\n",
      "Epoch 22/35\n",
      "297/297 [==============================] - 7s 24ms/step - loss: 0.1122 - accuracy: 0.9536 - val_loss: 0.3042 - val_accuracy: 0.8912\n",
      "Epoch 23/35\n",
      "297/297 [==============================] - 7s 24ms/step - loss: 0.1070 - accuracy: 0.9567 - val_loss: 0.3043 - val_accuracy: 0.8988\n",
      "Epoch 24/35\n",
      "297/297 [==============================] - 7s 24ms/step - loss: 0.0998 - accuracy: 0.9580 - val_loss: 0.2903 - val_accuracy: 0.8971\n",
      "Epoch 25/35\n",
      "297/297 [==============================] - 7s 24ms/step - loss: 0.1046 - accuracy: 0.9577 - val_loss: 0.3446 - val_accuracy: 0.8937\n",
      "Epoch 26/35\n",
      "297/297 [==============================] - 7s 24ms/step - loss: 0.0914 - accuracy: 0.9623 - val_loss: 0.3236 - val_accuracy: 0.8916\n",
      "Epoch 27/35\n",
      "297/297 [==============================] - 7s 24ms/step - loss: 0.0961 - accuracy: 0.9596 - val_loss: 0.3345 - val_accuracy: 0.8971\n",
      "Epoch 28/35\n",
      "297/297 [==============================] - 7s 24ms/step - loss: 0.0867 - accuracy: 0.9657 - val_loss: 0.3279 - val_accuracy: 0.8946\n",
      "Epoch 29/35\n",
      "297/297 [==============================] - 7s 24ms/step - loss: 0.0920 - accuracy: 0.9656 - val_loss: 0.3314 - val_accuracy: 0.8979\n",
      "Epoch 30/35\n",
      "297/297 [==============================] - 7s 24ms/step - loss: 0.0946 - accuracy: 0.9624 - val_loss: 0.3600 - val_accuracy: 0.8937\n",
      "Epoch 31/35\n",
      "297/297 [==============================] - 7s 24ms/step - loss: 0.0867 - accuracy: 0.9659 - val_loss: 0.3412 - val_accuracy: 0.9009\n",
      "Epoch 32/35\n",
      "297/297 [==============================] - 7s 24ms/step - loss: 0.0779 - accuracy: 0.9689 - val_loss: 0.3728 - val_accuracy: 0.8979\n",
      "Epoch 33/35\n",
      "297/297 [==============================] - 7s 24ms/step - loss: 0.0816 - accuracy: 0.9674 - val_loss: 0.3576 - val_accuracy: 0.8962\n",
      "Epoch 34/35\n",
      "297/297 [==============================] - 7s 24ms/step - loss: 0.0721 - accuracy: 0.9703 - val_loss: 0.3243 - val_accuracy: 0.9009\n",
      "Epoch 35/35\n",
      "297/297 [==============================] - 7s 24ms/step - loss: 0.0730 - accuracy: 0.9719 - val_loss: 0.3388 - val_accuracy: 0.9064\n"
     ]
    }
   ],
   "source": [
    "# Compile the model\n",
    "model.compile(loss='binary_crossentropy', optimizer=Adam(), metrics=['accuracy'])\n",
    "\n",
    "# Train the model\n",
    "history = model.fit(x_train, y_train, batch_size=64, epochs=35, validation_data=(x_valid, y_valid))"
   ]
  },
  {
   "cell_type": "code",
   "execution_count": 6,
   "metadata": {
    "execution": {
     "iopub.execute_input": "2023-12-18T14:31:12.450875Z",
     "iopub.status.busy": "2023-12-18T14:31:12.450217Z",
     "iopub.status.idle": "2023-12-18T14:31:13.319294Z",
     "shell.execute_reply": "2023-12-18T14:31:13.319825Z",
     "shell.execute_reply.started": "2023-12-18T13:46:21.740755Z"
    },
    "papermill": {
     "duration": 2.036848,
     "end_time": "2023-12-18T14:31:13.320037",
     "exception": false,
     "start_time": "2023-12-18T14:31:11.283189",
     "status": "completed"
    },
    "tags": []
   },
   "outputs": [
    {
     "data": {
      "image/png": "[encoded data removed]",
      "text/plain": [
       "<Figure size 864x288 with 2 Axes>"
      ]
     },
     "metadata": {
      "needs_background": "light"
     },
     "output_type": "display_data"
    }
   ],
   "source": [
    "# Visualize the training and validation accuracy and loss\n",
    "plt.figure(figsize=(12, 4))\n",
    "\n",
    "# Plot training & validation accuracy values\n",
    "plt.subplot(1, 2, 1)\n",
    "plt.plot(history.history['accuracy'])\n",
    "plt.plot(history.history['val_accuracy'])\n",
    "plt.title('Model Accuracy')\n",
    "plt.xlabel('Epoch')\n",
    "plt.ylabel('Accuracy')\n",
    "plt.legend(['Train', 'Validation'], loc='upper left')\n",
    "\n",
    "# Plot training & validation loss values\n",
    "plt.subplot(1, 2, 2)\n",
    "plt.plot(history.history['loss'])\n",
    "plt.plot(history.history['val_loss'])\n",
    "plt.title('Model Loss')\n",
    "plt.xlabel('Epoch')\n",
    "plt.ylabel('Loss')\n",
    "plt.legend(['Train', 'Validation'], loc='upper left')\n",
    "\n",
    "# Save the plots\n",
    "plt.savefig('training_visualization.png')\n",
    "\n",
    "# Show the plots\n",
    "plt.show()"
   ]
  }
 ],
 "metadata": {
  "kaggle": {
   "accelerator": "gpu",
   "dataSources": [
    {
     "datasetId": 44109,
     "sourceId": 78156,
     "sourceType": "datasetVersion"
    }
   ],
   "dockerImageVersionId": 30061,
   "isGpuEnabled": true,
   "isInternetEnabled": true,
   "language": "python",
   "sourceType": "notebook"
  },
  "kernelspec": {
   "display_name": "Python 3",
   "language": "python",
   "name": "python3"
  },
  "language_info": {
   "codemirror_mode": {
    "name": "ipython",
    "version": 3
   },
   "file_extension": ".py",
   "mimetype": "text/x-python",
   "name": "python",
   "nbconvert_exporter": "python",
   "pygments_lexer": "ipython3",
   "version": "3.7.9"
  },
  "papermill": {
   "default_parameters": {},
   "duration": 400.64863,
   "end_time": "2023-12-18T14:31:16.020109",
   "environment_variables": {},
   "exception": null,
   "input_path": "__notebook__.ipynb",
   "output_path": "__notebook__.ipynb",
   "parameters": {},
   "start_time": "2023-12-18T14:24:35.371479",
   "version": "2.2.2"
  }
 },
 "nbformat": 4,
 "nbformat_minor": 4
}
