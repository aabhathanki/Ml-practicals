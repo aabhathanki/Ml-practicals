{
 "cells": [
  {
   "cell_type": "code",
   "execution_count": 1,
   "id": "aac516e9",
   "metadata": {
    "_cell_guid": "b1076dfc-b9ad-4769-8c92-a6c4dae69d19",
    "_uuid": "8f2839f25d086af736a60e9eeb907d3b93b6e0e5",
    "execution": {
     "iopub.execute_input": "2023-11-08T14:26:39.996900Z",
     "iopub.status.busy": "2023-11-08T14:26:39.996255Z",
     "iopub.status.idle": "2023-11-08T14:26:41.583270Z",
     "shell.execute_reply": "2023-11-08T14:26:41.582286Z"
    },
    "papermill": {
     "duration": 1.594605,
     "end_time": "2023-11-08T14:26:41.585496",
     "exception": false,
     "start_time": "2023-11-08T14:26:39.990891",
     "status": "completed"
    },
    "tags": []
   },
   "outputs": [],
   "source": [
    "import pandas as pd\n",
    "import numpy as np\n",
    "import matplotlib.pyplot as plt\n",
    "from sklearn.model_selection import train_test_split\n",
    "from sklearn.preprocessing import StandardScaler\n",
    "from sklearn.linear_model import LinearRegression\n",
    "from sklearn.metrics import mean_absolute_error, mean_squared_error, r2_score"
   ]
  },
  {
   "cell_type": "code",
   "execution_count": 2,
   "id": "1f05bca0",
   "metadata": {
    "execution": {
     "iopub.execute_input": "2023-11-08T14:26:41.595432Z",
     "iopub.status.busy": "2023-11-08T14:26:41.595001Z",
     "iopub.status.idle": "2023-11-08T14:26:41.622111Z",
     "shell.execute_reply": "2023-11-08T14:26:41.620959Z"
    },
    "papermill": {
     "duration": 0.033489,
     "end_time": "2023-11-08T14:26:41.624435",
     "exception": false,
     "start_time": "2023-11-08T14:26:41.590946",
     "status": "completed"
    },
    "tags": []
   },
   "outputs": [],
   "source": [
    "data=pd.read_csv('/kaggle/input/housing-dataset/Housing.csv')"
   ]
  },
  {
   "cell_type": "code",
   "execution_count": 3,
   "id": "43d694f4",
   "metadata": {
    "execution": {
     "iopub.execute_input": "2023-11-08T14:26:41.632608Z",
     "iopub.status.busy": "2023-11-08T14:26:41.632301Z",
     "iopub.status.idle": "2023-11-08T14:26:41.639930Z",
     "shell.execute_reply": "2023-11-08T14:26:41.639021Z"
    },
    "papermill": {
     "duration": 0.013745,
     "end_time": "2023-11-08T14:26:41.641699",
     "exception": false,
     "start_time": "2023-11-08T14:26:41.627954",
     "status": "completed"
    },
    "tags": []
   },
   "outputs": [
    {
     "data": {
      "text/plain": [
       "(545, 13)"
      ]
     },
     "execution_count": 3,
     "metadata": {},
     "output_type": "execute_result"
    }
   ],
   "source": [
    "data.shape"
   ]
  },
  {
   "cell_type": "code",
   "execution_count": 4,
   "id": "83202a4d",
   "metadata": {
    "execution": {
     "iopub.execute_input": "2023-11-08T14:26:41.650322Z",
     "iopub.status.busy": "2023-11-08T14:26:41.650006Z",
     "iopub.status.idle": "2023-11-08T14:26:41.657072Z",
     "shell.execute_reply": "2023-11-08T14:26:41.656295Z"
    },
    "papermill": {
     "duration": 0.013268,
     "end_time": "2023-11-08T14:26:41.658675",
     "exception": false,
     "start_time": "2023-11-08T14:26:41.645407",
     "status": "completed"
    },
    "tags": []
   },
   "outputs": [
    {
     "data": {
      "text/plain": [
       "Index(['price', 'area', 'bedrooms', 'bathrooms', 'stories', 'mainroad',\n",
       "       'guestroom', 'basement', 'hotwaterheating', 'airconditioning',\n",
       "       'parking', 'prefarea', 'furnishingstatus'],\n",
       "      dtype='object')"
      ]
     },
     "execution_count": 4,
     "metadata": {},
     "output_type": "execute_result"
    }
   ],
   "source": [
    "data.columns"
   ]
  },
  {
   "cell_type": "code",
   "execution_count": 5,
   "id": "4dbd0e9c",
   "metadata": {
    "execution": {
     "iopub.execute_input": "2023-11-08T14:26:41.667622Z",
     "iopub.status.busy": "2023-11-08T14:26:41.666762Z",
     "iopub.status.idle": "2023-11-08T14:26:41.700862Z",
     "shell.execute_reply": "2023-11-08T14:26:41.699955Z"
    },
    "papermill": {
     "duration": 0.040353,
     "end_time": "2023-11-08T14:26:41.702526",
     "exception": false,
     "start_time": "2023-11-08T14:26:41.662173",
     "status": "completed"
    },
    "tags": []
   },
   "outputs": [
    {
     "data": {
      "text/html": [
       "<div>\n",
       "<style scoped>\n",
       "    .dataframe tbody tr th:only-of-type {\n",
       "        vertical-align: middle;\n",
       "    }\n",
       "\n",
       "    .dataframe tbody tr th {\n",
       "        vertical-align: top;\n",
       "    }\n",
       "\n",
       "    .dataframe thead th {\n",
       "        text-align: right;\n",
       "    }\n",
       "</style>\n",
       "<table border=\"1\" class=\"dataframe\">\n",
       "  <thead>\n",
       "    <tr style=\"text-align: right;\">\n",
       "      <th></th>\n",
       "      <th>price</th>\n",
       "      <th>area</th>\n",
       "      <th>bedrooms</th>\n",
       "      <th>bathrooms</th>\n",
       "      <th>stories</th>\n",
       "      <th>parking</th>\n",
       "    </tr>\n",
       "  </thead>\n",
       "  <tbody>\n",
       "    <tr>\n",
       "      <th>count</th>\n",
       "      <td>5.450000e+02</td>\n",
       "      <td>545.000000</td>\n",
       "      <td>545.000000</td>\n",
       "      <td>545.000000</td>\n",
       "      <td>545.000000</td>\n",
       "      <td>545.000000</td>\n",
       "    </tr>\n",
       "    <tr>\n",
       "      <th>mean</th>\n",
       "      <td>4.766729e+06</td>\n",
       "      <td>5150.541284</td>\n",
       "      <td>2.965138</td>\n",
       "      <td>1.286239</td>\n",
       "      <td>1.805505</td>\n",
       "      <td>0.693578</td>\n",
       "    </tr>\n",
       "    <tr>\n",
       "      <th>std</th>\n",
       "      <td>1.870440e+06</td>\n",
       "      <td>2170.141023</td>\n",
       "      <td>0.738064</td>\n",
       "      <td>0.502470</td>\n",
       "      <td>0.867492</td>\n",
       "      <td>0.861586</td>\n",
       "    </tr>\n",
       "    <tr>\n",
       "      <th>min</th>\n",
       "      <td>1.750000e+06</td>\n",
       "      <td>1650.000000</td>\n",
       "      <td>1.000000</td>\n",
       "      <td>1.000000</td>\n",
       "      <td>1.000000</td>\n",
       "      <td>0.000000</td>\n",
       "    </tr>\n",
       "    <tr>\n",
       "      <th>25%</th>\n",
       "      <td>3.430000e+06</td>\n",
       "      <td>3600.000000</td>\n",
       "      <td>2.000000</td>\n",
       "      <td>1.000000</td>\n",
       "      <td>1.000000</td>\n",
       "      <td>0.000000</td>\n",
       "    </tr>\n",
       "    <tr>\n",
       "      <th>50%</th>\n",
       "      <td>4.340000e+06</td>\n",
       "      <td>4600.000000</td>\n",
       "      <td>3.000000</td>\n",
       "      <td>1.000000</td>\n",
       "      <td>2.000000</td>\n",
       "      <td>0.000000</td>\n",
       "    </tr>\n",
       "    <tr>\n",
       "      <th>75%</th>\n",
       "      <td>5.740000e+06</td>\n",
       "      <td>6360.000000</td>\n",
       "      <td>3.000000</td>\n",
       "      <td>2.000000</td>\n",
       "      <td>2.000000</td>\n",
       "      <td>1.000000</td>\n",
       "    </tr>\n",
       "    <tr>\n",
       "      <th>max</th>\n",
       "      <td>1.330000e+07</td>\n",
       "      <td>16200.000000</td>\n",
       "      <td>6.000000</td>\n",
       "      <td>4.000000</td>\n",
       "      <td>4.000000</td>\n",
       "      <td>3.000000</td>\n",
       "    </tr>\n",
       "  </tbody>\n",
       "</table>\n",
       "</div>"
      ],
      "text/plain": [
       "              price          area    bedrooms   bathrooms     stories  \\\n",
       "count  5.450000e+02    545.000000  545.000000  545.000000  545.000000   \n",
       "mean   4.766729e+06   5150.541284    2.965138    1.286239    1.805505   \n",
       "std    1.870440e+06   2170.141023    0.738064    0.502470    0.867492   \n",
       "min    1.750000e+06   1650.000000    1.000000    1.000000    1.000000   \n",
       "25%    3.430000e+06   3600.000000    2.000000    1.000000    1.000000   \n",
       "50%    4.340000e+06   4600.000000    3.000000    1.000000    2.000000   \n",
       "75%    5.740000e+06   6360.000000    3.000000    2.000000    2.000000   \n",
       "max    1.330000e+07  16200.000000    6.000000    4.000000    4.000000   \n",
       "\n",
       "          parking  \n",
       "count  545.000000  \n",
       "mean     0.693578  \n",
       "std      0.861586  \n",
       "min      0.000000  \n",
       "25%      0.000000  \n",
       "50%      0.000000  \n",
       "75%      1.000000  \n",
       "max      3.000000  "
      ]
     },
     "execution_count": 5,
     "metadata": {},
     "output_type": "execute_result"
    }
   ],
   "source": [
    "data.describe()"
   ]
  },
  {
   "cell_type": "code",
   "execution_count": 6,
   "id": "bbe39931",
   "metadata": {
    "execution": {
     "iopub.execute_input": "2023-11-08T14:26:41.711314Z",
     "iopub.status.busy": "2023-11-08T14:26:41.710986Z",
     "iopub.status.idle": "2023-11-08T14:26:41.738306Z",
     "shell.execute_reply": "2023-11-08T14:26:41.737618Z"
    },
    "papermill": {
     "duration": 0.035315,
     "end_time": "2023-11-08T14:26:41.741727",
     "exception": false,
     "start_time": "2023-11-08T14:26:41.706412",
     "status": "completed"
    },
    "tags": []
   },
   "outputs": [
    {
     "name": "stdout",
     "output_type": "stream",
     "text": [
      "<class 'pandas.core.frame.DataFrame'>\n",
      "RangeIndex: 545 entries, 0 to 544\n",
      "Data columns (total 13 columns):\n",
      " #   Column            Non-Null Count  Dtype \n",
      "---  ------            --------------  ----- \n",
      " 0   price             545 non-null    int64 \n",
      " 1   area              545 non-null    int64 \n",
      " 2   bedrooms          545 non-null    int64 \n",
      " 3   bathrooms         545 non-null    int64 \n",
      " 4   stories           545 non-null    int64 \n",
      " 5   mainroad          545 non-null    object\n",
      " 6   guestroom         545 non-null    object\n",
      " 7   basement          545 non-null    object\n",
      " 8   hotwaterheating   545 non-null    object\n",
      " 9   airconditioning   545 non-null    object\n",
      " 10  parking           545 non-null    int64 \n",
      " 11  prefarea          545 non-null    object\n",
      " 12  furnishingstatus  545 non-null    object\n",
      "dtypes: int64(6), object(7)\n",
      "memory usage: 55.5+ KB\n"
     ]
    }
   ],
   "source": [
    "data.info()"
   ]
  },
  {
   "cell_type": "code",
   "execution_count": 7,
   "id": "1ea00ab1",
   "metadata": {
    "execution": {
     "iopub.execute_input": "2023-11-08T14:26:41.753274Z",
     "iopub.status.busy": "2023-11-08T14:26:41.752185Z",
     "iopub.status.idle": "2023-11-08T14:26:41.855288Z",
     "shell.execute_reply": "2023-11-08T14:26:41.854353Z"
    },
    "papermill": {
     "duration": 0.111464,
     "end_time": "2023-11-08T14:26:41.857576",
     "exception": false,
     "start_time": "2023-11-08T14:26:41.746112",
     "status": "completed"
    },
    "tags": []
   },
   "outputs": [
    {
     "data": {
      "text/html": [
       "<div>\n",
       "<style scoped>\n",
       "    .dataframe tbody tr th:only-of-type {\n",
       "        vertical-align: middle;\n",
       "    }\n",
       "\n",
       "    .dataframe tbody tr th {\n",
       "        vertical-align: top;\n",
       "    }\n",
       "\n",
       "    .dataframe thead th {\n",
       "        text-align: right;\n",
       "    }\n",
       "</style>\n",
       "<table border=\"1\" class=\"dataframe\">\n",
       "  <thead>\n",
       "    <tr style=\"text-align: right;\">\n",
       "      <th></th>\n",
       "      <th>price</th>\n",
       "      <th>area</th>\n",
       "      <th>bedrooms</th>\n",
       "      <th>bathrooms</th>\n",
       "      <th>stories</th>\n",
       "      <th>mainroad</th>\n",
       "      <th>guestroom</th>\n",
       "      <th>basement</th>\n",
       "      <th>hotwaterheating</th>\n",
       "      <th>airconditioning</th>\n",
       "      <th>parking</th>\n",
       "      <th>prefarea</th>\n",
       "      <th>furnishingstatus</th>\n",
       "    </tr>\n",
       "  </thead>\n",
       "  <tbody>\n",
       "    <tr>\n",
       "      <th>0</th>\n",
       "      <td>13300000</td>\n",
       "      <td>7420</td>\n",
       "      <td>4</td>\n",
       "      <td>2</td>\n",
       "      <td>3</td>\n",
       "      <td>yes</td>\n",
       "      <td>no</td>\n",
       "      <td>no</td>\n",
       "      <td>no</td>\n",
       "      <td>yes</td>\n",
       "      <td>2</td>\n",
       "      <td>yes</td>\n",
       "      <td>furnished</td>\n",
       "    </tr>\n",
       "    <tr>\n",
       "      <th>1</th>\n",
       "      <td>12250000</td>\n",
       "      <td>8960</td>\n",
       "      <td>4</td>\n",
       "      <td>4</td>\n",
       "      <td>4</td>\n",
       "      <td>yes</td>\n",
       "      <td>no</td>\n",
       "      <td>no</td>\n",
       "      <td>no</td>\n",
       "      <td>yes</td>\n",
       "      <td>3</td>\n",
       "      <td>no</td>\n",
       "      <td>furnished</td>\n",
       "    </tr>\n",
       "    <tr>\n",
       "      <th>2</th>\n",
       "      <td>12250000</td>\n",
       "      <td>9960</td>\n",
       "      <td>3</td>\n",
       "      <td>2</td>\n",
       "      <td>2</td>\n",
       "      <td>yes</td>\n",
       "      <td>no</td>\n",
       "      <td>yes</td>\n",
       "      <td>no</td>\n",
       "      <td>no</td>\n",
       "      <td>2</td>\n",
       "      <td>yes</td>\n",
       "      <td>semi-furnished</td>\n",
       "    </tr>\n",
       "    <tr>\n",
       "      <th>3</th>\n",
       "      <td>12215000</td>\n",
       "      <td>7500</td>\n",
       "      <td>4</td>\n",
       "      <td>2</td>\n",
       "      <td>2</td>\n",
       "      <td>yes</td>\n",
       "      <td>no</td>\n",
       "      <td>yes</td>\n",
       "      <td>no</td>\n",
       "      <td>yes</td>\n",
       "      <td>3</td>\n",
       "      <td>yes</td>\n",
       "      <td>furnished</td>\n",
       "    </tr>\n",
       "    <tr>\n",
       "      <th>4</th>\n",
       "      <td>11410000</td>\n",
       "      <td>7420</td>\n",
       "      <td>4</td>\n",
       "      <td>1</td>\n",
       "      <td>2</td>\n",
       "      <td>yes</td>\n",
       "      <td>yes</td>\n",
       "      <td>yes</td>\n",
       "      <td>no</td>\n",
       "      <td>yes</td>\n",
       "      <td>2</td>\n",
       "      <td>no</td>\n",
       "      <td>furnished</td>\n",
       "    </tr>\n",
       "  </tbody>\n",
       "</table>\n",
       "</div>"
      ],
      "text/plain": [
       "      price  area  bedrooms  bathrooms  stories mainroad guestroom basement  \\\n",
       "0  13300000  7420         4          2        3      yes        no       no   \n",
       "1  12250000  8960         4          4        4      yes        no       no   \n",
       "2  12250000  9960         3          2        2      yes        no      yes   \n",
       "3  12215000  7500         4          2        2      yes        no      yes   \n",
       "4  11410000  7420         4          1        2      yes       yes      yes   \n",
       "\n",
       "  hotwaterheating airconditioning  parking prefarea furnishingstatus  \n",
       "0              no             yes        2      yes        furnished  \n",
       "1              no             yes        3       no        furnished  \n",
       "2              no              no        2      yes   semi-furnished  \n",
       "3              no             yes        3      yes        furnished  \n",
       "4              no             yes        2       no        furnished  "
      ]
     },
     "execution_count": 7,
     "metadata": {},
     "output_type": "execute_result"
    }
   ],
   "source": [
    "data.head()"
   ]
  },
  {
   "cell_type": "code",
   "execution_count": 8,
   "id": "594e423d",
   "metadata": {
    "execution": {
     "iopub.execute_input": "2023-11-08T14:26:41.867474Z",
     "iopub.status.busy": "2023-11-08T14:26:41.867165Z",
     "iopub.status.idle": "2023-11-08T14:26:41.877318Z",
     "shell.execute_reply": "2023-11-08T14:26:41.875933Z"
    },
    "papermill": {
     "duration": 0.01801,
     "end_time": "2023-11-08T14:26:41.879976",
     "exception": false,
     "start_time": "2023-11-08T14:26:41.861966",
     "status": "completed"
    },
    "tags": []
   },
   "outputs": [],
   "source": [
    "data.replace(to_replace= {'yes' : 1, 'no': 0}, inplace=True)\n",
    "data.replace(to_replace = {'unfurnished': 0, 'semi-furnished': 1, 'furnished' : 2}, inplace=True)"
   ]
  },
  {
   "cell_type": "code",
   "execution_count": 9,
   "id": "195d47ce",
   "metadata": {
    "execution": {
     "iopub.execute_input": "2023-11-08T14:26:41.892604Z",
     "iopub.status.busy": "2023-11-08T14:26:41.892241Z",
     "iopub.status.idle": "2023-11-08T14:26:41.906933Z",
     "shell.execute_reply": "2023-11-08T14:26:41.905607Z"
    },
    "papermill": {
     "duration": 0.023476,
     "end_time": "2023-11-08T14:26:41.908954",
     "exception": false,
     "start_time": "2023-11-08T14:26:41.885478",
     "status": "completed"
    },
    "tags": []
   },
   "outputs": [],
   "source": [
    "target = 'price'\n",
    "X = data.drop(columns= target)\n",
    "y = data[target]"
   ]
  },
  {
   "cell_type": "code",
   "execution_count": 10,
   "id": "1113027e",
   "metadata": {
    "execution": {
     "iopub.execute_input": "2023-11-08T14:26:41.919401Z",
     "iopub.status.busy": "2023-11-08T14:26:41.918965Z",
     "iopub.status.idle": "2023-11-08T14:26:41.926001Z",
     "shell.execute_reply": "2023-11-08T14:26:41.924928Z"
    },
    "papermill": {
     "duration": 0.01453,
     "end_time": "2023-11-08T14:26:41.927904",
     "exception": false,
     "start_time": "2023-11-08T14:26:41.913374",
     "status": "completed"
    },
    "tags": []
   },
   "outputs": [],
   "source": [
    "# Split the data into training and testing sets\n",
    "X_train, X_test, y_train, y_test = train_test_split(X, y, test_size=0.2, random_state=42)"
   ]
  },
  {
   "cell_type": "code",
   "execution_count": 11,
   "id": "176f515f",
   "metadata": {
    "execution": {
     "iopub.execute_input": "2023-11-08T14:26:41.937726Z",
     "iopub.status.busy": "2023-11-08T14:26:41.937341Z",
     "iopub.status.idle": "2023-11-08T14:26:41.943058Z",
     "shell.execute_reply": "2023-11-08T14:26:41.941869Z"
    },
    "papermill": {
     "duration": 0.012816,
     "end_time": "2023-11-08T14:26:41.944808",
     "exception": false,
     "start_time": "2023-11-08T14:26:41.931992",
     "status": "completed"
    },
    "tags": []
   },
   "outputs": [
    {
     "name": "stdout",
     "output_type": "stream",
     "text": [
      "(436, 12)\n",
      "(109, 12)\n"
     ]
    }
   ],
   "source": [
    "print(X_train.shape)\n",
    "print(X_test.shape)"
   ]
  },
  {
   "cell_type": "code",
   "execution_count": 12,
   "id": "63cedf0d",
   "metadata": {
    "execution": {
     "iopub.execute_input": "2023-11-08T14:26:41.956239Z",
     "iopub.status.busy": "2023-11-08T14:26:41.955522Z",
     "iopub.status.idle": "2023-11-08T14:26:41.965059Z",
     "shell.execute_reply": "2023-11-08T14:26:41.964281Z"
    },
    "papermill": {
     "duration": 0.01815,
     "end_time": "2023-11-08T14:26:41.967242",
     "exception": false,
     "start_time": "2023-11-08T14:26:41.949092",
     "status": "completed"
    },
    "tags": []
   },
   "outputs": [],
   "source": [
    "# Create a StandardScaler instance\n",
    "scaler = StandardScaler()\n",
    "\n",
    "# Fit and transform the scaler on the training data\n",
    "X_train_scaled = scaler.fit_transform(X_train)\n",
    "\n",
    "# Use the same scaler to transform the testing data\n",
    "X_test_scaled = scaler.transform(X_test)\n"
   ]
  },
  {
   "cell_type": "code",
   "execution_count": 13,
   "id": "bc00cb22",
   "metadata": {
    "execution": {
     "iopub.execute_input": "2023-11-08T14:26:41.977501Z",
     "iopub.status.busy": "2023-11-08T14:26:41.976911Z",
     "iopub.status.idle": "2023-11-08T14:26:42.005804Z",
     "shell.execute_reply": "2023-11-08T14:26:42.004897Z"
    },
    "papermill": {
     "duration": 0.036129,
     "end_time": "2023-11-08T14:26:42.007881",
     "exception": false,
     "start_time": "2023-11-08T14:26:41.971752",
     "status": "completed"
    },
    "tags": []
   },
   "outputs": [],
   "source": [
    "# Create and train the linear regression model\n",
    "model = LinearRegression()\n",
    "model.fit(X_train, y_train)\n",
    "\n",
    "# Make predictions on the test set\n",
    "y_pred = model.predict(X_test)\n"
   ]
  },
  {
   "cell_type": "code",
   "execution_count": 14,
   "id": "9c9a63c2",
   "metadata": {
    "execution": {
     "iopub.execute_input": "2023-11-08T14:26:42.018346Z",
     "iopub.status.busy": "2023-11-08T14:26:42.017700Z",
     "iopub.status.idle": "2023-11-08T14:26:42.029098Z",
     "shell.execute_reply": "2023-11-08T14:26:42.028158Z"
    },
    "papermill": {
     "duration": 0.019192,
     "end_time": "2023-11-08T14:26:42.031505",
     "exception": false,
     "start_time": "2023-11-08T14:26:42.012313",
     "status": "completed"
    },
    "tags": []
   },
   "outputs": [
    {
     "name": "stdout",
     "output_type": "stream",
     "text": [
      "Mean Absolute Error (MAE): 979679.6912959901\n",
      "Mean Squared Error (MSE): 1771751116594.0352\n",
      "R-squared (R²) Score: 0.6494754192267803\n"
     ]
    }
   ],
   "source": [
    "# Calculate the Mean Absolute Error (MAE)\n",
    "mae = mean_absolute_error(y_test, y_pred)\n",
    "\n",
    "# Calculate the Mean Squared Error (MSE)\n",
    "mse = mean_squared_error(y_test, y_pred)\n",
    "\n",
    "# Calculate the R-squared (R²) score\n",
    "r_squared = r2_score(y_test, y_pred)\n",
    "\n",
    "print(f\"Mean Absolute Error (MAE): {mae}\")\n",
    "print(f\"Mean Squared Error (MSE): {mse}\")\n",
    "print(f\"R-squared (R²) Score: {r_squared}\")"
   ]
  }
 ],
 "metadata": {
  "kernelspec": {
   "display_name": "Python 3",
   "language": "python",
   "name": "python3"
  },
  "language_info": {
   "codemirror_mode": {
    "name": "ipython",
    "version": 3
   },
   "file_extension": ".py",
   "mimetype": "text/x-python",
   "name": "python",
   "nbconvert_exporter": "python",
   "pygments_lexer": "ipython3",
   "version": "3.10.12"
  },
  "papermill": {
   "default_parameters": {},
   "duration": 5.309822,
   "end_time": "2023-11-08T14:26:42.556711",
   "environment_variables": {},
   "exception": null,
   "input_path": "__notebook__.ipynb",
   "output_path": "__notebook__.ipynb",
   "parameters": {},
   "start_time": "2023-11-08T14:26:37.246889",
   "version": "2.4.0"
  }
 },
 "nbformat": 4,
 "nbformat_minor": 5
}
